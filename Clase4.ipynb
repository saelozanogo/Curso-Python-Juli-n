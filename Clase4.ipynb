{
 "cells": [
  {
   "cell_type": "markdown",
   "metadata": {},
   "source": [
    "# Estructuras de datos"
   ]
  },
  {
   "cell_type": "markdown",
   "metadata": {},
   "source": [
    "## Listas"
   ]
  },
  {
   "cell_type": "code",
   "execution_count": 1,
   "metadata": {
    "collapsed": true
   },
   "outputs": [],
   "source": [
    "lenguajes = [\"C\", \"C++\", \"Python\", \"Java\"]"
   ]
  },
  {
   "cell_type": "code",
   "execution_count": 2,
   "metadata": {},
   "outputs": [
    {
     "data": {
      "text/plain": [
       "['C', 'C++', 'Python', 'Java']"
      ]
     },
     "execution_count": 2,
     "metadata": {},
     "output_type": "execute_result"
    }
   ],
   "source": [
    "lenguajes"
   ]
  },
  {
   "cell_type": "code",
   "execution_count": 3,
   "metadata": {
    "collapsed": true
   },
   "outputs": [],
   "source": [
    "enteros = [3, 187, 12, 32, 53, 21398]"
   ]
  },
  {
   "cell_type": "code",
   "execution_count": 4,
   "metadata": {},
   "outputs": [
    {
     "data": {
      "text/plain": [
       "[3, 187, 12, 32, 53, 21398]"
      ]
     },
     "execution_count": 4,
     "metadata": {},
     "output_type": "execute_result"
    }
   ],
   "source": [
    "enteros"
   ]
  },
  {
   "cell_type": "code",
   "execution_count": 5,
   "metadata": {
    "collapsed": true
   },
   "outputs": [],
   "source": [
    "l = [\"string\", 4, 5.0, True]"
   ]
  },
  {
   "cell_type": "code",
   "execution_count": 6,
   "metadata": {},
   "outputs": [
    {
     "data": {
      "text/plain": [
       "['string', 4, 5.0, True]"
      ]
     },
     "execution_count": 6,
     "metadata": {},
     "output_type": "execute_result"
    }
   ],
   "source": [
    "l"
   ]
  },
  {
   "cell_type": "code",
   "execution_count": 7,
   "metadata": {},
   "outputs": [
    {
     "data": {
      "text/plain": [
       "bool"
      ]
     },
     "execution_count": 7,
     "metadata": {},
     "output_type": "execute_result"
    }
   ],
   "source": [
    "type(True)"
   ]
  },
  {
   "cell_type": "markdown",
   "metadata": {},
   "source": [
    "¿Cómo accedemos a los elementos de una lista?\n",
    "\n",
    "En Python, las estructuras de datos (listas, tuplas, diccionarios) tienen indexación en base cero. La posición 0 contiene el primer elemento, la posición 1 el segundo, etc."
   ]
  },
  {
   "cell_type": "markdown",
   "metadata": {},
   "source": [
    "### Indexación"
   ]
  },
  {
   "cell_type": "code",
   "execution_count": 8,
   "metadata": {},
   "outputs": [
    {
     "data": {
      "text/plain": [
       "'Python'"
      ]
     },
     "execution_count": 8,
     "metadata": {},
     "output_type": "execute_result"
    }
   ],
   "source": [
    "lenguajes[2]"
   ]
  },
  {
   "cell_type": "code",
   "execution_count": 9,
   "metadata": {},
   "outputs": [
    {
     "data": {
      "text/plain": [
       "'C'"
      ]
     },
     "execution_count": 9,
     "metadata": {},
     "output_type": "execute_result"
    }
   ],
   "source": [
    "lenguajes[0]"
   ]
  },
  {
   "cell_type": "code",
   "execution_count": 10,
   "metadata": {},
   "outputs": [
    {
     "ename": "IndexError",
     "evalue": "list index out of range",
     "output_type": "error",
     "traceback": [
      "\u001b[0;31m---------------------------------------------------------------------------\u001b[0m",
      "\u001b[0;31mIndexError\u001b[0m                                Traceback (most recent call last)",
      "\u001b[0;32m<ipython-input-10-b7134348f7dd>\u001b[0m in \u001b[0;36m<module>\u001b[0;34m()\u001b[0m\n\u001b[0;32m----> 1\u001b[0;31m \u001b[0mlenguajes\u001b[0m\u001b[0;34m[\u001b[0m\u001b[0;36m4\u001b[0m\u001b[0;34m]\u001b[0m\u001b[0;34m\u001b[0m\u001b[0m\n\u001b[0m",
      "\u001b[0;31mIndexError\u001b[0m: list index out of range"
     ]
    }
   ],
   "source": [
    "lenguajes[4]"
   ]
  },
  {
   "cell_type": "code",
   "execution_count": 11,
   "metadata": {},
   "outputs": [
    {
     "data": {
      "text/plain": [
       "'Java'"
      ]
     },
     "execution_count": 11,
     "metadata": {},
     "output_type": "execute_result"
    }
   ],
   "source": [
    "lenguajes[-1]"
   ]
  },
  {
   "cell_type": "code",
   "execution_count": 12,
   "metadata": {},
   "outputs": [
    {
     "data": {
      "text/plain": [
       "'Python'"
      ]
     },
     "execution_count": 12,
     "metadata": {},
     "output_type": "execute_result"
    }
   ],
   "source": [
    "lenguajes[-2]"
   ]
  },
  {
   "cell_type": "code",
   "execution_count": 13,
   "metadata": {
    "collapsed": true
   },
   "outputs": [],
   "source": [
    "lenguajes[2] = \"Python 3\""
   ]
  },
  {
   "cell_type": "code",
   "execution_count": 14,
   "metadata": {},
   "outputs": [
    {
     "data": {
      "text/plain": [
       "['C', 'C++', 'Python 3', 'Java']"
      ]
     },
     "execution_count": 14,
     "metadata": {},
     "output_type": "execute_result"
    }
   ],
   "source": [
    "lenguajes"
   ]
  },
  {
   "cell_type": "markdown",
   "metadata": {},
   "source": [
    "Las listas:\n",
    "- Soportan diferentes tipos de objetos.\n",
    "- Son estructuras de datos en las cuales el orden importa.\n",
    "- Son mutables (editables, modificables).\n"
   ]
  },
  {
   "cell_type": "markdown",
   "metadata": {},
   "source": [
    "### Slicing"
   ]
  },
  {
   "cell_type": "code",
   "execution_count": 15,
   "metadata": {},
   "outputs": [
    {
     "data": {
      "text/plain": [
       "['C++', 'Python 3']"
      ]
     },
     "execution_count": 15,
     "metadata": {},
     "output_type": "execute_result"
    }
   ],
   "source": [
    "lenguajes[1:3]  # No incluye el elemento en la posición anterior al cierre de corchetes"
   ]
  },
  {
   "cell_type": "code",
   "execution_count": 16,
   "metadata": {},
   "outputs": [
    {
     "data": {
      "text/plain": [
       "['C', 'C++', 'Python 3', 'Java']"
      ]
     },
     "execution_count": 16,
     "metadata": {},
     "output_type": "execute_result"
    }
   ],
   "source": [
    "lenguajes[0:4]"
   ]
  },
  {
   "cell_type": "code",
   "execution_count": 17,
   "metadata": {},
   "outputs": [
    {
     "data": {
      "text/plain": [
       "['C', 'C++', 'Python 3', 'Java']"
      ]
     },
     "execution_count": 17,
     "metadata": {},
     "output_type": "execute_result"
    }
   ],
   "source": [
    "lenguajes[:4]"
   ]
  },
  {
   "cell_type": "code",
   "execution_count": 18,
   "metadata": {},
   "outputs": [
    {
     "data": {
      "text/plain": [
       "['C++', 'Python 3', 'Java']"
      ]
     },
     "execution_count": 18,
     "metadata": {},
     "output_type": "execute_result"
    }
   ],
   "source": [
    "lenguajes[1:]"
   ]
  },
  {
   "cell_type": "code",
   "execution_count": 19,
   "metadata": {},
   "outputs": [
    {
     "data": {
      "text/plain": [
       "['C', 'Python 3']"
      ]
     },
     "execution_count": 19,
     "metadata": {},
     "output_type": "execute_result"
    }
   ],
   "source": [
    "lenguajes[0:4:2]"
   ]
  },
  {
   "cell_type": "code",
   "execution_count": 20,
   "metadata": {},
   "outputs": [
    {
     "data": {
      "text/plain": [
       "['C', 'C++', 'Python 3', 'Java']"
      ]
     },
     "execution_count": 20,
     "metadata": {},
     "output_type": "execute_result"
    }
   ],
   "source": [
    "lenguajes[0:4:1]"
   ]
  },
  {
   "cell_type": "code",
   "execution_count": 21,
   "metadata": {},
   "outputs": [
    {
     "data": {
      "text/plain": [
       "['C', 'Java']"
      ]
     },
     "execution_count": 21,
     "metadata": {},
     "output_type": "execute_result"
    }
   ],
   "source": [
    "lenguajes[0:4:3]"
   ]
  },
  {
   "cell_type": "code",
   "execution_count": 22,
   "metadata": {},
   "outputs": [
    {
     "data": {
      "text/plain": [
       "['C']"
      ]
     },
     "execution_count": 22,
     "metadata": {},
     "output_type": "execute_result"
    }
   ],
   "source": [
    "lenguajes[0:4:4]"
   ]
  },
  {
   "cell_type": "markdown",
   "metadata": {},
   "source": [
    "Ya sabemos podemos iterar sobre una lista."
   ]
  },
  {
   "cell_type": "code",
   "execution_count": 23,
   "metadata": {},
   "outputs": [
    {
     "name": "stdout",
     "output_type": "stream",
     "text": [
      "C\n",
      "C++\n",
      "Python 3\n",
      "Java\n"
     ]
    }
   ],
   "source": [
    "for x in lenguajes:\n",
    "    print(x)"
   ]
  },
  {
   "cell_type": "code",
   "execution_count": 24,
   "metadata": {},
   "outputs": [
    {
     "name": "stdout",
     "output_type": "stream",
     "text": [
      "9\n",
      "34969\n",
      "144\n",
      "1024\n",
      "2809\n",
      "457874404\n"
     ]
    }
   ],
   "source": [
    "for x in enteros:\n",
    "    print(x**2)"
   ]
  },
  {
   "cell_type": "code",
   "execution_count": 25,
   "metadata": {},
   "outputs": [
    {
     "name": "stdout",
     "output_type": "stream",
     "text": [
      "['string', 4, 5.0, True]\n"
     ]
    }
   ],
   "source": [
    "print(l)"
   ]
  },
  {
   "cell_type": "code",
   "execution_count": 26,
   "metadata": {
    "scrolled": true
   },
   "outputs": [
    {
     "name": "stdout",
     "output_type": "stream",
     "text": [
      "\n",
      "string cualquier cosa\n",
      "\n",
      "4 cualquier cosa\n",
      "\n",
      "5.0 cualquier cosa\n",
      "\n",
      "True cualquier cosa\n"
     ]
    }
   ],
   "source": [
    "for asdf in l:\n",
    "    print(\"\\n\" + str(asdf) + \" cualquier cosa\")"
   ]
  },
  {
   "cell_type": "code",
   "execution_count": 27,
   "metadata": {},
   "outputs": [
    {
     "name": "stdout",
     "output_type": "stream",
     "text": [
      "\n",
      " string cualquier cosa\n",
      "\n",
      " 4 cualquier cosa\n",
      "\n",
      " 5.0 cualquier cosa\n",
      "\n",
      " True cualquier cosa\n"
     ]
    }
   ],
   "source": [
    "# de manera equivalente:\n",
    "for asdf in l:\n",
    "    print(\"\\n\", str(asdf), \"cualquier cosa\")"
   ]
  },
  {
   "cell_type": "markdown",
   "metadata": {},
   "source": [
    "\"\\n\" es \"new line\"."
   ]
  },
  {
   "cell_type": "code",
   "execution_count": 28,
   "metadata": {
    "scrolled": true
   },
   "outputs": [
    {
     "data": {
      "text/plain": [
       "['string', 4, 5.0, True]"
      ]
     },
     "execution_count": 28,
     "metadata": {},
     "output_type": "execute_result"
    }
   ],
   "source": [
    "l  # La lista original no fue modificada"
   ]
  },
  {
   "cell_type": "code",
   "execution_count": 29,
   "metadata": {},
   "outputs": [
    {
     "data": {
      "text/plain": [
       "float"
      ]
     },
     "execution_count": 29,
     "metadata": {},
     "output_type": "execute_result"
    }
   ],
   "source": [
    "type(l[2])"
   ]
  },
  {
   "cell_type": "markdown",
   "metadata": {},
   "source": [
    "¿Qué pasa si el loop no incluye la función str?"
   ]
  },
  {
   "cell_type": "code",
   "execution_count": 30,
   "metadata": {},
   "outputs": [
    {
     "data": {
      "text/plain": [
       "['string', 4, 5.0, 'True']"
      ]
     },
     "execution_count": 30,
     "metadata": {},
     "output_type": "execute_result"
    }
   ],
   "source": [
    "l[3] = \"True\"\n",
    "l"
   ]
  },
  {
   "cell_type": "code",
   "execution_count": 31,
   "metadata": {},
   "outputs": [
    {
     "name": "stdout",
     "output_type": "stream",
     "text": [
      "\n",
      " string cualquier cosa\n",
      "\n",
      " 4 cualquier cosa\n",
      "\n",
      " 5.0 cualquier cosa\n",
      "\n",
      " True cualquier cosa\n"
     ]
    }
   ],
   "source": [
    "# de manera equivalente:\n",
    "for asdf in l:\n",
    "    print(\"\\n\", asdf, \"cualquier cosa\")"
   ]
  },
  {
   "cell_type": "markdown",
   "metadata": {},
   "source": [
    "----"
   ]
  },
  {
   "cell_type": "markdown",
   "metadata": {},
   "source": [
    "Asignación múltiple:"
   ]
  },
  {
   "cell_type": "code",
   "execution_count": 32,
   "metadata": {
    "collapsed": true
   },
   "outputs": [],
   "source": [
    "a, b = 2, \"asdf\""
   ]
  },
  {
   "cell_type": "code",
   "execution_count": 33,
   "metadata": {},
   "outputs": [
    {
     "data": {
      "text/plain": [
       "2"
      ]
     },
     "execution_count": 33,
     "metadata": {},
     "output_type": "execute_result"
    }
   ],
   "source": [
    "a"
   ]
  },
  {
   "cell_type": "code",
   "execution_count": 34,
   "metadata": {},
   "outputs": [
    {
     "data": {
      "text/plain": [
       "'asdf'"
      ]
     },
     "execution_count": 34,
     "metadata": {},
     "output_type": "execute_result"
    }
   ],
   "source": [
    "b"
   ]
  },
  {
   "cell_type": "markdown",
   "metadata": {},
   "source": [
    "----"
   ]
  },
  {
   "cell_type": "markdown",
   "metadata": {},
   "source": [
    "Al iterar sobre una lista, a veces queremos hacerlo sobre los elementos de la lista, a veces sobre sus índices y a veces sobre ambos."
   ]
  },
  {
   "cell_type": "code",
   "execution_count": 35,
   "metadata": {},
   "outputs": [
    {
     "name": "stdout",
     "output_type": "stream",
     "text": [
      "0 C\n",
      "1 C++\n",
      "2 Python 3\n",
      "3 Java\n"
     ]
    }
   ],
   "source": [
    "for índice, elemento in enumerate(lenguajes):\n",
    "    print(índice, elemento)"
   ]
  },
  {
   "cell_type": "code",
   "execution_count": 36,
   "metadata": {
    "scrolled": true
   },
   "outputs": [
    {
     "name": "stdout",
     "output_type": "stream",
     "text": [
      "0 C\n",
      "1 C++\n",
      "2 Python 3\n",
      "3 Java\n"
     ]
    }
   ],
   "source": [
    "for i, x in enumerate(lenguajes):\n",
    "    print(i, x)"
   ]
  },
  {
   "cell_type": "code",
   "execution_count": 41,
   "metadata": {},
   "outputs": [
    {
     "name": "stdout",
     "output_type": "stream",
     "text": [
      "0 C\n",
      "1 C++\n",
      "2 Python 3\n",
      "3 Java\n"
     ]
    }
   ],
   "source": [
    "# Otra forma de hacerlo (\"not Pythonic\")\n",
    "\n",
    "for i in range(len(lenguajes)):\n",
    "    print(i, lenguajes[i])"
   ]
  },
  {
   "cell_type": "markdown",
   "metadata": {},
   "source": [
    "-----"
   ]
  },
  {
   "cell_type": "code",
   "execution_count": 43,
   "metadata": {},
   "outputs": [
    {
     "data": {
      "text/plain": [
       "[0, 1, 2, 3]"
      ]
     },
     "execution_count": 43,
     "metadata": {},
     "output_type": "execute_result"
    }
   ],
   "source": [
    "list(range(0,4))"
   ]
  },
  {
   "cell_type": "code",
   "execution_count": 44,
   "metadata": {},
   "outputs": [
    {
     "data": {
      "text/plain": [
       "range(0, 4)"
      ]
     },
     "execution_count": 44,
     "metadata": {},
     "output_type": "execute_result"
    }
   ],
   "source": [
    "range(4)"
   ]
  },
  {
   "cell_type": "code",
   "execution_count": 45,
   "metadata": {},
   "outputs": [
    {
     "data": {
      "text/plain": [
       "4"
      ]
     },
     "execution_count": 45,
     "metadata": {},
     "output_type": "execute_result"
    }
   ],
   "source": [
    "len(lenguajes)"
   ]
  },
  {
   "cell_type": "code",
   "execution_count": 52,
   "metadata": {
    "collapsed": true
   },
   "outputs": [],
   "source": [
    "# Construir una lista de 10000 numeros aleatorios (entre 0 y 9)\n",
    "\n",
    "import random  # importar módulo (librería)\n",
    "\n",
    "N = 10000\n",
    "random_numbers = []  # Inicializando lista vacía\n",
    "for i in range(N):\n",
    "    random_numbers.append(random.randint(0,9))"
   ]
  },
  {
   "cell_type": "code",
   "execution_count": 47,
   "metadata": {
    "collapsed": true
   },
   "outputs": [
    {
     "data": {
      "text/plain": [
       "[7,\n",
       " 3,\n",
       " 9,\n",
       " 7,\n",
       " 9,\n",
       " 7,\n",
       " 3,\n",
       " 7,\n",
       " 4,\n",
       " 3,\n",
       " 9,\n",
       " 5,\n",
       " 3,\n",
       " 4,\n",
       " 0,\n",
       " 4,\n",
       " 0,\n",
       " 0,\n",
       " 1,\n",
       " 6,\n",
       " 1,\n",
       " 2,\n",
       " 8,\n",
       " 8,\n",
       " 1,\n",
       " 3,\n",
       " 3,\n",
       " 9,\n",
       " 7,\n",
       " 5,\n",
       " 1,\n",
       " 0,\n",
       " 3,\n",
       " 0,\n",
       " 2,\n",
       " 1,\n",
       " 1,\n",
       " 0,\n",
       " 5,\n",
       " 3,\n",
       " 3,\n",
       " 7,\n",
       " 5,\n",
       " 7,\n",
       " 3,\n",
       " 7,\n",
       " 9,\n",
       " 2,\n",
       " 1,\n",
       " 8,\n",
       " 9,\n",
       " 1,\n",
       " 0,\n",
       " 6,\n",
       " 9,\n",
       " 8,\n",
       " 4,\n",
       " 1,\n",
       " 8,\n",
       " 9,\n",
       " 1,\n",
       " 8,\n",
       " 1,\n",
       " 3,\n",
       " 9,\n",
       " 2,\n",
       " 6,\n",
       " 3,\n",
       " 8,\n",
       " 7,\n",
       " 5,\n",
       " 1,\n",
       " 1,\n",
       " 3,\n",
       " 6,\n",
       " 1,\n",
       " 1,\n",
       " 2,\n",
       " 0,\n",
       " 9,\n",
       " 8,\n",
       " 3,\n",
       " 7,\n",
       " 8,\n",
       " 6,\n",
       " 5,\n",
       " 0,\n",
       " 5,\n",
       " 8,\n",
       " 8,\n",
       " 1,\n",
       " 4,\n",
       " 6,\n",
       " 2,\n",
       " 7,\n",
       " 4,\n",
       " 6,\n",
       " 9,\n",
       " 9,\n",
       " 7,\n",
       " 5,\n",
       " 8,\n",
       " 8,\n",
       " 8,\n",
       " 3,\n",
       " 9,\n",
       " 6,\n",
       " 3,\n",
       " 7,\n",
       " 8,\n",
       " 9,\n",
       " 0,\n",
       " 6,\n",
       " 3,\n",
       " 7,\n",
       " 1,\n",
       " 9,\n",
       " 3,\n",
       " 3,\n",
       " 0,\n",
       " 8,\n",
       " 1,\n",
       " 6,\n",
       " 8,\n",
       " 7,\n",
       " 1,\n",
       " 9,\n",
       " 9,\n",
       " 8,\n",
       " 7,\n",
       " 7,\n",
       " 8,\n",
       " 3,\n",
       " 8,\n",
       " 3,\n",
       " 1,\n",
       " 8,\n",
       " 8,\n",
       " 9,\n",
       " 3,\n",
       " 7,\n",
       " 3,\n",
       " 4,\n",
       " 0,\n",
       " 7,\n",
       " 0,\n",
       " 9,\n",
       " 2,\n",
       " 1,\n",
       " 0,\n",
       " 3,\n",
       " 4,\n",
       " 4,\n",
       " 5,\n",
       " 1,\n",
       " 1,\n",
       " 4,\n",
       " 5,\n",
       " 5,\n",
       " 9,\n",
       " 3,\n",
       " 1,\n",
       " 1,\n",
       " 1,\n",
       " 5,\n",
       " 3,\n",
       " 5,\n",
       " 0,\n",
       " 9,\n",
       " 3,\n",
       " 6,\n",
       " 0,\n",
       " 0,\n",
       " 8,\n",
       " 0,\n",
       " 4,\n",
       " 0,\n",
       " 9,\n",
       " 1,\n",
       " 9,\n",
       " 2,\n",
       " 6,\n",
       " 8,\n",
       " 4,\n",
       " 1,\n",
       " 6,\n",
       " 1,\n",
       " 4,\n",
       " 3,\n",
       " 9,\n",
       " 1,\n",
       " 4,\n",
       " 1,\n",
       " 4,\n",
       " 0,\n",
       " 8,\n",
       " 7,\n",
       " 3,\n",
       " 9,\n",
       " 0,\n",
       " 1,\n",
       " 6,\n",
       " 5,\n",
       " 7,\n",
       " 9,\n",
       " 0,\n",
       " 8,\n",
       " 9,\n",
       " 8,\n",
       " 4,\n",
       " 8,\n",
       " 4,\n",
       " 6,\n",
       " 5,\n",
       " 1,\n",
       " 4,\n",
       " 1,\n",
       " 2,\n",
       " 4,\n",
       " 8,\n",
       " 4,\n",
       " 3,\n",
       " 9,\n",
       " 9,\n",
       " 3,\n",
       " 4,\n",
       " 4,\n",
       " 0,\n",
       " 2,\n",
       " 7,\n",
       " 8,\n",
       " 9,\n",
       " 9,\n",
       " 7,\n",
       " 8,\n",
       " 8,\n",
       " 5,\n",
       " 0,\n",
       " 0,\n",
       " 5,\n",
       " 0,\n",
       " 5,\n",
       " 7,\n",
       " 7,\n",
       " 6,\n",
       " 8,\n",
       " 1,\n",
       " 4,\n",
       " 1,\n",
       " 5,\n",
       " 9,\n",
       " 3,\n",
       " 0,\n",
       " 6,\n",
       " 2,\n",
       " 8,\n",
       " 8,\n",
       " 9,\n",
       " 0,\n",
       " 7,\n",
       " 1,\n",
       " 9,\n",
       " 0,\n",
       " 2,\n",
       " 0,\n",
       " 2,\n",
       " 3,\n",
       " 0,\n",
       " 2,\n",
       " 3,\n",
       " 5,\n",
       " 6,\n",
       " 6,\n",
       " 2,\n",
       " 5,\n",
       " 5,\n",
       " 9,\n",
       " 8,\n",
       " 9,\n",
       " 0,\n",
       " 8,\n",
       " 8,\n",
       " 8,\n",
       " 5,\n",
       " 3,\n",
       " 2,\n",
       " 6,\n",
       " 9,\n",
       " 6,\n",
       " 5,\n",
       " 3,\n",
       " 8,\n",
       " 6,\n",
       " 3,\n",
       " 5,\n",
       " 7,\n",
       " 8,\n",
       " 8,\n",
       " 6,\n",
       " 7,\n",
       " 8,\n",
       " 6,\n",
       " 7,\n",
       " 7,\n",
       " 4,\n",
       " 6,\n",
       " 7,\n",
       " 9,\n",
       " 2,\n",
       " 4,\n",
       " 4,\n",
       " 6,\n",
       " 1,\n",
       " 1,\n",
       " 4,\n",
       " 4,\n",
       " 4,\n",
       " 7,\n",
       " 0,\n",
       " 9,\n",
       " 3,\n",
       " 0,\n",
       " 8,\n",
       " 0,\n",
       " 3,\n",
       " 4,\n",
       " 6,\n",
       " 2,\n",
       " 0,\n",
       " 3,\n",
       " 4,\n",
       " 2,\n",
       " 8,\n",
       " 6,\n",
       " 7,\n",
       " 3,\n",
       " 9,\n",
       " 1,\n",
       " 6,\n",
       " 0,\n",
       " 9,\n",
       " 5,\n",
       " 1,\n",
       " 7,\n",
       " 2,\n",
       " 6,\n",
       " 0,\n",
       " 2,\n",
       " 6,\n",
       " 1,\n",
       " 4,\n",
       " 0,\n",
       " 7,\n",
       " 2,\n",
       " 0,\n",
       " 3,\n",
       " 4,\n",
       " 8,\n",
       " 8,\n",
       " 7,\n",
       " 2,\n",
       " 8,\n",
       " 3,\n",
       " 2,\n",
       " 7,\n",
       " 2,\n",
       " 4,\n",
       " 3,\n",
       " 7,\n",
       " 7,\n",
       " 4,\n",
       " 4,\n",
       " 1,\n",
       " 5,\n",
       " 3,\n",
       " 6,\n",
       " 9,\n",
       " 8,\n",
       " 3,\n",
       " 9,\n",
       " 2,\n",
       " 9,\n",
       " 1,\n",
       " 9,\n",
       " 3,\n",
       " 2,\n",
       " 6,\n",
       " 7,\n",
       " 2,\n",
       " 9,\n",
       " 7,\n",
       " 0,\n",
       " 4,\n",
       " 8,\n",
       " 3,\n",
       " 1,\n",
       " 4,\n",
       " 4,\n",
       " 2,\n",
       " 3,\n",
       " 6,\n",
       " 7,\n",
       " 2,\n",
       " 1,\n",
       " 6,\n",
       " 6,\n",
       " 7,\n",
       " 4,\n",
       " 0,\n",
       " 2,\n",
       " 3,\n",
       " 0,\n",
       " 5,\n",
       " 2,\n",
       " 2,\n",
       " 5,\n",
       " 0,\n",
       " 0,\n",
       " 0,\n",
       " 9,\n",
       " 7,\n",
       " 5,\n",
       " 3,\n",
       " 8,\n",
       " 8,\n",
       " 1,\n",
       " 1,\n",
       " 4,\n",
       " 7,\n",
       " 7,\n",
       " 7,\n",
       " 6,\n",
       " 8,\n",
       " 7,\n",
       " 9,\n",
       " 0,\n",
       " 4,\n",
       " 6,\n",
       " 8,\n",
       " 6,\n",
       " 9,\n",
       " 0,\n",
       " 8,\n",
       " 1,\n",
       " 5,\n",
       " 0,\n",
       " 9,\n",
       " 4,\n",
       " 1,\n",
       " 0,\n",
       " 5,\n",
       " 6,\n",
       " 0,\n",
       " 5,\n",
       " 2,\n",
       " 5,\n",
       " 8,\n",
       " 5,\n",
       " 7,\n",
       " 8,\n",
       " 2,\n",
       " 5,\n",
       " 9,\n",
       " 7,\n",
       " 6,\n",
       " 1,\n",
       " 5,\n",
       " 5,\n",
       " 0,\n",
       " 5,\n",
       " 4,\n",
       " 7,\n",
       " 3,\n",
       " 2,\n",
       " 3,\n",
       " 5,\n",
       " 0,\n",
       " 2,\n",
       " 0,\n",
       " 9,\n",
       " 3,\n",
       " 9,\n",
       " 8,\n",
       " 3,\n",
       " 5,\n",
       " 3,\n",
       " 3,\n",
       " 0,\n",
       " 3,\n",
       " 9,\n",
       " 6,\n",
       " 6,\n",
       " 9,\n",
       " 3,\n",
       " 2,\n",
       " 2,\n",
       " 8,\n",
       " 0,\n",
       " 6,\n",
       " 2,\n",
       " 2,\n",
       " 0,\n",
       " 9,\n",
       " 1,\n",
       " 3,\n",
       " 7,\n",
       " 4,\n",
       " 1,\n",
       " 5,\n",
       " 9,\n",
       " 9,\n",
       " 1,\n",
       " 9,\n",
       " 4,\n",
       " 7,\n",
       " 5,\n",
       " 0,\n",
       " 1,\n",
       " 0,\n",
       " 8,\n",
       " 8,\n",
       " 7,\n",
       " 3,\n",
       " 9,\n",
       " 7,\n",
       " 5,\n",
       " 6,\n",
       " 2,\n",
       " 4,\n",
       " 7,\n",
       " 3,\n",
       " 2,\n",
       " 3,\n",
       " 6,\n",
       " 5,\n",
       " 8,\n",
       " 4,\n",
       " 6,\n",
       " 1,\n",
       " 3,\n",
       " 5,\n",
       " 6,\n",
       " 1,\n",
       " 4,\n",
       " 6,\n",
       " 4,\n",
       " 9,\n",
       " 0,\n",
       " 6,\n",
       " 2,\n",
       " 5,\n",
       " 2,\n",
       " 2,\n",
       " 4,\n",
       " 9,\n",
       " 8,\n",
       " 3,\n",
       " 5,\n",
       " 3,\n",
       " 3,\n",
       " 9,\n",
       " 8,\n",
       " 0,\n",
       " 1,\n",
       " 7,\n",
       " 4,\n",
       " 8,\n",
       " 1,\n",
       " 1,\n",
       " 1,\n",
       " 2,\n",
       " 0,\n",
       " 1,\n",
       " 3,\n",
       " 0,\n",
       " 0,\n",
       " 5,\n",
       " 7,\n",
       " 2,\n",
       " 5,\n",
       " 9,\n",
       " 8,\n",
       " 8,\n",
       " 8,\n",
       " 4,\n",
       " 3,\n",
       " 0,\n",
       " 6,\n",
       " 8,\n",
       " 9,\n",
       " 1,\n",
       " 5,\n",
       " 9,\n",
       " 9,\n",
       " 0,\n",
       " 6,\n",
       " 6,\n",
       " 2,\n",
       " 4,\n",
       " 5,\n",
       " 1,\n",
       " 1,\n",
       " 1,\n",
       " 9,\n",
       " 8,\n",
       " 9,\n",
       " 9,\n",
       " 8,\n",
       " 1,\n",
       " 1,\n",
       " 5,\n",
       " 4,\n",
       " 5,\n",
       " 2,\n",
       " 5,\n",
       " 9,\n",
       " 4,\n",
       " 0,\n",
       " 0,\n",
       " 8,\n",
       " 9,\n",
       " 1,\n",
       " 4,\n",
       " 8,\n",
       " 8,\n",
       " 5,\n",
       " 4,\n",
       " 5,\n",
       " 5,\n",
       " 7,\n",
       " 3,\n",
       " 8,\n",
       " 5,\n",
       " 4,\n",
       " 6,\n",
       " 4,\n",
       " 7,\n",
       " 0,\n",
       " 7,\n",
       " 7,\n",
       " 1,\n",
       " 3,\n",
       " 8,\n",
       " 7,\n",
       " 9,\n",
       " 0,\n",
       " 2,\n",
       " 4,\n",
       " 2,\n",
       " 2,\n",
       " 1,\n",
       " 9,\n",
       " 4,\n",
       " 4,\n",
       " 4,\n",
       " 0,\n",
       " 9,\n",
       " 4,\n",
       " 8,\n",
       " 3,\n",
       " 6,\n",
       " 4,\n",
       " 5,\n",
       " 8,\n",
       " 9,\n",
       " 0,\n",
       " 3,\n",
       " 8,\n",
       " 8,\n",
       " 9,\n",
       " 4,\n",
       " 2,\n",
       " 2,\n",
       " 7,\n",
       " 4,\n",
       " 8,\n",
       " 5,\n",
       " 9,\n",
       " 3,\n",
       " 5,\n",
       " 6,\n",
       " 2,\n",
       " 8,\n",
       " 7,\n",
       " 2,\n",
       " 3,\n",
       " 4,\n",
       " 9,\n",
       " 2,\n",
       " 9,\n",
       " 5,\n",
       " 9,\n",
       " 5,\n",
       " 3,\n",
       " 3,\n",
       " 4,\n",
       " 0,\n",
       " 9,\n",
       " 5,\n",
       " 5,\n",
       " 7,\n",
       " 1,\n",
       " 4,\n",
       " 4,\n",
       " 5,\n",
       " 5,\n",
       " 9,\n",
       " 0,\n",
       " 4,\n",
       " 1,\n",
       " 8,\n",
       " 4,\n",
       " 6,\n",
       " 4,\n",
       " 7,\n",
       " 4,\n",
       " 4,\n",
       " 8,\n",
       " 9,\n",
       " 5,\n",
       " 0,\n",
       " 0,\n",
       " 0,\n",
       " 8,\n",
       " 0,\n",
       " 4,\n",
       " 9,\n",
       " 2,\n",
       " 4,\n",
       " 2,\n",
       " 5,\n",
       " 1,\n",
       " 1,\n",
       " 7,\n",
       " 0,\n",
       " 7,\n",
       " 6,\n",
       " 9,\n",
       " 5,\n",
       " 3,\n",
       " 3,\n",
       " 8,\n",
       " 6,\n",
       " 0,\n",
       " 9,\n",
       " 5,\n",
       " 7,\n",
       " 4,\n",
       " 6,\n",
       " 7,\n",
       " 7,\n",
       " 4,\n",
       " 4,\n",
       " 2,\n",
       " 0,\n",
       " 5,\n",
       " 1,\n",
       " 0,\n",
       " 2,\n",
       " 1,\n",
       " 7,\n",
       " 4,\n",
       " 3,\n",
       " 8,\n",
       " 5,\n",
       " 5,\n",
       " 4,\n",
       " 0,\n",
       " 0,\n",
       " 1,\n",
       " 9,\n",
       " 8,\n",
       " 5,\n",
       " 1,\n",
       " 2,\n",
       " 7,\n",
       " 5,\n",
       " 6,\n",
       " 3,\n",
       " 9,\n",
       " 3,\n",
       " 7,\n",
       " 4,\n",
       " 7,\n",
       " 2,\n",
       " 6,\n",
       " 2,\n",
       " 6,\n",
       " 9,\n",
       " 3,\n",
       " 9,\n",
       " 9,\n",
       " 4,\n",
       " 5,\n",
       " 4,\n",
       " 3,\n",
       " 5,\n",
       " 1,\n",
       " 2,\n",
       " 7,\n",
       " 8,\n",
       " 7,\n",
       " 4,\n",
       " 3,\n",
       " 5,\n",
       " 7,\n",
       " 3,\n",
       " 2,\n",
       " 1,\n",
       " 5,\n",
       " 8,\n",
       " 1,\n",
       " 1,\n",
       " 0,\n",
       " 2,\n",
       " 5,\n",
       " 1,\n",
       " 2,\n",
       " 4,\n",
       " 2,\n",
       " 5,\n",
       " 7,\n",
       " 7,\n",
       " 4,\n",
       " 0,\n",
       " 9,\n",
       " 4,\n",
       " 9,\n",
       " 2,\n",
       " 7,\n",
       " 5,\n",
       " 2,\n",
       " 0,\n",
       " 4,\n",
       " 6,\n",
       " 8,\n",
       " 9,\n",
       " 3,\n",
       " 3,\n",
       " 3,\n",
       " 6,\n",
       " 0,\n",
       " 4,\n",
       " 3,\n",
       " 3,\n",
       " 3,\n",
       " 0,\n",
       " 3,\n",
       " 6,\n",
       " 5,\n",
       " 2,\n",
       " 1,\n",
       " 2,\n",
       " 7,\n",
       " 4,\n",
       " 6,\n",
       " 9,\n",
       " 6,\n",
       " 9,\n",
       " 2,\n",
       " 1,\n",
       " 1,\n",
       " 9,\n",
       " 7,\n",
       " 8,\n",
       " 4,\n",
       " 1,\n",
       " 9,\n",
       " 9,\n",
       " 1,\n",
       " 6,\n",
       " 6,\n",
       " 3,\n",
       " 7,\n",
       " 2,\n",
       " 4,\n",
       " 4,\n",
       " 5,\n",
       " 4,\n",
       " 3,\n",
       " 4,\n",
       " 5,\n",
       " 8,\n",
       " 5,\n",
       " 3,\n",
       " 6,\n",
       " 2,\n",
       " 9,\n",
       " 7,\n",
       " 4,\n",
       " 5,\n",
       " 9,\n",
       " 5,\n",
       " 1,\n",
       " 6,\n",
       " 7,\n",
       " 1,\n",
       " 9,\n",
       " 9,\n",
       " 7,\n",
       " 2,\n",
       " 7,\n",
       " 1,\n",
       " 6,\n",
       " 1,\n",
       " 7,\n",
       " 4,\n",
       " 0,\n",
       " 9,\n",
       " 9,\n",
       " 9,\n",
       " 2,\n",
       " 2,\n",
       " 7,\n",
       " 7,\n",
       " 3,\n",
       " 2,\n",
       " 6,\n",
       " 9,\n",
       " 4,\n",
       " 2,\n",
       " 5,\n",
       " 7,\n",
       " 5,\n",
       " 2,\n",
       " 2,\n",
       " 6,\n",
       " 3,\n",
       " 5,\n",
       " 5,\n",
       " 1,\n",
       " 8,\n",
       " 5,\n",
       " 8,\n",
       " 2,\n",
       " 7,\n",
       " 7,\n",
       " 2,\n",
       " 7,\n",
       " 6,\n",
       " 8,\n",
       " 4,\n",
       " 9,\n",
       " 7,\n",
       " 0,\n",
       " 1,\n",
       " 8,\n",
       " 2,\n",
       " 5,\n",
       " 4,\n",
       " 0,\n",
       " 7,\n",
       " 4,\n",
       " 0,\n",
       " 3,\n",
       " 8,\n",
       " 8,\n",
       " 2,\n",
       " 9,\n",
       " 7,\n",
       " 0,\n",
       " 7,\n",
       " 2,\n",
       " 4,\n",
       " 5,\n",
       " 7,\n",
       " 9,\n",
       " 3,\n",
       " 3,\n",
       " 0,\n",
       " 6,\n",
       " 2,\n",
       " 0,\n",
       " 8,\n",
       " 5,\n",
       " 0,\n",
       " 5,\n",
       " 7,\n",
       " 3,\n",
       " 5,\n",
       " 4,\n",
       " 0,\n",
       " 5,\n",
       " 3,\n",
       " 6,\n",
       " 5,\n",
       " 8,\n",
       " 4,\n",
       " 3,\n",
       " 2,\n",
       " 7,\n",
       " 8,\n",
       " 1,\n",
       " 9,\n",
       " 0,\n",
       " 3,\n",
       " 8,\n",
       " 1,\n",
       " 4,\n",
       " 7,\n",
       " ...]"
      ]
     },
     "execution_count": 47,
     "metadata": {},
     "output_type": "execute_result"
    }
   ],
   "source": [
    "random_numbers"
   ]
  },
  {
   "cell_type": "code",
   "execution_count": 48,
   "metadata": {
    "collapsed": true
   },
   "outputs": [
    {
     "name": "stdout",
     "output_type": "stream",
     "text": [
      "[7, 3, 9, 7, 9, 7, 3, 7, 4, 3, 9, 5, 3, 4, 0, 4, 0, 0, 1, 6, 1, 2, 8, 8, 1, 3, 3, 9, 7, 5, 1, 0, 3, 0, 2, 1, 1, 0, 5, 3, 3, 7, 5, 7, 3, 7, 9, 2, 1, 8, 9, 1, 0, 6, 9, 8, 4, 1, 8, 9, 1, 8, 1, 3, 9, 2, 6, 3, 8, 7, 5, 1, 1, 3, 6, 1, 1, 2, 0, 9, 8, 3, 7, 8, 6, 5, 0, 5, 8, 8, 1, 4, 6, 2, 7, 4, 6, 9, 9, 7, 5, 8, 8, 8, 3, 9, 6, 3, 7, 8, 9, 0, 6, 3, 7, 1, 9, 3, 3, 0, 8, 1, 6, 8, 7, 1, 9, 9, 8, 7, 7, 8, 3, 8, 3, 1, 8, 8, 9, 3, 7, 3, 4, 0, 7, 0, 9, 2, 1, 0, 3, 4, 4, 5, 1, 1, 4, 5, 5, 9, 3, 1, 1, 1, 5, 3, 5, 0, 9, 3, 6, 0, 0, 8, 0, 4, 0, 9, 1, 9, 2, 6, 8, 4, 1, 6, 1, 4, 3, 9, 1, 4, 1, 4, 0, 8, 7, 3, 9, 0, 1, 6, 5, 7, 9, 0, 8, 9, 8, 4, 8, 4, 6, 5, 1, 4, 1, 2, 4, 8, 4, 3, 9, 9, 3, 4, 4, 0, 2, 7, 8, 9, 9, 7, 8, 8, 5, 0, 0, 5, 0, 5, 7, 7, 6, 8, 1, 4, 1, 5, 9, 3, 0, 6, 2, 8, 8, 9, 0, 7, 1, 9, 0, 2, 0, 2, 3, 0, 2, 3, 5, 6, 6, 2, 5, 5, 9, 8, 9, 0, 8, 8, 8, 5, 3, 2, 6, 9, 6, 5, 3, 8, 6, 3, 5, 7, 8, 8, 6, 7, 8, 6, 7, 7, 4, 6, 7, 9, 2, 4, 4, 6, 1, 1, 4, 4, 4, 7, 0, 9, 3, 0, 8, 0, 3, 4, 6, 2, 0, 3, 4, 2, 8, 6, 7, 3, 9, 1, 6, 0, 9, 5, 1, 7, 2, 6, 0, 2, 6, 1, 4, 0, 7, 2, 0, 3, 4, 8, 8, 7, 2, 8, 3, 2, 7, 2, 4, 3, 7, 7, 4, 4, 1, 5, 3, 6, 9, 8, 3, 9, 2, 9, 1, 9, 3, 2, 6, 7, 2, 9, 7, 0, 4, 8, 3, 1, 4, 4, 2, 3, 6, 7, 2, 1, 6, 6, 7, 4, 0, 2, 3, 0, 5, 2, 2, 5, 0, 0, 0, 9, 7, 5, 3, 8, 8, 1, 1, 4, 7, 7, 7, 6, 8, 7, 9, 0, 4, 6, 8, 6, 9, 0, 8, 1, 5, 0, 9, 4, 1, 0, 5, 6, 0, 5, 2, 5, 8, 5, 7, 8, 2, 5, 9, 7, 6, 1, 5, 5, 0, 5, 4, 7, 3, 2, 3, 5, 0, 2, 0, 9, 3, 9, 8, 3, 5, 3, 3, 0, 3, 9, 6, 6, 9, 3, 2, 2, 8, 0, 6, 2, 2, 0, 9, 1, 3, 7, 4, 1, 5, 9, 9, 1, 9, 4, 7, 5, 0, 1, 0, 8, 8, 7, 3, 9, 7, 5, 6, 2, 4, 7, 3, 2, 3, 6, 5, 8, 4, 6, 1, 3, 5, 6, 1, 4, 6, 4, 9, 0, 6, 2, 5, 2, 2, 4, 9, 8, 3, 5, 3, 3, 9, 8, 0, 1, 7, 4, 8, 1, 1, 1, 2, 0, 1, 3, 0, 0, 5, 7, 2, 5, 9, 8, 8, 8, 4, 3, 0, 6, 8, 9, 1, 5, 9, 9, 0, 6, 6, 2, 4, 5, 1, 1, 1, 9, 8, 9, 9, 8, 1, 1, 5, 4, 5, 2, 5, 9, 4, 0, 0, 8, 9, 1, 4, 8, 8, 5, 4, 5, 5, 7, 3, 8, 5, 4, 6, 4, 7, 0, 7, 7, 1, 3, 8, 7, 9, 0, 2, 4, 2, 2, 1, 9, 4, 4, 4, 0, 9, 4, 8, 3, 6, 4, 5, 8, 9, 0, 3, 8, 8, 9, 4, 2, 2, 7, 4, 8, 5, 9, 3, 5, 6, 2, 8, 7, 2, 3, 4, 9, 2, 9, 5, 9, 5, 3, 3, 4, 0, 9, 5, 5, 7, 1, 4, 4, 5, 5, 9, 0, 4, 1, 8, 4, 6, 4, 7, 4, 4, 8, 9, 5, 0, 0, 0, 8, 0, 4, 9, 2, 4, 2, 5, 1, 1, 7, 0, 7, 6, 9, 5, 3, 3, 8, 6, 0, 9, 5, 7, 4, 6, 7, 7, 4, 4, 2, 0, 5, 1, 0, 2, 1, 7, 4, 3, 8, 5, 5, 4, 0, 0, 1, 9, 8, 5, 1, 2, 7, 5, 6, 3, 9, 3, 7, 4, 7, 2, 6, 2, 6, 9, 3, 9, 9, 4, 5, 4, 3, 5, 1, 2, 7, 8, 7, 4, 3, 5, 7, 3, 2, 1, 5, 8, 1, 1, 0, 2, 5, 1, 2, 4, 2, 5, 7, 7, 4, 0, 9, 4, 9, 2, 7, 5, 2, 0, 4, 6, 8, 9, 3, 3, 3, 6, 0, 4, 3, 3, 3, 0, 3, 6, 5, 2, 1, 2, 7, 4, 6, 9, 6, 9, 2, 1, 1, 9, 7, 8, 4, 1, 9, 9, 1, 6, 6, 3, 7, 2, 4, 4, 5, 4, 3, 4, 5, 8, 5, 3, 6, 2, 9, 7, 4, 5, 9, 5, 1, 6, 7, 1, 9, 9, 7, 2, 7, 1, 6, 1, 7, 4, 0, 9, 9, 9, 2, 2, 7, 7, 3, 2, 6, 9, 4, 2, 5, 7, 5, 2, 2, 6, 3, 5, 5, 1, 8, 5, 8, 2, 7, 7, 2, 7, 6, 8, 4, 9, 7, 0, 1, 8, 2, 5, 4, 0, 7, 4, 0, 3, 8, 8, 2, 9, 7, 0, 7, 2, 4, 5, 7, 9, 3, 3, 0, 6, 2, 0, 8, 5, 0, 5, 7, 3, 5, 4, 0, 5, 3, 6, 5, 8, 4, 3, 2, 7, 8, 1, 9, 0, 3, 8, 1, 4, 7, 2, 0, 0, 1, 8, 6, 5, 7, 9, 1, 1, 9, 4, 8, 1, 0, 3, 9, 5, 7, 1, 2, 4, 6, 8, 3, 3, 0, 8, 1, 0, 7, 3, 2, 7, 6, 9, 4, 4, 8, 0, 1, 1, 6, 6, 5, 6, 4, 7, 4, 8, 2, 0, 4, 0, 9, 3, 5, 0, 0, 1, 5, 1, 5, 5, 9, 0, 1, 6, 4, 7, 8, 8, 0, 1, 1, 7, 7, 7, 2, 0, 0, 0, 9, 9, 8, 0, 9, 0, 5, 6, 1, 3, 5, 0, 6, 5, 6, 0, 5, 7, 7, 4, 8, 3, 5, 5, 0, 2, 4, 1, 5, 7, 4, 2, 2, 8, 7, 1, 8, 0, 1, 3, 3, 0, 8, 9, 9, 3, 9, 6, 8, 0, 6, 3, 4, 5, 6, 2, 3, 9, 0, 2, 8, 3, 1, 6, 8, 6, 7, 9, 6, 8, 8, 9, 4, 4, 9, 5, 2, 0, 6, 1, 9, 9, 6, 7, 6, 4, 6, 6, 1, 4, 8, 9, 4, 7, 6, 6, 6, 7, 8, 6, 4, 4, 4, 7, 4, 8, 2, 3, 5, 9, 5, 0, 7, 3, 0, 2, 6, 8, 9, 0, 5, 7, 0, 6, 0, 0, 2, 6, 6, 1, 1, 0, 1, 6, 4, 3, 9, 9, 5, 1, 9, 2, 8, 5, 0, 8, 9, 1, 9, 0, 9, 7, 4, 1, 1, 4, 3, 9, 9, 3, 3, 6, 1, 9, 2, 5, 0, 5, 1, 9, 0, 7, 6, 6, 1, 2, 2, 8, 8, 9, 6, 3, 8, 5, 9, 4, 1, 7, 8, 1, 3, 4, 3, 8, 4, 4, 8, 9, 2, 1, 3, 0, 3, 4, 4, 8, 2, 1, 4, 1, 2, 3, 8, 0, 9, 8, 4, 8, 4, 4, 8, 7, 2, 5, 7, 5, 3, 5, 6, 2, 6, 6, 6, 7, 1, 4, 8, 1, 2, 1, 0, 5, 9, 6, 4, 7, 4, 6, 1, 5, 8, 9, 9, 8, 0, 4, 8, 4, 8, 4, 6, 0, 1, 2, 7, 4, 2, 0, 3, 0, 6, 9, 5, 5, 7, 8, 2, 5, 3, 1, 9, 0, 9, 7, 3, 4, 9, 5, 0, 9, 5, 9, 6, 9, 1, 6, 8, 8, 7, 5, 9, 3, 3, 1, 4, 5, 6, 1, 9, 1, 7, 9, 5, 3, 0, 4, 4, 0, 7, 4, 1, 6, 3, 3, 5, 9, 6, 6, 4, 8, 9, 4, 3, 7, 8, 8, 8, 5, 3, 8, 7, 8, 5, 8, 6, 5, 7, 8, 4, 2, 3, 0, 3, 4, 3, 2, 5, 8, 4, 1, 5, 3, 8, 5, 1, 1, 4, 3, 7, 9, 5, 0, 4, 8, 4, 1, 6, 0, 3, 5, 2, 5, 3, 9, 4, 7, 1, 6, 3, 6, 7, 9, 7, 1, 1, 8, 9, 3, 9, 3, 6, 2, 0, 0, 0, 2, 8, 5, 6, 8, 5, 3, 8, 1, 0, 7, 6, 8, 8, 4, 6, 5, 6, 8, 5, 6, 8, 5, 1, 0, 5, 1, 6, 0, 8, 6, 6, 5, 5, 4, 2, 6, 9, 6, 8, 3, 8, 5, 1, 3, 6, 1, 5, 7, 4, 9, 3, 2, 1, 9, 0, 8, 7, 5, 5, 9, 2, 7, 5, 6, 9, 4, 0, 8, 0, 3, 3, 9, 2, 5, 2, 3, 9, 4, 3, 9, 1, 8, 8, 2, 1, 5, 5, 4, 3, 5, 0, 9, 1, 1, 5, 7, 9, 9, 4, 7, 1, 2, 6, 1, 3, 8, 0, 5, 9, 8, 5, 3, 4, 5, 0, 9, 8, 6, 5, 3, 2, 3, 7, 2, 3, 3, 4, 7, 7, 6, 5, 9, 8, 6, 9, 1, 5, 7, 7, 4, 4, 2, 3, 4, 8, 1, 7, 6, 6, 7, 1, 3, 5, 4, 3, 1, 3, 2, 7, 5, 3, 1, 5, 8, 5, 4, 0, 3, 4, 0, 8, 1, 0, 2, 4, 3, 0, 2, 1, 7, 2, 6, 9, 3, 9, 4, 6, 6, 0, 9, 3, 7, 2, 2, 1, 0, 7, 2, 0, 0, 9, 4, 4, 0, 4, 8, 8, 7, 2, 7, 6, 4, 6, 5, 9, 9, 2, 5, 8, 5, 6, 6, 5, 0, 5, 9, 3, 7, 5, 1, 2, 0, 7, 9, 0, 0, 3, 2, 8, 3, 7, 4, 6, 1, 3, 0, 7, 9, 7, 4, 6, 0, 7, 5, 3, 6, 0, 6, 6, 6, 0, 8, 0, 4, 5, 4, 0, 9, 3, 9, 8, 5, 6, 1, 9, 1, 5, 3, 1, 4, 7, 4, 1, 9, 1, 6, 8, 2, 5, 1, 8, 0, 8, 4, 6, 9, 1, 5, 6, 3, 5, 1, 7, 7, 7, 5, 7, 4, 4, 8, 4, 1, 7, 4, 4, 6, 9, 8, 3, 9, 2, 1, 1, 3, 6, 2, 0, 4, 2, 7, 1, 3, 7, 0, 3, 5, 0, 0, 1, 1, 6, 1, 5, 2, 0, 0, 7, 4, 0, 7, 5, 9, 6, 7, 6, 9, 6, 9, 2, 2, 2, 6, 9, 4, 5, 8, 4, 2, 8, 4, 7, 9, 9, 6, 2, 1, 8, 0, 1, 1, 4, 1, 2, 2, 0, 1, 6, 8, 1, 1, 3, 9, 0, 0, 7, 6, 8, 5, 5, 1, 6, 8, 5, 8, 8, 3, 9, 9, 9, 5, 2, 3, 2, 4, 7, 4, 3, 7, 0, 5, 9, 4, 2, 6, 6, 5, 0, 0, 4, 5, 4, 8, 5, 8, 7, 2, 1, 5, 6, 8, 5, 7, 3, 4, 2, 3, 2, 6, 3, 6, 4, 1, 3, 1, 4, 5, 8, 5, 5, 8, 3, 4, 2, 9, 5, 6, 3, 0, 9, 0, 1, 3, 2, 5, 6, 1, 2, 3, 3, 2, 0, 6, 1, 1, 1, 8, 4, 0, 5, 5, 0, 4, 5, 8, 6, 3, 4, 3, 8, 7, 8, 4, 1, 0, 5, 4, 3, 5, 3, 8, 6, 7, 8, 9, 7, 3, 1, 2, 8, 8, 7, 2, 8, 6, 4, 3, 8, 1, 8, 9, 5, 6, 7, 0, 7, 2, 6, 4, 9, 1, 5, 3, 4, 6, 3, 0, 8, 8, 4, 7, 7, 6, 5, 1, 1, 4, 7, 7, 2, 9, 7, 0, 0, 7, 9, 9, 5, 8, 1, 3, 8, 0, 4, 6, 1, 7, 1, 3, 2, 9, 6, 3, 1, 8, 7, 9, 0, 3, 5, 8, 9, 5, 3, 7, 1, 9, 6, 8, 2, 1, 5, 4, 4, 1, 7, 0, 5, 9, 6, 8, 1, 9, 9, 5, 6, 6, 4, 9, 7, 1, 7, 9, 1, 2, 9, 0, 2, 4, 5, 5, 6, 8, 3, 5, 8, 1, 3, 8, 6, 6, 1, 3, 5, 3, 5, 4, 5, 4, 8, 4, 0, 8, 2, 9, 0, 6, 8, 4, 5, 0, 9, 7, 5, 5, 9, 8, 8, 0, 1, 9, 6, 2, 0, 4, 6, 3, 7, 2, 5, 4, 3, 7, 5, 2, 2, 8, 9, 9, 2, 4, 6, 2, 4, 8, 6, 7, 7, 2, 0, 7, 5, 0, 8, 8, 6, 5, 4, 0, 9, 2, 4, 4, 1, 5, 4, 5, 9, 3, 6, 0, 2, 1, 7, 0, 5, 4, 2, 4, 5, 7, 1, 0, 8, 8, 8, 7, 5, 3, 1, 0, 3, 5, 2, 1, 3, 6, 1, 4, 5, 0, 9, 6, 7, 5, 7, 1, 5, 1, 1, 0, 6, 4, 2, 6, 2, 5, 7, 0, 8, 8, 7, 7, 6, 9, 7, 3, 8, 5, 5, 7, 5, 4, 9, 2, 4, 4, 0, 4, 6, 5, 6, 2, 2, 5, 6, 0, 2, 9, 2, 3, 4, 2, 4, 9, 4, 2, 7, 6, 2, 6, 4, 6, 1, 3, 0, 7, 4, 3, 1, 5, 5, 6, 9, 3, 5, 0, 0, 6, 7, 9, 4, 9, 1, 8, 4, 5, 4, 9, 4, 9, 1, 2, 3, 1, 1, 1, 8, 5, 2, 0, 0, 4, 2, 1, 0, 0, 9, 4, 7, 0, 1, 9, 4, 5, 9, 9, 9, 1, 8, 0, 4, 7, 9, 7, 4, 7, 6, 9, 7, 8, 2, 6, 4, 4, 0, 7, 9, 9, 1, 1, 2, 1, 6, 4, 9, 1, 5, 9, 3, 9, 7, 7, 6, 9, 6, 5, 4, 5, 0, 8, 9, 8, 8, 5, 7, 5, 4, 9, 8, 9, 2, 7, 0, 0, 2, 6, 3, 0, 6, 6, 4, 2, 1, 8, 4, 9, 0, 3, 5, 0, 2, 4, 8, 8, 2, 1, 5, 0, 3, 5, 7, 4, 0, 4, 6, 6, 3, 8, 8, 8, 3, 5, 2, 5, 7, 5, 0, 2, 3, 9, 2, 7, 3, 2, 2, 4, 0, 6, 2, 4, 4, 7, 4, 4, 7, 8, 3, 0, 1, 9, 2, 1, 0, 5, 4, 8, 3, 9, 5, 2, 3, 5, 1, 1, 1, 0, 7, 5, 2, 0, 0, 9, 3, 5, 6, 2, 9, 7, 3, 8, 1, 5, 9, 8, 9, 7, 2, 6, 5, 9, 3, 9, 0, 0, 0, 1, 0, 0, 6, 2, 8, 2, 2, 0, 3, 8, 8, 8, 3, 0, 7, 6, 0, 4, 2, 2, 2, 0, 5, 9, 6, 3, 2, 4, 5, 8, 2, 4, 4, 9, 6, 0, 0, 0, 3, 9, 4, 9, 8, 4, 8, 9, 5, 9, 0, 6, 6, 2, 7, 9, 3, 2, 3, 8, 4, 9, 2, 6, 2, 2, 2, 8, 9, 4, 8, 4, 2, 6, 4, 3, 7, 5, 5, 6, 1, 9, 5, 2, 4, 5, 8, 2, 5, 2, 8, 2, 7, 7, 9, 5, 3, 9, 3, 7, 9, 1, 0, 7, 8, 2, 6, 6, 8, 9, 5, 1, 6, 1, 2, 5, 8, 4, 8, 5, 5, 9, 5, 5, 5, 6, 0, 9, 9, 3, 8, 6, 8, 7, 9, 0, 3, 6, 1, 8, 8, 7, 5, 3, 8, 5, 6, 3, 9, 7, 4, 7, 7, 9, 2, 1, 7, 6, 7, 6, 6, 4, 9, 3, 6, 5, 9, 6, 5, 0, 8, 8, 8, 4, 0, 6, 3, 9, 4, 4, 1, 6, 4, 2, 9, 5, 4, 6, 2, 5, 2, 9, 6, 8, 2, 7, 5, 0, 2, 8, 4, 6, 1, 6, 6, 6, 8, 3, 7, 3, 2, 9, 0, 0, 0, 9, 7, 8, 7, 7, 6, 3, 7, 1, 5, 8, 3, 7, 0, 4, 7, 5, 9, 7, 3, 1, 0, 8, 3, 8, 5, 4, 0, 3, 8, 9, 5, 1, 8, 2, 4, 4, 2, 1, 8, 9, 9, 8, 0, 4, 6, 8, 3, 3, 3, 2, 3, 9, 9, 4, 5, 4, 6, 4, 8, 1, 9, 8, 5, 0, 8, 1, 7, 9, 8, 6, 9, 6, 5, 3, 3, 4, 8, 7, 5, 6, 6, 7, 5, 1, 1, 4, 4, 5, 6, 8, 8, 2, 1, 3, 5, 9, 2, 2, 7, 8, 7, 1, 7, 0, 9, 9, 7, 8, 1, 0, 5, 3, 0, 2, 7, 5, 5, 4, 8, 3, 0, 9, 3, 3, 2, 8, 4, 0, 3, 1, 6, 5, 3, 8, 9, 0, 8, 7, 7, 9, 9, 4, 1, 7, 4, 2, 1, 6, 8, 9, 0, 6, 6, 6, 8, 2, 8, 4, 5, 9, 1, 2, 6, 1, 3, 3, 2, 6, 9, 4, 3, 0, 5, 4, 4, 6, 3, 7, 9, 8, 6, 3, 8, 0, 6, 0, 7, 4, 9, 0, 7, 3, 0, 6, 9, 9, 0, 2, 9, 5, 1, 4, 1, 5, 9, 9, 6, 4, 2, 2, 4, 2, 3, 5, 6, 4, 8, 4, 1, 5, 8, 2, 5, 7, 7, 5, 8, 9, 6, 3, 2, 6, 5, 6, 9, 6, 0, 7, 7, 7, 0, 4, 5, 7, 2, 6, 1, 5, 8, 9, 4, 4, 8, 0, 7, 8, 6, 3, 7, 3, 1, 8, 2, 0, 8, 3, 4, 1, 1, 9, 5, 4, 0, 8, 0, 1, 1, 2, 7, 4, 8, 6, 1, 7, 7, 7, 3, 5, 0, 9, 0, 8, 3, 1, 0, 9, 6, 2, 0, 3, 9, 9, 1, 2, 4, 8, 7, 1, 6, 3, 9, 0, 4, 0, 1, 5, 0, 8, 7, 6, 2, 0, 2, 0, 3, 3, 0, 4, 1, 9, 8, 5, 9, 2, 6, 6, 8, 0, 7, 4, 4, 9, 6, 5, 6, 0, 1, 0, 5, 0, 8, 9, 1, 1, 9, 6, 6, 1, 9, 9, 0, 7, 3, 4, 2, 0, 0, 9, 6, 2, 9, 9, 2, 0, 6, 4, 6, 6, 2, 0, 2, 5, 5, 9, 0, 6, 4, 0, 5, 9, 8, 5, 3, 0, 5, 5, 5, 5, 2, 5, 2, 4, 8, 2, 3, 6, 0, 6, 0, 3, 8, 2, 2, 4, 0, 1, 1, 6, 1, 8, 3, 3, 7, 5, 4, 0, 4, 9, 5, 6, 0, 4, 4, 0, 0, 7, 2, 0, 2, 3, 3, 3, 7, 2, 5, 3, 6, 5, 7, 4, 6, 0, 2, 5, 2, 3, 7, 9, 5, 6, 0, 7, 0, 0, 9, 8, 4, 5, 3, 2, 2, 8, 9, 0, 8, 1, 8, 2, 5, 4, 7, 3, 2, 0, 1, 8, 5, 1, 2, 4, 8, 3, 5, 5, 4, 9, 9, 3, 8, 1, 4, 0, 1, 2, 7, 7, 0, 0, 0, 3, 7, 4, 6, 7, 6, 3, 2, 2, 2, 1, 6, 3, 7, 6, 5, 4, 0, 7, 9, 9, 6, 7, 1, 1, 9, 7, 9, 2, 1, 6, 9, 5, 8, 8, 2, 5, 2, 5, 9, 3, 8, 8, 3, 2, 9, 4, 5, 8, 3, 0, 1, 3, 4, 2, 6, 5, 5, 2, 3, 3, 9, 3, 3, 2, 1, 2, 0, 3, 3, 9, 9, 2, 0, 8, 4, 6, 7, 7, 3, 3, 3, 6, 3, 2, 0, 1, 9, 3, 9, 5, 5, 2, 3, 5, 3, 7, 8, 7, 0, 4, 7, 3, 5, 2, 1, 9, 2, 9, 8, 7, 0, 8, 9, 2, 4, 5, 6, 5, 6, 4, 0, 9, 1, 9, 5, 5, 4, 1, 2, 0, 4, 5, 6, 8, 4, 9, 4, 6, 6, 2, 8, 8, 3, 5, 7, 9, 6, 6, 1, 4, 0, 1, 7, 7, 5, 9, 2, 8, 5, 1, 5, 7, 2, 3, 1, 5, 5, 1, 1, 4, 8, 7, 9, 7, 4, 7, 4, 7, 4, 0, 1, 0, 7, 7, 9, 4, 5, 9, 4, 3, 3, 3, 3, 5, 5, 0, 4, 5, 2, 8, 6, 2, 9, 7, 9, 4, 5, 9, 1, 2, 8, 5, 0, 0, 0, 7, 8, 5, 4, 5, 3, 7, 8, 2, 8, 5, 1, 8, 3, 0, 0, 2, 3, 1, 3, 7, 1, 5, 3, 5, 1, 5, 9, 1, 6, 1, 0, 8, 0, 0, 3, 6, 7, 0, 7, 1, 2, 3, 5, 1, 3, 4, 3, 5, 4, 9, 9, 4, 6, 5, 2, 4, 9, 9, 3, 0, 6, 6, 2, 9, 3, 5, 8, 9, 8, 1, 8, 8, 8, 0, 3, 8, 4, 3, 3, 5, 4, 9, 7, 7, 3, 1, 5, 0, 4, 3, 9, 8, 7, 0, 1, 4, 7, 2, 4, 5, 7, 9, 6, 4, 7, 1, 0, 4, 5, 9, 0, 3, 2, 8, 8, 5, 9, 9, 9, 2, 7, 1, 4, 5, 7, 8, 9, 7, 2, 3, 2, 5, 2, 5, 0, 9, 4, 1, 3, 3, 5, 5, 3, 9, 8, 3, 0, 4, 3, 5, 3, 9, 9, 0, 2, 2, 5, 7, 3, 4, 9, 7, 1, 6, 7, 4, 0, 4, 1, 8, 4, 5, 3, 7, 0, 0, 4, 8, 5, 1, 5, 1, 0, 1, 0, 9, 8, 9, 9, 0, 1, 0, 4, 7, 8, 4, 1, 0, 0, 3, 3, 1, 0, 4, 9, 6, 9, 4, 7, 8, 6, 7, 0, 5, 0, 6, 3, 4, 5, 6, 4, 3, 1, 7, 4, 4, 8, 1, 7, 7, 9, 2, 7, 2, 7, 2, 1, 4, 3, 7, 9, 0, 7, 5, 5, 1, 8, 1, 4, 9, 3, 5, 0, 0, 2, 3, 3, 8, 2, 3, 8, 3, 1, 1, 6, 9, 3, 2, 5, 6, 1, 1, 4, 7, 9, 6, 3, 3, 7, 1, 5, 8, 8, 4, 7, 8, 9, 2, 7, 8, 5, 7, 0, 3, 9, 0, 2, 7, 7, 7, 9, 1, 6, 6, 6, 7, 8, 3, 0, 7, 0, 3, 8, 6, 9, 2, 1, 8, 6, 1, 6, 0, 4, 7, 2, 3, 2, 4, 5, 2, 1, 1, 2, 0, 6, 3, 3, 3, 1, 5, 8, 6, 5, 8, 7, 5, 8, 3, 6, 8, 9, 8, 3, 9, 8, 1, 2, 2, 2, 8, 6, 8, 1, 1, 4, 7, 5, 6, 4, 7, 5, 3, 8, 1, 8, 1, 7, 3, 7, 1, 5, 1, 3, 7, 5, 6, 8, 0, 0, 6, 8, 6, 6, 5, 1, 8, 0, 0, 9, 7, 8, 1, 3, 6, 6, 3, 2, 9, 8, 1, 8, 1, 3, 0, 4, 1, 9, 9, 6, 1, 0, 3, 4, 4, 0, 5, 4, 4, 2, 8, 9, 1, 7, 9, 5, 9, 6, 3, 8, 0, 1, 9, 2, 0, 5, 5, 1, 3, 4, 1, 5, 4, 9, 3, 1, 6, 5, 8, 0, 7, 5, 1, 0, 1, 7, 0, 4, 9, 5, 0, 6, 2, 8, 6, 6, 0, 4, 1, 9, 1, 3, 2, 7, 0, 1, 9, 5, 5, 2, 0, 7, 4, 6, 4, 4, 8, 0, 2, 1, 5, 0, 7, 9, 5, 8, 1, 5, 3, 3, 5, 9, 9, 3, 7, 0, 8, 2, 8, 7, 0, 0, 3, 3, 6, 2, 4, 4, 3, 9, 4, 8, 3, 8, 6, 8, 5, 1, 1, 4, 1, 2, 7, 7, 4, 2, 0, 5, 9, 2, 0, 9, 9, 6, 9, 2, 9, 8, 9, 4, 7, 3, 2, 1, 0, 5, 4, 2, 2, 6, 2, 5, 2, 9, 1, 0, 9, 8, 9, 2, 3, 4, 2, 7, 4, 7, 8, 3, 5, 1, 8, 2, 5, 2, 2, 1, 8, 8, 4, 8, 7, 2, 3, 0, 4, 6, 0, 9, 0, 8, 5, 9, 2, 0, 4, 8, 4, 3, 6, 1, 1, 8, 6, 6, 0, 8, 6, 0, 9, 1, 8, 8, 4, 8, 7, 9, 5, 0, 6, 6, 5, 4, 5, 9, 8, 4, 8, 0, 0, 8, 0, 2, 8, 4, 0, 0, 1, 4, 6, 4, 3, 1, 5, 6, 4, 8, 9, 7, 0, 7, 9, 7, 0, 7, 3, 7, 2, 5, 9, 5, 6, 2, 9, 6, 9, 2, 7, 5, 7, 1, 5, 9, 3, 9, 6, 1, 0, 7, 2, 3, 3, 8, 4, 9, 7, 2, 6, 3, 9, 3, 5, 6, 7, 0, 1, 5, 2, 7, 6, 7, 4, 0, 2, 2, 0, 8, 0, 6, 7, 6, 0, 4, 8, 5, 3, 6, 5, 0, 5, 9, 6, 2, 6, 8, 1, 0, 2, 4, 4, 1, 1, 0, 2, 9, 4, 3, 4, 3, 3, 4, 5, 5, 3, 5, 9, 4, 9, 0, 3, 8, 9, 4, 6, 9, 7, 2, 9, 1, 2, 0, 2, 6, 0, 7, 3, 5, 4, 1, 2, 5, 2, 0, 5, 2, 6, 9, 1, 0, 8, 3, 6, 2, 3, 4, 6, 1, 2, 5, 0, 2, 7, 7, 6, 8, 1, 1, 2, 1, 6, 3, 2, 6, 8, 8, 0, 2, 6, 9, 9, 0, 9, 5, 3, 9, 0, 5, 5, 7, 8, 6, 0, 3, 6, 2, 4, 1, 8, 4, 5, 9, 2, 0, 4, 8, 6, 4, 3, 2, 5, 1, 0, 2, 0, 4, 2, 3, 9, 4, 3, 9, 2, 8, 5, 1, 9, 1, 3, 2, 8, 7, 3, 7, 0, 9, 2, 2, 3, 9, 6, 1, 0, 8, 6, 6, 2, 2, 7, 5, 4, 5, 6, 5, 0, 2, 6, 8, 1, 5, 1, 5, 4, 7, 9, 3, 3, 9, 5, 9, 4, 5, 4, 7, 9, 2, 2, 4, 5, 0, 6, 9, 2, 2, 8, 1, 3, 6, 1, 3, 5, 0, 4, 4, 8, 4, 8, 0, 4, 3, 1, 2, 5, 4, 0, 5, 9, 9, 3, 7, 1, 0, 9, 4, 4, 0, 3, 4, 0, 6, 2, 5, 1, 0, 7, 3, 8, 8, 7, 6, 4, 6, 1, 6, 1, 0, 9, 0, 8, 7, 8, 7, 7, 9, 1, 4, 3, 7, 3, 7, 3, 5, 1, 7, 0, 4, 4, 7, 7, 5, 9, 2, 4, 6, 9, 6, 1, 5, 7, 4, 5, 2, 2, 1, 0, 3, 2, 6, 6, 8, 2, 2, 4, 9, 0, 0, 4, 2, 1, 1, 9, 4, 0, 1, 2, 9, 1, 3, 2, 0, 1, 2, 6, 0, 8, 2, 2, 5, 7, 0, 8, 5, 3, 7, 3, 5, 7, 7, 2, 7, 3, 5, 3, 7, 7, 0, 7, 9, 8, 2, 4, 3, 7, 5, 1, 3, 8, 3, 4, 3, 7, 0, 5, 0, 7, 2, 9, 4, 9, 3, 5, 3, 8, 9, 9, 2, 1, 7, 4, 7, 7, 8, 1, 6, 6, 9, 0, 9, 1, 7, 1, 4, 8, 4, 8, 4, 0, 0, 5, 1, 9, 5, 6, 1, 5, 0, 2, 1, 7, 3, 0, 0, 8, 5, 7, 0, 0, 1, 6, 9, 9, 7, 9, 6, 1, 4, 2, 4, 1, 8, 7, 0, 1, 7, 6, 3, 3, 8, 7, 6, 1, 2, 1, 8, 0, 2, 4, 5, 3, 4, 0, 4, 6, 1, 6, 5, 0, 5, 2, 7, 4, 7, 5, 4, 6, 0, 4, 8, 5, 4, 7, 8, 8, 5, 2, 1, 8, 0, 5, 8, 0, 7, 1, 1, 3, 2, 4, 1, 0, 5, 6, 6, 4, 3, 9, 6, 5, 3, 6, 0, 7, 2, 8, 3, 0, 9, 5, 4, 2, 5, 5, 5, 0, 9, 0, 4, 3, 3, 1, 7, 4, 7, 4, 9, 3, 2, 6, 2, 0, 8, 3, 2, 9, 8, 7, 1, 6, 3, 6, 0, 7, 8, 3, 7, 7, 0, 2, 2, 7, 9, 7, 2, 1, 6, 0, 7, 5, 5, 0, 9, 9, 0, 9, 3, 7, 8, 8, 5, 9, 9, 7, 6, 5, 3, 7, 0, 8, 7, 6, 3, 9, 1, 0, 3, 2, 4, 7, 2, 0, 5, 8, 8, 0, 7, 8, 4, 5, 6, 0, 9, 0, 5, 1, 9, 4, 4, 1, 3, 0, 2, 2, 4, 8, 0, 4, 6, 1, 3, 7, 1, 5, 5, 1, 9, 9, 5, 0, 3, 8, 0, 6, 2, 1, 4, 0, 4, 0, 9, 4, 7, 4, 1, 0, 5, 4, 9, 1, 5, 1, 4, 0, 2, 3, 7, 1, 1, 5, 0, 2, 3, 1, 5, 8, 4, 5, 2, 0, 8, 8, 3, 6, 2, 6, 6, 6, 7, 9, 9, 3, 7, 6, 5, 5, 4, 3, 9, 5, 2, 2, 5, 7, 7, 8, 6, 3, 2, 9, 5, 6, 2, 5, 5, 7, 7, 0, 3, 0, 0, 1, 2, 4, 9, 9, 6, 2, 0, 2, 7, 5, 2, 7, 6, 0, 3, 9, 3, 4, 5, 9, 0, 9, 2, 4, 8, 5, 3, 2, 9, 7, 5, 3, 7, 8, 5, 8, 5, 5, 6, 0, 4, 8, 5, 0, 5, 5, 2, 4, 6, 8, 0, 8, 8, 8, 8, 6, 8, 5, 1, 4, 2, 5, 4, 3, 3, 9, 5, 8, 6, 1, 3, 7, 4, 9, 7, 6, 3, 6, 3, 8, 5, 9, 9, 8, 8, 3, 1, 1, 5, 9, 9, 8, 7, 3, 1, 5, 2, 4, 4, 3, 7, 2, 5, 1, 8, 4, 1, 6, 2, 1, 8, 2, 3, 9, 9, 2, 4, 7, 0, 4, 9, 5, 1, 5, 3, 5, 5, 4, 8, 3, 9, 1, 4, 8, 5, 9, 2, 9, 9, 7, 9, 8, 9, 7, 7, 3, 6, 6, 8, 8, 8, 3, 4, 4, 3, 9, 6, 2, 3, 1, 9, 9, 4, 9, 6, 1, 3, 2, 8, 3, 3, 4, 0, 4, 3, 0, 5, 4, 8, 9, 9, 3, 9, 6, 6, 5, 4, 2, 1, 1, 3, 9, 0, 1, 2, 9, 5, 1, 6, 0, 6, 3, 9, 5, 1, 3, 1, 4, 6, 0, 1, 4, 9, 2, 3, 4, 3, 0, 1, 3, 6, 0, 5, 7, 8, 5, 6, 9, 7, 3, 9, 6, 2, 4, 8, 8, 3, 2, 6, 7, 3, 4, 4, 4, 3, 7, 6, 2, 4, 6, 1, 9, 8, 1, 8, 0, 6, 2, 8, 3, 7, 4, 0, 5, 4, 7, 0, 9, 8, 1, 1, 1, 4, 6, 5, 4, 1, 0, 0, 3, 8, 6, 1, 2, 9, 3, 4, 5, 5, 3, 1, 6, 8, 9, 9, 4, 0, 7, 8, 7, 1, 6, 6, 7, 0, 8, 5, 6, 4, 3, 0, 8, 4, 1, 6, 0, 6, 9, 4, 7, 3, 1, 2, 2, 1, 3, 5, 5, 5, 6, 3, 1, 4, 4, 3, 5, 0, 8, 5, 4, 2, 9, 7, 0, 6, 4, 4, 4, 4, 7, 0, 4, 2, 6, 1, 6, 1, 6, 7, 4, 7, 7, 4, 6, 7, 4, 5, 4, 3, 0, 2, 4, 1, 1, 6, 0, 8, 8, 2, 2, 4, 9, 8, 5, 6, 7, 3, 5, 8, 6, 0, 5, 6, 2, 7, 8, 0, 5, 5, 6, 3, 0, 7, 9, 5, 5, 9, 1, 2, 4, 8, 5, 2, 5, 7, 6, 5, 5, 6, 3, 3, 7, 6, 8, 2, 6, 2, 6, 8, 6, 1, 9, 1, 7, 6, 3, 0, 2, 4, 6, 5, 6, 8, 1, 1, 2, 2, 9, 7, 7, 5, 6, 4, 8, 5, 4, 6, 2, 6, 8, 4, 8, 4, 5, 3, 1, 3, 6, 0, 9, 8, 2, 2, 4, 8, 7, 4, 5, 8, 6, 1, 7, 7, 0, 0, 6, 5, 0, 4, 4, 0, 0, 3, 5, 4, 4, 5, 6, 8, 0, 9, 5, 4, 7, 4, 7, 1, 8, 2, 3, 1, 6, 2, 0, 3, 2, 2, 7, 6, 7, 8, 3, 1, 2, 5, 6, 3, 9, 5, 6, 8, 0, 5, 4, 0, 6, 0, 4, 7, 6, 2, 2, 4, 8, 9, 0, 0, 7, 5, 6, 0, 1, 5, 8, 1, 7, 4, 3, 8, 3, 1, 8, 3, 4, 0, 7, 5, 7, 2, 5, 2, 5, 5, 7, 4, 9, 1, 9, 6, 1, 1, 6, 5, 6, 2, 9, 7, 8, 5, 5, 2, 2, 6, 9, 2, 0, 5, 9, 9, 0, 8, 4, 6, 7, 5, 4, 5, 1, 1, 1, 6, 9, 9, 2, 8, 9, 7, 2, 0, 2, 2, 0, 5, 2, 0, 9, 7, 0, 5, 7, 2, 7, 5, 6, 2, 8, 9, 8, 9, 4, 2, 6, 9, 0, 4, 1, 1, 5, 6, 0, 8, 8, 5, 3, 3, 3, 3, 0, 8, 8, 8, 3, 7, 4, 8, 7, 5, 8, 3, 1, 3, 4, 3, 0, 2, 2, 2, 6, 6, 1, 2, 0, 7, 8, 0, 7, 2, 3, 6, 2, 3, 5, 5, 9, 3, 6, 4, 6, 3, 3, 6, 7, 9, 3, 1, 9, 2, 2, 1, 5, 9, 6, 2, 6, 4, 3, 1, 9, 2, 1, 5, 5, 1, 1, 2, 7, 1, 3, 5, 9, 2, 7, 2, 0, 5, 0, 5, 6, 7, 4, 6, 6, 1, 4, 4, 6, 4, 3, 0, 3, 8, 7, 1, 4, 7, 4, 0, 0, 3, 8, 4, 4, 5, 0, 6, 2, 4, 0, 6, 3, 2, 6, 1, 4, 3, 3, 4, 3, 8, 3, 2, 8, 6, 4, 9, 9, 2, 9, 8, 8, 1, 3, 2, 9, 3, 3, 2, 9, 7, 6, 6, 6, 7, 5, 4, 9, 5, 8, 4, 9, 3, 5, 2, 7, 7, 6, 6, 6, 1, 7, 5, 3, 3, 9, 6, 7, 9, 2, 8, 9, 2, 3, 1, 7, 8, 7, 4, 4, 2, 1, 2, 1, 5, 3, 5, 3, 5, 8, 7, 2, 9, 9, 9, 8, 9, 8, 6, 1, 2, 7, 1, 0, 2, 4, 3, 8, 0, 4, 8, 4, 8, 6, 6, 1, 8, 0, 1, 3, 7, 9, 6, 3, 6, 4, 1, 4, 8, 8, 7, 6, 1, 6, 3, 3, 0, 6, 0, 9, 0, 0, 1, 4, 3, 9, 8, 8, 3, 9, 6, 6, 9, 0, 3, 9, 2, 3, 7, 1, 4, 1, 9, 0, 2, 3, 3, 3, 0, 7, 2, 8, 4, 3, 9, 9, 8, 9, 0, 9, 3, 2, 4, 5, 2, 8, 6, 9, 2, 6, 8, 0, 9, 9, 9, 8, 2, 2, 5, 5, 0, 1, 3, 0, 2, 6, 3, 7, 2, 5, 3, 2, 1, 4, 1, 1, 5, 0, 8, 0, 2, 4, 4, 0, 9, 0, 2, 9, 0, 7, 7, 8, 1, 6, 9, 4, 4, 0, 9, 7, 6, 1, 4, 1, 8, 4, 0, 3, 6, 4, 3, 4, 5, 8, 0, 7, 3, 2, 2, 2, 6, 5, 3, 5, 1, 6, 8, 7, 5, 7, 5, 4, 2, 9, 4, 7, 2, 8, 0, 0, 5, 6, 5, 1, 4, 7, 6, 7, 6, 2, 2, 2, 4, 2, 8, 0, 5, 4, 5, 7, 3, 2, 3, 9, 4, 4, 2, 8, 1, 8, 3, 3, 5, 1, 9, 7, 7, 3, 3, 3, 5, 2, 1, 6, 9, 3, 4, 4, 2, 1, 7, 4, 6, 6, 3, 1, 8, 6, 8, 5, 6, 8, 3, 4, 3, 5, 8, 7, 8, 9, 4, 3, 0, 1, 0, 6, 4, 0, 6, 7, 1, 0, 6, 9, 2, 6, 6, 3, 2, 2, 2, 9, 1, 6, 6, 5, 5, 8, 9, 8, 1, 6, 0, 3, 3, 5, 6, 8, 0, 1, 6, 8, 2, 5, 4, 3, 9, 9, 9, 9, 7, 8, 7, 1, 5, 3, 9, 4, 3, 3, 6, 8, 8, 9, 9, 1, 8, 2, 9, 3, 8, 8, 1, 5, 3, 2, 8, 3, 0, 3, 3, 1, 0, 4, 5, 8, 4, 6, 3, 4, 3, 9, 7, 6, 7, 3, 4, 8, 9, 5, 4, 8, 4, 9, 3, 7, 3, 3, 2, 5, 4, 0, 0, 8, 5, 5, 2, 5, 3, 0, 8, 8, 5, 4, 3, 4, 1, 2, 4, 9, 8, 4, 5, 0, 1, 2, 8, 6, 7, 1, 0, 6, 3, 3, 5, 9, 6, 4, 2, 1, 2, 9, 2, 4, 8, 9, 1, 2, 0, 6, 6, 2, 2, 6, 6, 7, 5, 9, 8, 8, 2, 5, 9, 4, 1, 5, 2, 0, 2, 3, 6, 0, 0, 9, 8, 6, 3, 2, 1, 6, 4, 6, 6, 2, 8, 5, 9, 8, 9, 5, 1, 6, 0, 0, 5, 9, 4, 6, 9, 4, 2, 6, 7, 9, 0, 1, 1, 5, 5, 3, 6, 5, 4, 2, 6, 5, 5, 0, 8, 3, 6, 1, 3, 6, 0, 6, 0, 9, 4, 4, 2, 5, 9, 6, 8, 6, 9, 7, 2, 3, 3, 9, 2, 2, 0, 5, 4, 2, 4, 4, 1, 4, 3, 0, 4, 1, 3, 6, 5, 6, 9, 0, 8, 7, 0, 0, 9, 0, 5, 4, 6, 7, 4, 8, 6, 3, 8, 5, 9, 2, 0, 1, 7, 1, 6, 7, 1, 6, 1, 8, 3, 7, 8, 7, 7, 5, 1, 0, 3, 9, 5, 0, 1, 0, 2, 1, 6, 3, 3, 9, 4, 0, 9, 0, 9, 2, 4, 1, 5, 6, 6, 1, 9, 5, 9, 0, 7, 9, 2, 4, 2, 6, 6, 2, 3, 7, 4, 3, 0, 4, 7, 7, 2, 4, 2, 9, 0, 0, 3, 5, 8, 9, 6, 5, 3, 0, 8, 3, 4, 1, 8, 0, 0, 0, 3, 5, 8, 4, 1, 6, 7, 1, 1, 7, 4, 1, 9, 1, 2, 9, 9, 9, 2, 5, 2, 8, 1, 9, 2, 7, 5, 3, 8, 9, 6, 6, 2, 7, 2, 3, 6, 5, 1, 1, 0, 0, 8, 8, 6, 2, 8, 9, 9, 7, 7, 4, 9, 1, 3, 3, 2, 4, 8, 0, 3, 0, 6, 6, 4, 1, 9, 2, 1, 9, 1, 8, 9, 1, 8, 0, 8, 9, 6, 8, 5, 3, 9, 0, 4, 4, 3, 7, 8, 8, 3, 5, 9, 1, 5, 2, 7, 3, 8, 6, 2, 3, 2, 3, 9, 4, 6, 7, 8, 5, 3, 2, 4, 5, 0, 0, 8, 6, 9, 8, 8, 8, 5, 6, 0, 6, 0, 5, 6, 4, 5, 1, 7, 1, 2, 7, 5, 7, 5, 3, 9, 5, 4, 5, 3, 3, 9, 5, 4, 5, 1, 5, 5, 4, 2, 1, 3, 9, 2, 1, 6, 3, 8, 3, 1, 0, 1, 7, 6, 6, 6, 5, 2, 6, 0, 6, 5, 6, 4, 2, 9, 8, 2, 7, 5, 3, 4, 8, 3, 3, 6, 1, 2, 4, 0, 2, 3, 8, 7, 1, 2, 3, 5, 3, 9, 8, 4, 5, 8, 0, 7, 9, 1, 8, 6, 8, 8, 0, 9, 8, 5, 8, 2, 2, 9, 4, 6, 6, 1, 4, 2, 5, 9, 6, 7, 2, 5, 0, 6, 4, 3, 6, 9, 4, 7, 5, 0, 7, 7, 1, 4, 1, 3, 8, 0, 4, 1, 5, 0, 4, 0, 5, 6, 6, 6, 8, 1, 2, 5, 7, 7, 5, 5, 7, 5, 9, 9, 9, 3, 1, 5, 3, 4, 6, 9, 0, 7, 2, 0, 8, 7, 4, 0, 5, 1, 7, 6, 5, 2, 7, 2, 1, 6, 8, 7, 5, 0, 9, 0, 7, 1, 0, 7, 6, 7, 1, 2, 7, 9, 1, 5, 3, 3, 9, 2, 3, 3, 4, 2, 6, 0, 8, 8, 5, 5, 5, 9, 3, 4, 5, 9, 0, 8, 9, 8, 1, 6, 9, 5, 3, 9, 1, 2, 1, 9, 7, 7, 8, 2, 8, 9, 8, 9, 8, 6, 0, 8, 3, 8, 4, 0, 0, 6, 0, 3, 6, 5, 3, 4, 7, 4, 3, 0, 9, 7, 6, 2, 5, 7, 3, 7, 0, 8, 1, 1, 1, 7, 2, 8, 0, 5, 7, 8, 4, 3, 7, 8, 9, 8, 4, 5, 4, 7, 8, 9, 9, 0, 8, 6, 0, 5, 2, 7, 1, 5, 8, 3, 0, 0, 3, 9, 1, 7, 2, 8, 3, 9, 9, 2, 6, 0, 9, 4, 9, 8, 5, 6, 9, 9, 9, 2, 4, 1, 8, 9, 8, 7, 7, 4, 2, 2, 6, 3, 5, 7, 9, 5, 9, 8, 1, 3, 6, 8, 9, 6, 0, 2, 9, 0, 4, 3, 0, 2, 3, 8, 6, 9, 5, 9, 6, 0, 9, 1, 5, 6, 1, 3, 5, 3, 3, 0, 5, 2, 6, 7, 5, 3, 4, 8, 9, 0, 0, 5, 5, 6, 1, 4, 0, 3, 4, 8, 0, 7, 5, 8, 9, 9, 2, 0, 3, 8, 5, 5, 1, 6, 4, 5, 4, 6, 0, 6, 3, 1, 6, 4, 6, 9, 2, 1, 1, 8, 0, 5, 3, 4, 0, 3, 5, 7, 1, 7, 5, 0, 1, 2, 0, 0, 4, 5, 5, 7, 6, 5, 9, 8, 4, 6, 9, 8, 0, 5, 6, 9, 9, 2, 8, 0, 3, 2, 5, 3, 0, 6, 2, 2, 6, 3, 1, 2, 4, 1, 1, 6, 0, 0, 4, 9, 7, 2, 2, 8, 5, 9, 3, 4, 3, 0, 6, 9, 3, 0, 5, 4, 4, 2, 2, 8, 7, 5, 5, 3, 7, 8, 2, 0, 0, 5, 2, 3, 5, 0, 0, 0, 8, 4, 2, 7, 6, 7, 8, 0, 4, 2, 8, 3, 6, 4, 8, 5, 1, 7, 3, 5, 1, 6, 7, 2, 3, 8, 6, 1, 8, 0, 9, 6, 5, 0, 7, 2, 5, 1, 9, 3, 1, 5, 4, 7, 8, 8, 3, 3, 8, 4, 9, 2, 5, 9, 7, 7, 3, 7, 0, 7, 2, 1, 9, 4, 6, 7, 4, 3, 9, 1, 3, 2, 0, 6, 5, 5, 6, 7, 8, 2, 6, 0, 4, 6, 1, 2, 8, 6, 2, 0, 0, 1, 4, 3, 5, 0, 5, 1, 7, 8, 7, 3, 8, 7, 7, 0, 1, 3, 0, 4, 1, 3, 3, 8, 4, 0, 0, 1, 2, 8, 4, 6, 3, 0, 6, 2, 5, 9, 7, 1, 3, 3, 0, 3, 7, 1, 2, 3, 0, 6, 4, 5, 7, 4, 0, 8, 9, 8, 6, 9, 2, 9, 1, 1, 3, 8, 6, 4, 9, 3, 9, 6, 2, 5, 5, 5, 4, 8, 8, 6, 4, 1, 4, 0, 2, 9, 4, 3, 1, 4, 9, 9, 7, 2, 6, 9, 5, 5, 2, 0, 1, 1, 1, 9, 0, 2, 6, 5, 2, 2, 9, 8, 7, 9, 9, 2, 1, 6, 2, 3, 7, 0, 9, 1, 9, 6, 8, 0, 8, 0, 8, 9, 0, 3, 3, 2, 3, 5, 5, 2, 4, 3, 5, 6, 8, 3, 1, 2, 0, 5, 4, 5, 4, 8, 7, 7, 2, 6, 7, 7, 8, 4, 0, 0, 4, 0, 4, 0, 7, 2, 1, 8, 4, 4, 0, 1, 2, 2, 5, 3, 0, 6, 2, 3, 0, 7, 1, 9, 8, 1, 2, 2, 5, 8, 5, 8, 1, 5, 0, 5, 7, 0, 5, 0, 3, 1, 2, 7, 1, 9, 2, 2, 6, 0, 9, 8, 4, 0, 1, 5, 3, 2, 9, 3, 4, 0, 6, 1, 2, 0, 0, 1, 0, 6, 4, 8, 5, 0, 7, 3, 8, 6, 1, 4, 1, 3, 4, 1, 1, 8, 7, 4, 6, 8, 0, 2, 6, 0, 6, 9, 7, 0, 6, 3, 1, 7, 4, 7, 4, 2, 8, 4, 9, 2, 8, 8, 5, 7, 9, 2, 1, 1, 4, 6, 6, 3, 5, 6, 1, 1, 9, 3, 9, 5, 7, 9, 0, 9, 1, 0, 5, 4, 7, 5, 5, 4, 8, 0, 9, 0, 6, 0, 6, 8, 2, 8, 7, 7, 3, 0, 0, 3, 7, 7, 8, 9, 9, 7, 2, 6, 8, 4, 9, 3, 9, 8, 7, 8, 6, 4, 5, 2, 5, 3, 1, 9, 2, 7, 7, 0, 7, 9, 9, 6, 9, 7, 7, 2, 4, 0, 9, 1, 0, 8, 1, 3, 0, 5, 2, 3, 9, 2, 8, 1, 3, 8, 8, 0, 2, 8, 3, 3, 8, 3, 8, 1, 1, 2, 3, 2, 3, 6, 8, 7, 1, 7, 1, 2, 5, 7, 2, 0, 3, 2, 4, 0, 4, 0, 6, 5, 7, 5, 2, 0, 8, 5, 4, 7, 2, 8, 4, 7, 4, 6, 4, 7, 8, 1, 0, 0, 1, 0, 9, 3, 1, 6, 2, 4, 0, 4, 7, 8, 0, 4, 7, 5, 3, 6, 9, 2, 5, 3, 5, 2, 8, 7, 1, 2, 4, 8, 1, 4, 5, 1, 5, 5, 0, 9, 9, 3, 9, 7, 0, 5, 7, 8, 0, 5, 1, 4, 7, 1, 3, 2, 1, 6, 3, 1, 0, 1, 6, 0, 8, 2, 3, 5, 8, 3, 2, 1, 1, 4, 3, 9, 1, 3, 0, 8, 2, 2, 7, 2, 8, 4, 2, 2, 7, 8, 4, 8, 6, 5, 6, 3, 9, 8, 8, 7, 2, 3, 7, 6, 1, 7, 9, 1, 7, 5, 1, 9, 1, 5, 6, 8, 9, 0, 1, 0, 4, 9, 1, 1, 7, 5, 1, 1, 4, 2, 4, 5, 4, 4, 2, 9, 2, 8, 8, 3, 9, 6, 5, 7, 1, 1, 7, 1, 0, 1, 3, 0, 0, 6, 6, 1, 6, 3, 8, 4, 2, 8, 4, 0, 5, 2, 6, 3, 7, 8, 0, 1, 6, 1, 9, 3, 6, 1, 0, 5, 7, 9, 0, 9, 4, 6, 9, 7, 9, 7, 1, 7, 3, 5, 5, 9, 8, 8, 2, 0, 9, 0, 8, 1, 5, 4, 5, 2, 0, 2, 9, 6, 1, 1, 7, 7, 7, 3, 7, 6, 7, 0, 6, 9, 5, 5, 4, 2, 9, 3, 1, 3, 1, 2, 2, 3, 4, 7, 7, 8, 0, 6, 8, 8, 4, 2, 3, 1, 6, 6, 6, 2, 3, 7, 8, 9, 2, 2, 7, 6, 0, 9, 3, 7, 8, 2, 7, 5, 8, 1, 0, 9, 9, 3, 7, 4, 2, 4, 4, 2, 7, 5, 8, 1, 8, 9, 7, 0, 4, 8, 8, 2, 6, 5, 8, 2, 8, 3, 7, 7, 2, 2, 4, 8, 6, 2, 2, 1, 4, 9, 4, 5, 7, 6, 8, 5, 7, 4, 7, 3, 0, 4, 5, 9, 8, 6, 7, 6, 0, 8, 0, 1, 1, 8, 0, 0, 1, 6, 0, 1, 6, 4, 6, 5, 7, 0, 6, 3, 0, 9, 9, 8, 1, 2, 0, 5, 3, 6, 4, 1, 8, 5, 0, 8, 1, 0, 3, 9, 1, 6, 0, 6, 8, 3, 1, 7, 7, 7, 1, 2, 8, 7, 5, 5, 7, 6, 2, 2, 3, 4, 6, 0, 3, 8, 2, 2, 8, 7, 2, 4, 1, 3, 3, 1, 1, 5, 6, 9, 0, 9, 7, 8, 3, 5, 9, 9, 8, 0, 8, 8, 2, 7, 0, 6, 8, 9, 0, 8, 1, 2, 3, 4, 5, 4, 3, 5, 0, 8, 3, 8, 3, 3, 6, 2, 9, 5, 6, 9, 5, 3, 9, 1, 6, 7, 3, 7, 0, 3, 2, 8, 9, 8, 3, 6, 4, 8, 7, 6, 7, 2, 0, 5, 8, 9, 0, 4, 9, 7, 0, 0, 8, 2, 3, 4, 3, 5, 1, 2, 3, 6, 9, 8, 3, 2, 2, 7, 3, 5, 1, 7, 4, 0, 8, 7, 1, 8, 0, 6, 6, 0, 1, 6, 2, 9, 3, 6, 5, 2, 0, 9, 6, 6, 6, 9, 3, 9, 5, 9, 8, 4, 0, 7, 1, 0, 4, 0, 1, 2, 7, 7, 5, 6, 6, 1, 0, 1, 9, 3, 8, 4, 0, 6, 6, 1, 7, 6, 0, 3, 5, 3, 9, 9, 8, 2, 0, 6, 7, 5, 7, 0, 7, 9, 4, 0, 8, 5, 6, 0, 1, 3, 4, 5, 2, 0, 7, 2, 5, 7, 4, 1, 5, 0, 8, 9, 2, 3, 8, 5, 6, 7, 4, 5, 5, 6, 5, 0, 1, 0, 1, 7, 3, 3, 4, 0, 9, 0, 8, 3, 0, 0, 2, 5, 9, 5, 7, 9, 1, 8, 2, 9, 4, 4, 9, 7, 8, 8, 2, 8, 3, 1, 8, 2, 1, 9, 8, 6, 8, 7, 3, 2, 0, 4, 0, 1, 2, 5, 5, 1, 6, 0, 3, 5, 3, 3, 4, 9, 7, 7, 2, 8, 3, 4, 0, 7, 5, 2, 0, 9, 1, 7, 3, 2, 7, 1, 8, 9, 6, 4, 5, 2, 2, 1, 4, 2, 6, 9, 9, 3, 5, 3, 4, 4, 3, 0, 8, 6, 6, 4, 4, 0, 4, 4, 4, 4, 0, 5, 0, 3, 7, 7, 8, 1, 5, 6, 1, 5, 5, 0, 3, 0, 4, 6, 2, 3, 9, 7, 2, 4, 0, 6, 4, 2, 7, 8, 4, 3, 1, 8, 8, 3, 4, 5, 9, 8, 2, 8, 0, 8, 7, 8, 9, 1, 9, 0, 0, 4, 1, 7, 0, 8, 2, 4, 1, 8, 1, 6, 8, 4, 7, 7, 8, 9, 5, 4, 4, 1, 6, 4, 9, 0, 1, 5, 5, 4, 6, 7, 4, 1, 8, 2, 3, 2, 8, 9, 8, 2, 8, 3, 2, 6, 8, 1, 0, 8, 4, 1, 2, 0, 0, 8, 5, 2, 2, 2, 6, 8, 9, 3, 8, 3, 9, 7, 3, 1, 1, 1, 9, 3, 0, 4, 2, 1, 2, 2, 7, 4, 4, 4, 6, 3, 0, 6, 8, 3, 7, 2, 3, 0, 7, 4, 0, 3, 1, 3, 7, 4, 1, 3, 6, 2, 6, 3, 8, 2, 9, 6, 4, 6, 3, 0, 9, 9, 6, 9, 1, 8, 3, 8, 3, 1, 8, 4, 6, 8, 0, 6, 0, 0, 1, 8, 1, 1, 7, 1, 1, 3, 4, 4, 5, 0, 0, 1, 8, 9, 0, 8, 9, 3, 4, 1, 8, 4, 9, 1, 1, 4, 4, 5, 7, 1, 4, 0, 4, 7, 0, 3, 2, 0, 5, 4, 2, 3, 7, 2, 9, 3, 8, 7, 6, 6, 6, 7, 5, 7, 5, 8, 8, 2, 6, 7, 4, 8, 3, 6, 9, 8, 3, 9, 7, 7, 5, 3, 0, 7, 9, 4, 9, 1, 1, 5, 9, 2, 6, 1, 0, 4, 8, 3, 8, 5, 7, 1, 3, 9, 5, 9, 6, 6, 3, 8, 9, 2, 7, 5, 8, 7, 9, 8, 2, 8, 7, 7, 9, 9, 7, 3, 6, 8, 5, 8, 3, 9, 9, 1, 9, 3, 8, 6, 2, 8, 3, 4, 7, 1, 9, 0, 7, 6, 4, 9, 4, 2, 0, 6, 7, 6, 4, 3, 7, 4, 8, 1, 8, 9, 5, 3, 0, 7, 4, 8, 4, 7, 7, 3, 9, 6, 4, 1, 5, 3, 0, 8, 5, 1, 5, 6, 5, 3, 0, 0, 5, 7, 1, 4, 2, 6, 6, 5, 1, 1, 3, 9, 8, 3, 5, 9, 7, 8, 0, 1, 8, 0, 1, 0, 2, 2, 6, 3, 9, 6, 1, 3, 5, 9, 7, 4, 8, 6, 7, 8, 2, 5, 1, 7, 4, 4, 8, 7, 8, 5, 4, 9, 0, 5, 3, 0, 8, 6, 8, 8, 0, 4, 2, 1, 4, 3, 7, 0, 3, 3, 2, 1, 3, 1, 4, 0, 3, 0, 5, 6, 5, 6, 1, 8, 4, 5, 3, 3, 1, 1, 7, 8, 0, 2, 3, 9, 6, 1, 2, 3, 8, 5, 5, 8, 1, 8, 0, 2, 7, 1, 7, 4, 4, 6, 9, 3, 3, 7, 4, 9, 4, 2, 1, 5, 2, 9, 2, 6, 7, 3, 7, 8, 3, 2, 0, 7, 4, 8, 7, 9, 7, 3, 9, 8, 4, 0, 4, 5, 3, 5, 8, 7, 0, 6, 4, 3, 3, 9, 8, 1, 0, 3, 7, 6, 1, 9, 0, 2, 1, 0, 3, 4, 8, 5, 2, 1, 7, 3, 3, 5, 1, 2, 3, 3, 5, 5, 0, 7, 5, 1, 0, 0, 9, 4, 3, 2, 2, 0, 7, 6, 7, 1, 7, 1, 8, 1, 2, 6, 7, 5, 6, 2, 8, 1, 9, 9, 8, 1, 8, 5, 0, 5, 1, 1, 2, 7, 5, 8, 1, 4, 6, 6, 8, 8, 8, 0, 3, 2, 4, 8, 6, 0, 5, 3, 7, 4, 0, 8, 8, 4, 3, 2, 7, 0, 3, 9, 4, 1, 3, 6, 5, 4, 3, 3, 7, 5, 2, 1, 2, 5, 5, 2, 3, 2, 3, 7, 4, 5, 3, 6, 8, 5, 0, 1, 9, 6, 9, 2, 5, 8, 0, 2, 9, 7, 7, 2, 0, 4, 4, 4, 6, 0, 2, 0, 0, 6, 1, 4, 0, 2, 7, 6, 5, 3, 1, 7, 9, 3, 1, 7, 2, 7, 1, 2, 4, 1, 6, 5, 7, 1, 2, 5, 4, 6, 9, 1, 5, 0, 9, 2, 3, 6, 8, 4, 2, 5, 9, 0, 1, 5, 6, 8, 5, 9, 5, 0, 1, 8, 4, 1, 2, 5, 5, 1, 6, 2, 9, 3, 9, 1, 0, 9, 3, 5, 2, 8, 9, 8, 7, 4, 4, 3, 6, 7, 6, 8, 1, 3, 1, 0, 4, 4, 8, 6, 1, 1, 7, 5, 4, 5, 6, 8, 9, 0, 4, 8, 7, 1, 2, 5, 8, 5, 0, 7, 3, 5, 5, 6, 9, 7, 5, 9, 0, 9, 0, 2, 3, 2, 8, 7, 7, 5, 9, 2, 7, 9, 8, 9, 2, 1, 1, 8, 2, 2, 0, 3, 8, 1, 7, 7, 2, 6, 6, 4, 8, 8, 9, 4, 1, 0, 0, 9, 5, 1, 5, 9, 1, 9, 5, 2, 1, 4, 8, 8, 4, 3, 9, 2, 9, 0, 5, 6, 3, 1, 4, 8, 6, 0, 9, 7, 6, 2, 9, 7, 9, 3, 3, 1, 3, 5, 4, 3, 9, 7, 9, 8, 0, 3, 4, 7, 3, 6, 9, 2, 4, 3, 6, 6, 1, 0, 3, 5, 9, 8, 6, 3, 5, 1, 5, 7, 0, 3, 3, 0, 0, 1, 1, 4, 6, 6, 9, 2, 8, 3, 0, 3, 3, 1, 7, 5, 6, 9, 8, 2, 5, 6, 5, 0, 8, 6, 9, 8, 3, 1, 2, 3, 7, 9, 0, 9, 7, 9, 3, 9, 2, 2, 4, 1, 7, 0, 3, 8, 5, 7, 5, 0, 1, 3, 6, 1, 8, 6, 5, 2, 1, 5, 1, 1, 6, 8, 7, 8, 6, 4, 2, 3, 3, 7, 4, 7, 4, 9, 6, 6, 9, 9, 0, 1, 6, 1, 4, 3, 7, 2, 4, 8, 8, 7, 2, 9, 8, 9, 1, 3, 2, 4, 5, 5, 7, 0, 7, 6, 0, 2, 9, 9, 4, 0, 4, 8, 2, 3, 9, 0, 7, 7, 9, 5, 0, 4, 8, 1, 8, 0, 4, 6, 0, 0, 9, 8, 1, 9, 9, 5, 5, 6, 9, 5, 0, 3, 4, 7, 7, 1, 3, 7, 5, 0, 4, 3, 8, 1, 6, 0, 8, 0, 6, 8, 5, 1, 5, 1, 4, 7, 9, 6, 7, 8, 6, 7, 2, 3, 5, 5, 9, 5, 1, 5, 2, 3, 8, 5, 1, 9, 2, 2, 0, 1, 0, 3, 5, 3, 3, 3, 1, 8, 4, 4, 4, 0, 9, 8, 2, 4, 2, 6, 8, 4, 8, 8, 9, 2, 4, 1, 4, 1, 3, 1, 4, 2, 5, 7, 4, 8, 1, 9, 7, 3, 5, 6, 9, 9, 6, 7, 4, 9, 5, 7, 7, 0, 0, 2, 2, 6, 7, 4, 5, 3, 5, 3, 4, 5, 3, 8, 5, 9, 4, 4, 9, 7, 4, 5, 8, 8, 0, 5, 1, 2, 6, 7, 2, 6, 1, 2, 1, 1, 4, 5, 1, 3, 3, 8, 2, 2, 8, 1, 5, 3, 2, 8, 5, 6, 5, 3, 9, 2, 9, 6, 5, 1, 8, 2, 7, 4, 6, 4, 4, 5, 6, 5, 3, 2, 0, 8, 1, 6, 9, 1, 3, 4, 5, 0, 7, 5, 5, 0, 2, 5, 1, 5, 9, 5, 8, 6, 9, 8, 9, 0, 0, 6, 0, 4, 9, 6, 8, 3, 0, 8, 0, 9, 4, 9, 3, 2, 7, 6, 8, 2, 9, 9, 5, 3, 2, 6, 1, 8, 9, 0, 1, 3, 6, 7, 0, 6, 1, 7, 1, 7, 1, 3, 9, 0, 6, 0, 8, 7, 2, 3, 3, 9, 2, 8, 5, 2, 0, 7, 3, 3, 6, 2, 9, 7, 3, 3, 8, 1, 2, 7, 6, 8, 3, 4, 7, 5, 2, 7, 3, 5, 7, 0, 8, 1, 2, 7, 8, 1, 7, 2, 6, 2, 9, 0, 4, 5, 1, 4, 6, 3, 8, 5, 1, 9, 4, 5, 0, 6, 5, 0, 9, 7, 8, 5, 0, 2, 0, 2, 7, 5, 3, 3, 9, 8, 1, 0, 3, 3, 3, 8, 1, 0, 2, 1, 5, 1, 0, 1, 4, 3, 7, 8, 4, 1, 8, 7, 2, 3, 3, 1, 7, 1, 4, 3, 6, 6, 3, 9, 8, 6, 7, 0, 7, 7, 5, 2, 8, 2, 0, 9, 4, 1, 7, 7, 4, 4, 4, 5, 9, 4, 0, 5, 2, 7, 8, 4, 8, 9, 2, 8, 4, 9, 0, 1, 9, 3, 2, 1, 6, 8, 9, 2, 7, 5, 7, 0, 2, 6, 7, 7, 1, 8, 6, 1, 9, 2, 2, 4, 3, 7, 8, 6, 0, 6, 3, 4, 1, 0, 0, 6, 4, 4, 9, 7, 9, 1, 2, 2, 4, 6, 4, 9, 0, 3, 3, 9, 5, 5, 2, 6, 4, 4, 7, 7, 7, 4, 1, 5, 9, 6, 2, 5, 1, 6, 7, 3, 5, 5, 3, 9, 6, 4, 9, 2, 5, 6, 8, 2, 6, 7, 6, 1, 9, 5, 4, 5, 6, 8, 8, 3, 3, 8, 3, 8, 8, 8, 4, 2, 0, 0, 8, 2, 1, 5, 4, 8, 1, 0, 1, 9, 2, 1, 6, 1, 0, 2, 4, 0, 2, 6, 7, 7, 7, 1, 3, 0, 6, 2, 2, 6, 4, 0, 6, 5, 2, 9, 3, 4, 7, 7, 2, 4, 1, 9, 1, 7, 9, 6, 6, 8, 7, 3, 9, 1, 1, 4, 6, 2, 0, 9, 7, 5, 6, 8, 4, 7, 6, 0, 2, 6, 4, 1, 8, 8, 2, 1, 7, 4, 0, 3, 8, 4, 3, 7, 6, 9, 7, 4, 7, 4, 2, 4, 6, 3, 2, 9, 5, 1, 5, 5, 4, 4, 8, 1, 5, 1, 3, 7, 0, 8, 4, 2, 6, 3, 8, 0, 6, 1, 9, 8, 7, 4, 7, 2, 5, 1, 5, 7, 0, 2, 9, 2, 3, 6, 3, 2, 1, 9, 5, 9, 5, 4, 9, 3, 8, 5, 0, 4, 9, 6, 3, 4, 9, 3, 9, 3, 6, 5, 0, 9, 0, 0, 6, 5, 8, 4, 0, 8, 8, 3, 2, 1, 5, 9, 6, 1, 1, 8, 7, 7, 0, 4, 3, 1, 5, 2, 9, 0, 4, 0, 7, 4, 0, 9, 4, 7, 7, 9]\n"
     ]
    }
   ],
   "source": [
    "print(random_numbers)"
   ]
  },
  {
   "cell_type": "code",
   "execution_count": 49,
   "metadata": {},
   "outputs": [
    {
     "data": {
      "text/plain": [
       "10000"
      ]
     },
     "execution_count": 49,
     "metadata": {},
     "output_type": "execute_result"
    }
   ],
   "source": [
    "len(random_numbers)"
   ]
  },
  {
   "cell_type": "code",
   "execution_count": 53,
   "metadata": {},
   "outputs": [
    {
     "name": "stdout",
     "output_type": "stream",
     "text": [
      "[2]\n",
      "[2, 0]\n",
      "[2, 0, 8]\n",
      "[2, 0, 8, 3]\n",
      "[2, 0, 8, 3, 9]\n",
      "[2, 0, 8, 3, 9, 3]\n",
      "[2, 0, 8, 3, 9, 3, 9]\n",
      "[2, 0, 8, 3, 9, 3, 9, 3]\n",
      "[2, 0, 8, 3, 9, 3, 9, 3, 7]\n",
      "[2, 0, 8, 3, 9, 3, 9, 3, 7, 3]\n",
      "[2, 0, 8, 3, 9, 3, 9, 3, 7, 3, 2]\n",
      "[2, 0, 8, 3, 9, 3, 9, 3, 7, 3, 2, 4]\n",
      "[2, 0, 8, 3, 9, 3, 9, 3, 7, 3, 2, 4, 5]\n",
      "[2, 0, 8, 3, 9, 3, 9, 3, 7, 3, 2, 4, 5, 2]\n",
      "[2, 0, 8, 3, 9, 3, 9, 3, 7, 3, 2, 4, 5, 2, 2]\n",
      "[2, 0, 8, 3, 9, 3, 9, 3, 7, 3, 2, 4, 5, 2, 2, 7]\n",
      "[2, 0, 8, 3, 9, 3, 9, 3, 7, 3, 2, 4, 5, 2, 2, 7, 3]\n",
      "[2, 0, 8, 3, 9, 3, 9, 3, 7, 3, 2, 4, 5, 2, 2, 7, 3, 8]\n",
      "[2, 0, 8, 3, 9, 3, 9, 3, 7, 3, 2, 4, 5, 2, 2, 7, 3, 8, 2]\n",
      "[2, 0, 8, 3, 9, 3, 9, 3, 7, 3, 2, 4, 5, 2, 2, 7, 3, 8, 2, 5]\n",
      "[2, 0, 8, 3, 9, 3, 9, 3, 7, 3, 2, 4, 5, 2, 2, 7, 3, 8, 2, 5, 6]\n",
      "[2, 0, 8, 3, 9, 3, 9, 3, 7, 3, 2, 4, 5, 2, 2, 7, 3, 8, 2, 5, 6, 5]\n",
      "[2, 0, 8, 3, 9, 3, 9, 3, 7, 3, 2, 4, 5, 2, 2, 7, 3, 8, 2, 5, 6, 5, 5]\n",
      "[2, 0, 8, 3, 9, 3, 9, 3, 7, 3, 2, 4, 5, 2, 2, 7, 3, 8, 2, 5, 6, 5, 5, 6]\n",
      "[2, 0, 8, 3, 9, 3, 9, 3, 7, 3, 2, 4, 5, 2, 2, 7, 3, 8, 2, 5, 6, 5, 5, 6, 4]\n",
      "[2, 0, 8, 3, 9, 3, 9, 3, 7, 3, 2, 4, 5, 2, 2, 7, 3, 8, 2, 5, 6, 5, 5, 6, 4, 2]\n",
      "[2, 0, 8, 3, 9, 3, 9, 3, 7, 3, 2, 4, 5, 2, 2, 7, 3, 8, 2, 5, 6, 5, 5, 6, 4, 2, 5]\n",
      "[2, 0, 8, 3, 9, 3, 9, 3, 7, 3, 2, 4, 5, 2, 2, 7, 3, 8, 2, 5, 6, 5, 5, 6, 4, 2, 5, 3]\n",
      "[2, 0, 8, 3, 9, 3, 9, 3, 7, 3, 2, 4, 5, 2, 2, 7, 3, 8, 2, 5, 6, 5, 5, 6, 4, 2, 5, 3, 3]\n",
      "[2, 0, 8, 3, 9, 3, 9, 3, 7, 3, 2, 4, 5, 2, 2, 7, 3, 8, 2, 5, 6, 5, 5, 6, 4, 2, 5, 3, 3, 0]\n",
      "[2, 0, 8, 3, 9, 3, 9, 3, 7, 3, 2, 4, 5, 2, 2, 7, 3, 8, 2, 5, 6, 5, 5, 6, 4, 2, 5, 3, 3, 0, 0]\n",
      "[2, 0, 8, 3, 9, 3, 9, 3, 7, 3, 2, 4, 5, 2, 2, 7, 3, 8, 2, 5, 6, 5, 5, 6, 4, 2, 5, 3, 3, 0, 0, 8]\n",
      "[2, 0, 8, 3, 9, 3, 9, 3, 7, 3, 2, 4, 5, 2, 2, 7, 3, 8, 2, 5, 6, 5, 5, 6, 4, 2, 5, 3, 3, 0, 0, 8, 7]\n",
      "[2, 0, 8, 3, 9, 3, 9, 3, 7, 3, 2, 4, 5, 2, 2, 7, 3, 8, 2, 5, 6, 5, 5, 6, 4, 2, 5, 3, 3, 0, 0, 8, 7, 6]\n",
      "[2, 0, 8, 3, 9, 3, 9, 3, 7, 3, 2, 4, 5, 2, 2, 7, 3, 8, 2, 5, 6, 5, 5, 6, 4, 2, 5, 3, 3, 0, 0, 8, 7, 6, 2]\n",
      "[2, 0, 8, 3, 9, 3, 9, 3, 7, 3, 2, 4, 5, 2, 2, 7, 3, 8, 2, 5, 6, 5, 5, 6, 4, 2, 5, 3, 3, 0, 0, 8, 7, 6, 2, 3]\n",
      "[2, 0, 8, 3, 9, 3, 9, 3, 7, 3, 2, 4, 5, 2, 2, 7, 3, 8, 2, 5, 6, 5, 5, 6, 4, 2, 5, 3, 3, 0, 0, 8, 7, 6, 2, 3, 4]\n",
      "[2, 0, 8, 3, 9, 3, 9, 3, 7, 3, 2, 4, 5, 2, 2, 7, 3, 8, 2, 5, 6, 5, 5, 6, 4, 2, 5, 3, 3, 0, 0, 8, 7, 6, 2, 3, 4, 2]\n",
      "[2, 0, 8, 3, 9, 3, 9, 3, 7, 3, 2, 4, 5, 2, 2, 7, 3, 8, 2, 5, 6, 5, 5, 6, 4, 2, 5, 3, 3, 0, 0, 8, 7, 6, 2, 3, 4, 2, 4]\n",
      "[2, 0, 8, 3, 9, 3, 9, 3, 7, 3, 2, 4, 5, 2, 2, 7, 3, 8, 2, 5, 6, 5, 5, 6, 4, 2, 5, 3, 3, 0, 0, 8, 7, 6, 2, 3, 4, 2, 4, 9]\n",
      "[2, 0, 8, 3, 9, 3, 9, 3, 7, 3, 2, 4, 5, 2, 2, 7, 3, 8, 2, 5, 6, 5, 5, 6, 4, 2, 5, 3, 3, 0, 0, 8, 7, 6, 2, 3, 4, 2, 4, 9, 2]\n",
      "[2, 0, 8, 3, 9, 3, 9, 3, 7, 3, 2, 4, 5, 2, 2, 7, 3, 8, 2, 5, 6, 5, 5, 6, 4, 2, 5, 3, 3, 0, 0, 8, 7, 6, 2, 3, 4, 2, 4, 9, 2, 2]\n",
      "[2, 0, 8, 3, 9, 3, 9, 3, 7, 3, 2, 4, 5, 2, 2, 7, 3, 8, 2, 5, 6, 5, 5, 6, 4, 2, 5, 3, 3, 0, 0, 8, 7, 6, 2, 3, 4, 2, 4, 9, 2, 2, 4]\n",
      "[2, 0, 8, 3, 9, 3, 9, 3, 7, 3, 2, 4, 5, 2, 2, 7, 3, 8, 2, 5, 6, 5, 5, 6, 4, 2, 5, 3, 3, 0, 0, 8, 7, 6, 2, 3, 4, 2, 4, 9, 2, 2, 4, 9]\n",
      "[2, 0, 8, 3, 9, 3, 9, 3, 7, 3, 2, 4, 5, 2, 2, 7, 3, 8, 2, 5, 6, 5, 5, 6, 4, 2, 5, 3, 3, 0, 0, 8, 7, 6, 2, 3, 4, 2, 4, 9, 2, 2, 4, 9, 0]\n",
      "[2, 0, 8, 3, 9, 3, 9, 3, 7, 3, 2, 4, 5, 2, 2, 7, 3, 8, 2, 5, 6, 5, 5, 6, 4, 2, 5, 3, 3, 0, 0, 8, 7, 6, 2, 3, 4, 2, 4, 9, 2, 2, 4, 9, 0, 4]\n",
      "[2, 0, 8, 3, 9, 3, 9, 3, 7, 3, 2, 4, 5, 2, 2, 7, 3, 8, 2, 5, 6, 5, 5, 6, 4, 2, 5, 3, 3, 0, 0, 8, 7, 6, 2, 3, 4, 2, 4, 9, 2, 2, 4, 9, 0, 4, 8]\n",
      "[2, 0, 8, 3, 9, 3, 9, 3, 7, 3, 2, 4, 5, 2, 2, 7, 3, 8, 2, 5, 6, 5, 5, 6, 4, 2, 5, 3, 3, 0, 0, 8, 7, 6, 2, 3, 4, 2, 4, 9, 2, 2, 4, 9, 0, 4, 8, 1]\n",
      "[2, 0, 8, 3, 9, 3, 9, 3, 7, 3, 2, 4, 5, 2, 2, 7, 3, 8, 2, 5, 6, 5, 5, 6, 4, 2, 5, 3, 3, 0, 0, 8, 7, 6, 2, 3, 4, 2, 4, 9, 2, 2, 4, 9, 0, 4, 8, 1, 9]\n",
      "[2, 0, 8, 3, 9, 3, 9, 3, 7, 3, 2, 4, 5, 2, 2, 7, 3, 8, 2, 5, 6, 5, 5, 6, 4, 2, 5, 3, 3, 0, 0, 8, 7, 6, 2, 3, 4, 2, 4, 9, 2, 2, 4, 9, 0, 4, 8, 1, 9, 8]\n",
      "[2, 0, 8, 3, 9, 3, 9, 3, 7, 3, 2, 4, 5, 2, 2, 7, 3, 8, 2, 5, 6, 5, 5, 6, 4, 2, 5, 3, 3, 0, 0, 8, 7, 6, 2, 3, 4, 2, 4, 9, 2, 2, 4, 9, 0, 4, 8, 1, 9, 8, 8]\n",
      "[2, 0, 8, 3, 9, 3, 9, 3, 7, 3, 2, 4, 5, 2, 2, 7, 3, 8, 2, 5, 6, 5, 5, 6, 4, 2, 5, 3, 3, 0, 0, 8, 7, 6, 2, 3, 4, 2, 4, 9, 2, 2, 4, 9, 0, 4, 8, 1, 9, 8, 8, 4]\n",
      "[2, 0, 8, 3, 9, 3, 9, 3, 7, 3, 2, 4, 5, 2, 2, 7, 3, 8, 2, 5, 6, 5, 5, 6, 4, 2, 5, 3, 3, 0, 0, 8, 7, 6, 2, 3, 4, 2, 4, 9, 2, 2, 4, 9, 0, 4, 8, 1, 9, 8, 8, 4, 9]\n",
      "[2, 0, 8, 3, 9, 3, 9, 3, 7, 3, 2, 4, 5, 2, 2, 7, 3, 8, 2, 5, 6, 5, 5, 6, 4, 2, 5, 3, 3, 0, 0, 8, 7, 6, 2, 3, 4, 2, 4, 9, 2, 2, 4, 9, 0, 4, 8, 1, 9, 8, 8, 4, 9, 7]\n",
      "[2, 0, 8, 3, 9, 3, 9, 3, 7, 3, 2, 4, 5, 2, 2, 7, 3, 8, 2, 5, 6, 5, 5, 6, 4, 2, 5, 3, 3, 0, 0, 8, 7, 6, 2, 3, 4, 2, 4, 9, 2, 2, 4, 9, 0, 4, 8, 1, 9, 8, 8, 4, 9, 7, 8]\n",
      "[2, 0, 8, 3, 9, 3, 9, 3, 7, 3, 2, 4, 5, 2, 2, 7, 3, 8, 2, 5, 6, 5, 5, 6, 4, 2, 5, 3, 3, 0, 0, 8, 7, 6, 2, 3, 4, 2, 4, 9, 2, 2, 4, 9, 0, 4, 8, 1, 9, 8, 8, 4, 9, 7, 8, 8]\n",
      "[2, 0, 8, 3, 9, 3, 9, 3, 7, 3, 2, 4, 5, 2, 2, 7, 3, 8, 2, 5, 6, 5, 5, 6, 4, 2, 5, 3, 3, 0, 0, 8, 7, 6, 2, 3, 4, 2, 4, 9, 2, 2, 4, 9, 0, 4, 8, 1, 9, 8, 8, 4, 9, 7, 8, 8, 3]\n",
      "[2, 0, 8, 3, 9, 3, 9, 3, 7, 3, 2, 4, 5, 2, 2, 7, 3, 8, 2, 5, 6, 5, 5, 6, 4, 2, 5, 3, 3, 0, 0, 8, 7, 6, 2, 3, 4, 2, 4, 9, 2, 2, 4, 9, 0, 4, 8, 1, 9, 8, 8, 4, 9, 7, 8, 8, 3, 3]\n",
      "[2, 0, 8, 3, 9, 3, 9, 3, 7, 3, 2, 4, 5, 2, 2, 7, 3, 8, 2, 5, 6, 5, 5, 6, 4, 2, 5, 3, 3, 0, 0, 8, 7, 6, 2, 3, 4, 2, 4, 9, 2, 2, 4, 9, 0, 4, 8, 1, 9, 8, 8, 4, 9, 7, 8, 8, 3, 3, 4]\n",
      "[2, 0, 8, 3, 9, 3, 9, 3, 7, 3, 2, 4, 5, 2, 2, 7, 3, 8, 2, 5, 6, 5, 5, 6, 4, 2, 5, 3, 3, 0, 0, 8, 7, 6, 2, 3, 4, 2, 4, 9, 2, 2, 4, 9, 0, 4, 8, 1, 9, 8, 8, 4, 9, 7, 8, 8, 3, 3, 4, 9]\n",
      "[2, 0, 8, 3, 9, 3, 9, 3, 7, 3, 2, 4, 5, 2, 2, 7, 3, 8, 2, 5, 6, 5, 5, 6, 4, 2, 5, 3, 3, 0, 0, 8, 7, 6, 2, 3, 4, 2, 4, 9, 2, 2, 4, 9, 0, 4, 8, 1, 9, 8, 8, 4, 9, 7, 8, 8, 3, 3, 4, 9, 3]\n",
      "[2, 0, 8, 3, 9, 3, 9, 3, 7, 3, 2, 4, 5, 2, 2, 7, 3, 8, 2, 5, 6, 5, 5, 6, 4, 2, 5, 3, 3, 0, 0, 8, 7, 6, 2, 3, 4, 2, 4, 9, 2, 2, 4, 9, 0, 4, 8, 1, 9, 8, 8, 4, 9, 7, 8, 8, 3, 3, 4, 9, 3, 4]\n",
      "[2, 0, 8, 3, 9, 3, 9, 3, 7, 3, 2, 4, 5, 2, 2, 7, 3, 8, 2, 5, 6, 5, 5, 6, 4, 2, 5, 3, 3, 0, 0, 8, 7, 6, 2, 3, 4, 2, 4, 9, 2, 2, 4, 9, 0, 4, 8, 1, 9, 8, 8, 4, 9, 7, 8, 8, 3, 3, 4, 9, 3, 4, 3]\n",
      "[2, 0, 8, 3, 9, 3, 9, 3, 7, 3, 2, 4, 5, 2, 2, 7, 3, 8, 2, 5, 6, 5, 5, 6, 4, 2, 5, 3, 3, 0, 0, 8, 7, 6, 2, 3, 4, 2, 4, 9, 2, 2, 4, 9, 0, 4, 8, 1, 9, 8, 8, 4, 9, 7, 8, 8, 3, 3, 4, 9, 3, 4, 3, 2]\n",
      "[2, 0, 8, 3, 9, 3, 9, 3, 7, 3, 2, 4, 5, 2, 2, 7, 3, 8, 2, 5, 6, 5, 5, 6, 4, 2, 5, 3, 3, 0, 0, 8, 7, 6, 2, 3, 4, 2, 4, 9, 2, 2, 4, 9, 0, 4, 8, 1, 9, 8, 8, 4, 9, 7, 8, 8, 3, 3, 4, 9, 3, 4, 3, 2, 3]\n",
      "[2, 0, 8, 3, 9, 3, 9, 3, 7, 3, 2, 4, 5, 2, 2, 7, 3, 8, 2, 5, 6, 5, 5, 6, 4, 2, 5, 3, 3, 0, 0, 8, 7, 6, 2, 3, 4, 2, 4, 9, 2, 2, 4, 9, 0, 4, 8, 1, 9, 8, 8, 4, 9, 7, 8, 8, 3, 3, 4, 9, 3, 4, 3, 2, 3, 0]\n",
      "[2, 0, 8, 3, 9, 3, 9, 3, 7, 3, 2, 4, 5, 2, 2, 7, 3, 8, 2, 5, 6, 5, 5, 6, 4, 2, 5, 3, 3, 0, 0, 8, 7, 6, 2, 3, 4, 2, 4, 9, 2, 2, 4, 9, 0, 4, 8, 1, 9, 8, 8, 4, 9, 7, 8, 8, 3, 3, 4, 9, 3, 4, 3, 2, 3, 0, 4]\n",
      "[2, 0, 8, 3, 9, 3, 9, 3, 7, 3, 2, 4, 5, 2, 2, 7, 3, 8, 2, 5, 6, 5, 5, 6, 4, 2, 5, 3, 3, 0, 0, 8, 7, 6, 2, 3, 4, 2, 4, 9, 2, 2, 4, 9, 0, 4, 8, 1, 9, 8, 8, 4, 9, 7, 8, 8, 3, 3, 4, 9, 3, 4, 3, 2, 3, 0, 4, 6]\n",
      "[2, 0, 8, 3, 9, 3, 9, 3, 7, 3, 2, 4, 5, 2, 2, 7, 3, 8, 2, 5, 6, 5, 5, 6, 4, 2, 5, 3, 3, 0, 0, 8, 7, 6, 2, 3, 4, 2, 4, 9, 2, 2, 4, 9, 0, 4, 8, 1, 9, 8, 8, 4, 9, 7, 8, 8, 3, 3, 4, 9, 3, 4, 3, 2, 3, 0, 4, 6, 2]\n",
      "[2, 0, 8, 3, 9, 3, 9, 3, 7, 3, 2, 4, 5, 2, 2, 7, 3, 8, 2, 5, 6, 5, 5, 6, 4, 2, 5, 3, 3, 0, 0, 8, 7, 6, 2, 3, 4, 2, 4, 9, 2, 2, 4, 9, 0, 4, 8, 1, 9, 8, 8, 4, 9, 7, 8, 8, 3, 3, 4, 9, 3, 4, 3, 2, 3, 0, 4, 6, 2, 9]\n",
      "[2, 0, 8, 3, 9, 3, 9, 3, 7, 3, 2, 4, 5, 2, 2, 7, 3, 8, 2, 5, 6, 5, 5, 6, 4, 2, 5, 3, 3, 0, 0, 8, 7, 6, 2, 3, 4, 2, 4, 9, 2, 2, 4, 9, 0, 4, 8, 1, 9, 8, 8, 4, 9, 7, 8, 8, 3, 3, 4, 9, 3, 4, 3, 2, 3, 0, 4, 6, 2, 9, 2]\n",
      "[2, 0, 8, 3, 9, 3, 9, 3, 7, 3, 2, 4, 5, 2, 2, 7, 3, 8, 2, 5, 6, 5, 5, 6, 4, 2, 5, 3, 3, 0, 0, 8, 7, 6, 2, 3, 4, 2, 4, 9, 2, 2, 4, 9, 0, 4, 8, 1, 9, 8, 8, 4, 9, 7, 8, 8, 3, 3, 4, 9, 3, 4, 3, 2, 3, 0, 4, 6, 2, 9, 2, 8]\n",
      "[2, 0, 8, 3, 9, 3, 9, 3, 7, 3, 2, 4, 5, 2, 2, 7, 3, 8, 2, 5, 6, 5, 5, 6, 4, 2, 5, 3, 3, 0, 0, 8, 7, 6, 2, 3, 4, 2, 4, 9, 2, 2, 4, 9, 0, 4, 8, 1, 9, 8, 8, 4, 9, 7, 8, 8, 3, 3, 4, 9, 3, 4, 3, 2, 3, 0, 4, 6, 2, 9, 2, 8, 5]\n",
      "[2, 0, 8, 3, 9, 3, 9, 3, 7, 3, 2, 4, 5, 2, 2, 7, 3, 8, 2, 5, 6, 5, 5, 6, 4, 2, 5, 3, 3, 0, 0, 8, 7, 6, 2, 3, 4, 2, 4, 9, 2, 2, 4, 9, 0, 4, 8, 1, 9, 8, 8, 4, 9, 7, 8, 8, 3, 3, 4, 9, 3, 4, 3, 2, 3, 0, 4, 6, 2, 9, 2, 8, 5, 5]\n",
      "[2, 0, 8, 3, 9, 3, 9, 3, 7, 3, 2, 4, 5, 2, 2, 7, 3, 8, 2, 5, 6, 5, 5, 6, 4, 2, 5, 3, 3, 0, 0, 8, 7, 6, 2, 3, 4, 2, 4, 9, 2, 2, 4, 9, 0, 4, 8, 1, 9, 8, 8, 4, 9, 7, 8, 8, 3, 3, 4, 9, 3, 4, 3, 2, 3, 0, 4, 6, 2, 9, 2, 8, 5, 5, 2]\n",
      "[2, 0, 8, 3, 9, 3, 9, 3, 7, 3, 2, 4, 5, 2, 2, 7, 3, 8, 2, 5, 6, 5, 5, 6, 4, 2, 5, 3, 3, 0, 0, 8, 7, 6, 2, 3, 4, 2, 4, 9, 2, 2, 4, 9, 0, 4, 8, 1, 9, 8, 8, 4, 9, 7, 8, 8, 3, 3, 4, 9, 3, 4, 3, 2, 3, 0, 4, 6, 2, 9, 2, 8, 5, 5, 2, 4]\n",
      "[2, 0, 8, 3, 9, 3, 9, 3, 7, 3, 2, 4, 5, 2, 2, 7, 3, 8, 2, 5, 6, 5, 5, 6, 4, 2, 5, 3, 3, 0, 0, 8, 7, 6, 2, 3, 4, 2, 4, 9, 2, 2, 4, 9, 0, 4, 8, 1, 9, 8, 8, 4, 9, 7, 8, 8, 3, 3, 4, 9, 3, 4, 3, 2, 3, 0, 4, 6, 2, 9, 2, 8, 5, 5, 2, 4, 2]\n",
      "[2, 0, 8, 3, 9, 3, 9, 3, 7, 3, 2, 4, 5, 2, 2, 7, 3, 8, 2, 5, 6, 5, 5, 6, 4, 2, 5, 3, 3, 0, 0, 8, 7, 6, 2, 3, 4, 2, 4, 9, 2, 2, 4, 9, 0, 4, 8, 1, 9, 8, 8, 4, 9, 7, 8, 8, 3, 3, 4, 9, 3, 4, 3, 2, 3, 0, 4, 6, 2, 9, 2, 8, 5, 5, 2, 4, 2, 3]\n",
      "[2, 0, 8, 3, 9, 3, 9, 3, 7, 3, 2, 4, 5, 2, 2, 7, 3, 8, 2, 5, 6, 5, 5, 6, 4, 2, 5, 3, 3, 0, 0, 8, 7, 6, 2, 3, 4, 2, 4, 9, 2, 2, 4, 9, 0, 4, 8, 1, 9, 8, 8, 4, 9, 7, 8, 8, 3, 3, 4, 9, 3, 4, 3, 2, 3, 0, 4, 6, 2, 9, 2, 8, 5, 5, 2, 4, 2, 3, 8]\n",
      "[2, 0, 8, 3, 9, 3, 9, 3, 7, 3, 2, 4, 5, 2, 2, 7, 3, 8, 2, 5, 6, 5, 5, 6, 4, 2, 5, 3, 3, 0, 0, 8, 7, 6, 2, 3, 4, 2, 4, 9, 2, 2, 4, 9, 0, 4, 8, 1, 9, 8, 8, 4, 9, 7, 8, 8, 3, 3, 4, 9, 3, 4, 3, 2, 3, 0, 4, 6, 2, 9, 2, 8, 5, 5, 2, 4, 2, 3, 8, 1]\n",
      "[2, 0, 8, 3, 9, 3, 9, 3, 7, 3, 2, 4, 5, 2, 2, 7, 3, 8, 2, 5, 6, 5, 5, 6, 4, 2, 5, 3, 3, 0, 0, 8, 7, 6, 2, 3, 4, 2, 4, 9, 2, 2, 4, 9, 0, 4, 8, 1, 9, 8, 8, 4, 9, 7, 8, 8, 3, 3, 4, 9, 3, 4, 3, 2, 3, 0, 4, 6, 2, 9, 2, 8, 5, 5, 2, 4, 2, 3, 8, 1, 0]\n",
      "[2, 0, 8, 3, 9, 3, 9, 3, 7, 3, 2, 4, 5, 2, 2, 7, 3, 8, 2, 5, 6, 5, 5, 6, 4, 2, 5, 3, 3, 0, 0, 8, 7, 6, 2, 3, 4, 2, 4, 9, 2, 2, 4, 9, 0, 4, 8, 1, 9, 8, 8, 4, 9, 7, 8, 8, 3, 3, 4, 9, 3, 4, 3, 2, 3, 0, 4, 6, 2, 9, 2, 8, 5, 5, 2, 4, 2, 3, 8, 1, 0, 2]\n",
      "[2, 0, 8, 3, 9, 3, 9, 3, 7, 3, 2, 4, 5, 2, 2, 7, 3, 8, 2, 5, 6, 5, 5, 6, 4, 2, 5, 3, 3, 0, 0, 8, 7, 6, 2, 3, 4, 2, 4, 9, 2, 2, 4, 9, 0, 4, 8, 1, 9, 8, 8, 4, 9, 7, 8, 8, 3, 3, 4, 9, 3, 4, 3, 2, 3, 0, 4, 6, 2, 9, 2, 8, 5, 5, 2, 4, 2, 3, 8, 1, 0, 2, 5]\n",
      "[2, 0, 8, 3, 9, 3, 9, 3, 7, 3, 2, 4, 5, 2, 2, 7, 3, 8, 2, 5, 6, 5, 5, 6, 4, 2, 5, 3, 3, 0, 0, 8, 7, 6, 2, 3, 4, 2, 4, 9, 2, 2, 4, 9, 0, 4, 8, 1, 9, 8, 8, 4, 9, 7, 8, 8, 3, 3, 4, 9, 3, 4, 3, 2, 3, 0, 4, 6, 2, 9, 2, 8, 5, 5, 2, 4, 2, 3, 8, 1, 0, 2, 5, 2]\n",
      "[2, 0, 8, 3, 9, 3, 9, 3, 7, 3, 2, 4, 5, 2, 2, 7, 3, 8, 2, 5, 6, 5, 5, 6, 4, 2, 5, 3, 3, 0, 0, 8, 7, 6, 2, 3, 4, 2, 4, 9, 2, 2, 4, 9, 0, 4, 8, 1, 9, 8, 8, 4, 9, 7, 8, 8, 3, 3, 4, 9, 3, 4, 3, 2, 3, 0, 4, 6, 2, 9, 2, 8, 5, 5, 2, 4, 2, 3, 8, 1, 0, 2, 5, 2, 5]\n",
      "[2, 0, 8, 3, 9, 3, 9, 3, 7, 3, 2, 4, 5, 2, 2, 7, 3, 8, 2, 5, 6, 5, 5, 6, 4, 2, 5, 3, 3, 0, 0, 8, 7, 6, 2, 3, 4, 2, 4, 9, 2, 2, 4, 9, 0, 4, 8, 1, 9, 8, 8, 4, 9, 7, 8, 8, 3, 3, 4, 9, 3, 4, 3, 2, 3, 0, 4, 6, 2, 9, 2, 8, 5, 5, 2, 4, 2, 3, 8, 1, 0, 2, 5, 2, 5, 5]\n",
      "[2, 0, 8, 3, 9, 3, 9, 3, 7, 3, 2, 4, 5, 2, 2, 7, 3, 8, 2, 5, 6, 5, 5, 6, 4, 2, 5, 3, 3, 0, 0, 8, 7, 6, 2, 3, 4, 2, 4, 9, 2, 2, 4, 9, 0, 4, 8, 1, 9, 8, 8, 4, 9, 7, 8, 8, 3, 3, 4, 9, 3, 4, 3, 2, 3, 0, 4, 6, 2, 9, 2, 8, 5, 5, 2, 4, 2, 3, 8, 1, 0, 2, 5, 2, 5, 5, 5]\n",
      "[2, 0, 8, 3, 9, 3, 9, 3, 7, 3, 2, 4, 5, 2, 2, 7, 3, 8, 2, 5, 6, 5, 5, 6, 4, 2, 5, 3, 3, 0, 0, 8, 7, 6, 2, 3, 4, 2, 4, 9, 2, 2, 4, 9, 0, 4, 8, 1, 9, 8, 8, 4, 9, 7, 8, 8, 3, 3, 4, 9, 3, 4, 3, 2, 3, 0, 4, 6, 2, 9, 2, 8, 5, 5, 2, 4, 2, 3, 8, 1, 0, 2, 5, 2, 5, 5, 5, 2]\n",
      "[2, 0, 8, 3, 9, 3, 9, 3, 7, 3, 2, 4, 5, 2, 2, 7, 3, 8, 2, 5, 6, 5, 5, 6, 4, 2, 5, 3, 3, 0, 0, 8, 7, 6, 2, 3, 4, 2, 4, 9, 2, 2, 4, 9, 0, 4, 8, 1, 9, 8, 8, 4, 9, 7, 8, 8, 3, 3, 4, 9, 3, 4, 3, 2, 3, 0, 4, 6, 2, 9, 2, 8, 5, 5, 2, 4, 2, 3, 8, 1, 0, 2, 5, 2, 5, 5, 5, 2, 2]\n",
      "[2, 0, 8, 3, 9, 3, 9, 3, 7, 3, 2, 4, 5, 2, 2, 7, 3, 8, 2, 5, 6, 5, 5, 6, 4, 2, 5, 3, 3, 0, 0, 8, 7, 6, 2, 3, 4, 2, 4, 9, 2, 2, 4, 9, 0, 4, 8, 1, 9, 8, 8, 4, 9, 7, 8, 8, 3, 3, 4, 9, 3, 4, 3, 2, 3, 0, 4, 6, 2, 9, 2, 8, 5, 5, 2, 4, 2, 3, 8, 1, 0, 2, 5, 2, 5, 5, 5, 2, 2, 9]\n",
      "[2, 0, 8, 3, 9, 3, 9, 3, 7, 3, 2, 4, 5, 2, 2, 7, 3, 8, 2, 5, 6, 5, 5, 6, 4, 2, 5, 3, 3, 0, 0, 8, 7, 6, 2, 3, 4, 2, 4, 9, 2, 2, 4, 9, 0, 4, 8, 1, 9, 8, 8, 4, 9, 7, 8, 8, 3, 3, 4, 9, 3, 4, 3, 2, 3, 0, 4, 6, 2, 9, 2, 8, 5, 5, 2, 4, 2, 3, 8, 1, 0, 2, 5, 2, 5, 5, 5, 2, 2, 9, 7]\n",
      "[2, 0, 8, 3, 9, 3, 9, 3, 7, 3, 2, 4, 5, 2, 2, 7, 3, 8, 2, 5, 6, 5, 5, 6, 4, 2, 5, 3, 3, 0, 0, 8, 7, 6, 2, 3, 4, 2, 4, 9, 2, 2, 4, 9, 0, 4, 8, 1, 9, 8, 8, 4, 9, 7, 8, 8, 3, 3, 4, 9, 3, 4, 3, 2, 3, 0, 4, 6, 2, 9, 2, 8, 5, 5, 2, 4, 2, 3, 8, 1, 0, 2, 5, 2, 5, 5, 5, 2, 2, 9, 7, 5]\n",
      "[2, 0, 8, 3, 9, 3, 9, 3, 7, 3, 2, 4, 5, 2, 2, 7, 3, 8, 2, 5, 6, 5, 5, 6, 4, 2, 5, 3, 3, 0, 0, 8, 7, 6, 2, 3, 4, 2, 4, 9, 2, 2, 4, 9, 0, 4, 8, 1, 9, 8, 8, 4, 9, 7, 8, 8, 3, 3, 4, 9, 3, 4, 3, 2, 3, 0, 4, 6, 2, 9, 2, 8, 5, 5, 2, 4, 2, 3, 8, 1, 0, 2, 5, 2, 5, 5, 5, 2, 2, 9, 7, 5, 3]\n",
      "[2, 0, 8, 3, 9, 3, 9, 3, 7, 3, 2, 4, 5, 2, 2, 7, 3, 8, 2, 5, 6, 5, 5, 6, 4, 2, 5, 3, 3, 0, 0, 8, 7, 6, 2, 3, 4, 2, 4, 9, 2, 2, 4, 9, 0, 4, 8, 1, 9, 8, 8, 4, 9, 7, 8, 8, 3, 3, 4, 9, 3, 4, 3, 2, 3, 0, 4, 6, 2, 9, 2, 8, 5, 5, 2, 4, 2, 3, 8, 1, 0, 2, 5, 2, 5, 5, 5, 2, 2, 9, 7, 5, 3, 4]\n",
      "[2, 0, 8, 3, 9, 3, 9, 3, 7, 3, 2, 4, 5, 2, 2, 7, 3, 8, 2, 5, 6, 5, 5, 6, 4, 2, 5, 3, 3, 0, 0, 8, 7, 6, 2, 3, 4, 2, 4, 9, 2, 2, 4, 9, 0, 4, 8, 1, 9, 8, 8, 4, 9, 7, 8, 8, 3, 3, 4, 9, 3, 4, 3, 2, 3, 0, 4, 6, 2, 9, 2, 8, 5, 5, 2, 4, 2, 3, 8, 1, 0, 2, 5, 2, 5, 5, 5, 2, 2, 9, 7, 5, 3, 4, 3]\n",
      "[2, 0, 8, 3, 9, 3, 9, 3, 7, 3, 2, 4, 5, 2, 2, 7, 3, 8, 2, 5, 6, 5, 5, 6, 4, 2, 5, 3, 3, 0, 0, 8, 7, 6, 2, 3, 4, 2, 4, 9, 2, 2, 4, 9, 0, 4, 8, 1, 9, 8, 8, 4, 9, 7, 8, 8, 3, 3, 4, 9, 3, 4, 3, 2, 3, 0, 4, 6, 2, 9, 2, 8, 5, 5, 2, 4, 2, 3, 8, 1, 0, 2, 5, 2, 5, 5, 5, 2, 2, 9, 7, 5, 3, 4, 3, 4]\n",
      "[2, 0, 8, 3, 9, 3, 9, 3, 7, 3, 2, 4, 5, 2, 2, 7, 3, 8, 2, 5, 6, 5, 5, 6, 4, 2, 5, 3, 3, 0, 0, 8, 7, 6, 2, 3, 4, 2, 4, 9, 2, 2, 4, 9, 0, 4, 8, 1, 9, 8, 8, 4, 9, 7, 8, 8, 3, 3, 4, 9, 3, 4, 3, 2, 3, 0, 4, 6, 2, 9, 2, 8, 5, 5, 2, 4, 2, 3, 8, 1, 0, 2, 5, 2, 5, 5, 5, 2, 2, 9, 7, 5, 3, 4, 3, 4, 5]\n",
      "[2, 0, 8, 3, 9, 3, 9, 3, 7, 3, 2, 4, 5, 2, 2, 7, 3, 8, 2, 5, 6, 5, 5, 6, 4, 2, 5, 3, 3, 0, 0, 8, 7, 6, 2, 3, 4, 2, 4, 9, 2, 2, 4, 9, 0, 4, 8, 1, 9, 8, 8, 4, 9, 7, 8, 8, 3, 3, 4, 9, 3, 4, 3, 2, 3, 0, 4, 6, 2, 9, 2, 8, 5, 5, 2, 4, 2, 3, 8, 1, 0, 2, 5, 2, 5, 5, 5, 2, 2, 9, 7, 5, 3, 4, 3, 4, 5, 1]\n",
      "[2, 0, 8, 3, 9, 3, 9, 3, 7, 3, 2, 4, 5, 2, 2, 7, 3, 8, 2, 5, 6, 5, 5, 6, 4, 2, 5, 3, 3, 0, 0, 8, 7, 6, 2, 3, 4, 2, 4, 9, 2, 2, 4, 9, 0, 4, 8, 1, 9, 8, 8, 4, 9, 7, 8, 8, 3, 3, 4, 9, 3, 4, 3, 2, 3, 0, 4, 6, 2, 9, 2, 8, 5, 5, 2, 4, 2, 3, 8, 1, 0, 2, 5, 2, 5, 5, 5, 2, 2, 9, 7, 5, 3, 4, 3, 4, 5, 1, 2]\n",
      "[2, 0, 8, 3, 9, 3, 9, 3, 7, 3, 2, 4, 5, 2, 2, 7, 3, 8, 2, 5, 6, 5, 5, 6, 4, 2, 5, 3, 3, 0, 0, 8, 7, 6, 2, 3, 4, 2, 4, 9, 2, 2, 4, 9, 0, 4, 8, 1, 9, 8, 8, 4, 9, 7, 8, 8, 3, 3, 4, 9, 3, 4, 3, 2, 3, 0, 4, 6, 2, 9, 2, 8, 5, 5, 2, 4, 2, 3, 8, 1, 0, 2, 5, 2, 5, 5, 5, 2, 2, 9, 7, 5, 3, 4, 3, 4, 5, 1, 2, 6]\n"
     ]
    }
   ],
   "source": [
    "# Incluyamos print statement en el loop\n",
    "\n",
    "import random  \n",
    "\n",
    "N = 100\n",
    "random_numbers2 = []  \n",
    "for i in range(N):\n",
    "    random_numbers2.append(random.randint(0,9))\n",
    "    print(random_numbers2)"
   ]
  },
  {
   "cell_type": "markdown",
   "metadata": {},
   "source": [
    "¿Cómo hallar la frecuencia de cada número del 0 al 9 de la lista random_numbers?"
   ]
  },
  {
   "cell_type": "code",
   "execution_count": 56,
   "metadata": {},
   "outputs": [
    {
     "name": "stdout",
     "output_type": "stream",
     "text": [
      "[]\n",
      "[1017]\n",
      "[1017, 1054]\n",
      "[1017, 1054, 993]\n",
      "[1017, 1054, 993, 974]\n",
      "[1017, 1054, 993, 974, 987]\n",
      "[1017, 1054, 993, 974, 987, 944]\n",
      "[1017, 1054, 993, 974, 987, 944, 1010]\n",
      "[1017, 1054, 993, 974, 987, 944, 1010, 1002]\n",
      "[1017, 1054, 993, 974, 987, 944, 1010, 1002, 1013]\n",
      "[1017, 1054, 993, 974, 987, 944, 1010, 1002, 1013, 1006]\n"
     ]
    }
   ],
   "source": [
    "counter = []\n",
    "print(counter)\n",
    "for x in range(0,10):\n",
    "    frecuencia = random_numbers.count(x)\n",
    "    counter.append(frecuencia)\n",
    "    print(counter)"
   ]
  },
  {
   "cell_type": "code",
   "execution_count": 55,
   "metadata": {},
   "outputs": [
    {
     "data": {
      "text/plain": [
       "[1017, 1054, 993, 974, 987, 944, 1010, 1002, 1013, 1006]"
      ]
     },
     "execution_count": 55,
     "metadata": {},
     "output_type": "execute_result"
    }
   ],
   "source": [
    "counter"
   ]
  },
  {
   "cell_type": "markdown",
   "metadata": {},
   "source": [
    "¿Cómo sabemos qué métodos hay disponibles?"
   ]
  },
  {
   "cell_type": "code",
   "execution_count": 57,
   "metadata": {},
   "outputs": [
    {
     "name": "stdout",
     "output_type": "stream",
     "text": [
      "Help on class list in module builtins:\n",
      "\n",
      "class list(object)\n",
      " |  list() -> new empty list\n",
      " |  list(iterable) -> new list initialized from iterable's items\n",
      " |  \n",
      " |  Methods defined here:\n",
      " |  \n",
      " |  __add__(self, value, /)\n",
      " |      Return self+value.\n",
      " |  \n",
      " |  __contains__(self, key, /)\n",
      " |      Return key in self.\n",
      " |  \n",
      " |  __delitem__(self, key, /)\n",
      " |      Delete self[key].\n",
      " |  \n",
      " |  __eq__(self, value, /)\n",
      " |      Return self==value.\n",
      " |  \n",
      " |  __ge__(self, value, /)\n",
      " |      Return self>=value.\n",
      " |  \n",
      " |  __getattribute__(self, name, /)\n",
      " |      Return getattr(self, name).\n",
      " |  \n",
      " |  __getitem__(...)\n",
      " |      x.__getitem__(y) <==> x[y]\n",
      " |  \n",
      " |  __gt__(self, value, /)\n",
      " |      Return self>value.\n",
      " |  \n",
      " |  __iadd__(self, value, /)\n",
      " |      Implement self+=value.\n",
      " |  \n",
      " |  __imul__(self, value, /)\n",
      " |      Implement self*=value.\n",
      " |  \n",
      " |  __init__(self, /, *args, **kwargs)\n",
      " |      Initialize self.  See help(type(self)) for accurate signature.\n",
      " |  \n",
      " |  __iter__(self, /)\n",
      " |      Implement iter(self).\n",
      " |  \n",
      " |  __le__(self, value, /)\n",
      " |      Return self<=value.\n",
      " |  \n",
      " |  __len__(self, /)\n",
      " |      Return len(self).\n",
      " |  \n",
      " |  __lt__(self, value, /)\n",
      " |      Return self<value.\n",
      " |  \n",
      " |  __mul__(self, value, /)\n",
      " |      Return self*value.n\n",
      " |  \n",
      " |  __ne__(self, value, /)\n",
      " |      Return self!=value.\n",
      " |  \n",
      " |  __new__(*args, **kwargs) from builtins.type\n",
      " |      Create and return a new object.  See help(type) for accurate signature.\n",
      " |  \n",
      " |  __repr__(self, /)\n",
      " |      Return repr(self).\n",
      " |  \n",
      " |  __reversed__(...)\n",
      " |      L.__reversed__() -- return a reverse iterator over the list\n",
      " |  \n",
      " |  __rmul__(self, value, /)\n",
      " |      Return self*value.\n",
      " |  \n",
      " |  __setitem__(self, key, value, /)\n",
      " |      Set self[key] to value.\n",
      " |  \n",
      " |  __sizeof__(...)\n",
      " |      L.__sizeof__() -- size of L in memory, in bytes\n",
      " |  \n",
      " |  append(...)\n",
      " |      L.append(object) -> None -- append object to end\n",
      " |  \n",
      " |  clear(...)\n",
      " |      L.clear() -> None -- remove all items from L\n",
      " |  \n",
      " |  copy(...)\n",
      " |      L.copy() -> list -- a shallow copy of L\n",
      " |  \n",
      " |  count(...)\n",
      " |      L.count(value) -> integer -- return number of occurrences of value\n",
      " |  \n",
      " |  extend(...)\n",
      " |      L.extend(iterable) -> None -- extend list by appending elements from the iterable\n",
      " |  \n",
      " |  index(...)\n",
      " |      L.index(value, [start, [stop]]) -> integer -- return first index of value.\n",
      " |      Raises ValueError if the value is not present.\n",
      " |  \n",
      " |  insert(...)\n",
      " |      L.insert(index, object) -- insert object before index\n",
      " |  \n",
      " |  pop(...)\n",
      " |      L.pop([index]) -> item -- remove and return item at index (default last).\n",
      " |      Raises IndexError if list is empty or index is out of range.\n",
      " |  \n",
      " |  remove(...)\n",
      " |      L.remove(value) -> None -- remove first occurrence of value.\n",
      " |      Raises ValueError if the value is not present.\n",
      " |  \n",
      " |  reverse(...)\n",
      " |      L.reverse() -- reverse *IN PLACE*\n",
      " |  \n",
      " |  sort(...)\n",
      " |      L.sort(key=None, reverse=False) -> None -- stable sort *IN PLACE*\n",
      " |  \n",
      " |  ----------------------------------------------------------------------\n",
      " |  Data and other attributes defined here:\n",
      " |  \n",
      " |  __hash__ = None\n",
      "\n"
     ]
    }
   ],
   "source": [
    "help(list)"
   ]
  },
  {
   "cell_type": "code",
   "execution_count": 58,
   "metadata": {
    "collapsed": true
   },
   "outputs": [
    {
     "name": "stdout",
     "output_type": "stream",
     "text": [
      "Help on module random:\n",
      "\n",
      "NAME\n",
      "    random - Random variable generators.\n",
      "\n",
      "MODULE REFERENCE\n",
      "    https://docs.python.org/3.5/library/random.html\n",
      "    \n",
      "    The following documentation is automatically generated from the Python\n",
      "    source files.  It may be incomplete, incorrect or include features that\n",
      "    are considered implementation detail and may vary between Python\n",
      "    implementations.  When in doubt, consult the module reference at the\n",
      "    location listed above.\n",
      "\n",
      "DESCRIPTION\n",
      "        integers\n",
      "        --------\n",
      "               uniform within range\n",
      "    \n",
      "        sequences\n",
      "        ---------\n",
      "               pick random element\n",
      "               pick random sample\n",
      "               generate random permutation\n",
      "    \n",
      "        distributions on the real line:\n",
      "        ------------------------------\n",
      "               uniform\n",
      "               triangular\n",
      "               normal (Gaussian)\n",
      "               lognormal\n",
      "               negative exponential\n",
      "               gamma\n",
      "               beta\n",
      "               pareto\n",
      "               Weibull\n",
      "    \n",
      "        distributions on the circle (angles 0 to 2pi)\n",
      "        ---------------------------------------------\n",
      "               circular uniform\n",
      "               von Mises\n",
      "    \n",
      "    General notes on the underlying Mersenne Twister core generator:\n",
      "    \n",
      "    * The period is 2**19937-1.\n",
      "    * It is one of the most extensively tested generators in existence.\n",
      "    * The random() method is implemented in C, executes in a single Python step,\n",
      "      and is, therefore, threadsafe.\n",
      "\n",
      "CLASSES\n",
      "    _random.Random(builtins.object)\n",
      "        Random\n",
      "            SystemRandom\n",
      "    \n",
      "    class Random(_random.Random)\n",
      "     |  Random number generator base class used by bound module functions.\n",
      "     |  \n",
      "     |  Used to instantiate instances of Random to get generators that don't\n",
      "     |  share state.\n",
      "     |  \n",
      "     |  Class Random can also be subclassed if you want to use a different basic\n",
      "     |  generator of your own devising: in that case, override the following\n",
      "     |  methods:  random(), seed(), getstate(), and setstate().\n",
      "     |  Optionally, implement a getrandbits() method so that randrange()\n",
      "     |  can cover arbitrarily large ranges.\n",
      "     |  \n",
      "     |  Method resolution order:\n",
      "     |      Random\n",
      "     |      _random.Random\n",
      "     |      builtins.object\n",
      "     |  \n",
      "     |  Methods defined here:\n",
      "     |  \n",
      "     |  __getstate__(self)\n",
      "     |      # Issue 17489: Since __reduce__ was defined to fix #759889 this is no\n",
      "     |      # longer called; we leave it here because it has been here since random was\n",
      "     |      # rewritten back in 2001 and why risk breaking something.\n",
      "     |  \n",
      "     |  __init__(self, x=None)\n",
      "     |      Initialize an instance.\n",
      "     |      \n",
      "     |      Optional argument x controls seeding, as for Random.seed().\n",
      "     |  \n",
      "     |  __reduce__(self)\n",
      "     |      helper for pickle\n",
      "     |  \n",
      "     |  __setstate__(self, state)\n",
      "     |  \n",
      "     |  betavariate(self, alpha, beta)\n",
      "     |      Beta distribution.\n",
      "     |      \n",
      "     |      Conditions on the parameters are alpha > 0 and beta > 0.\n",
      "     |      Returned values range between 0 and 1.\n",
      "     |  \n",
      "     |  choice(self, seq)\n",
      "     |      Choose a random element from a non-empty sequence.\n",
      "     |  \n",
      "     |  expovariate(self, lambd)\n",
      "     |      Exponential distribution.\n",
      "     |      \n",
      "     |      lambd is 1.0 divided by the desired mean.  It should be\n",
      "     |      nonzero.  (The parameter would be called \"lambda\", but that is\n",
      "     |      a reserved word in Python.)  Returned values range from 0 to\n",
      "     |      positive infinity if lambd is positive, and from negative\n",
      "     |      infinity to 0 if lambd is negative.\n",
      "     |  \n",
      "     |  gammavariate(self, alpha, beta)\n",
      "     |      Gamma distribution.  Not the gamma function!\n",
      "     |      \n",
      "     |      Conditions on the parameters are alpha > 0 and beta > 0.\n",
      "     |      \n",
      "     |      The probability distribution function is:\n",
      "     |      \n",
      "     |                  x ** (alpha - 1) * math.exp(-x / beta)\n",
      "     |        pdf(x) =  --------------------------------------\n",
      "     |                    math.gamma(alpha) * beta ** alpha\n",
      "     |  \n",
      "     |  gauss(self, mu, sigma)\n",
      "     |      Gaussian distribution.\n",
      "     |      \n",
      "     |      mu is the mean, and sigma is the standard deviation.  This is\n",
      "     |      slightly faster than the normalvariate() function.\n",
      "     |      \n",
      "     |      Not thread-safe without a lock around calls.\n",
      "     |  \n",
      "     |  getstate(self)\n",
      "     |      Return internal state; can be passed to setstate() later.\n",
      "     |  \n",
      "     |  lognormvariate(self, mu, sigma)\n",
      "     |      Log normal distribution.\n",
      "     |      \n",
      "     |      If you take the natural logarithm of this distribution, you'll get a\n",
      "     |      normal distribution with mean mu and standard deviation sigma.\n",
      "     |      mu can have any value, and sigma must be greater than zero.\n",
      "     |  \n",
      "     |  normalvariate(self, mu, sigma)\n",
      "     |      Normal distribution.\n",
      "     |      \n",
      "     |      mu is the mean, and sigma is the standard deviation.\n",
      "     |  \n",
      "     |  paretovariate(self, alpha)\n",
      "     |      Pareto distribution.  alpha is the shape parameter.\n",
      "     |  \n",
      "     |  randint(self, a, b)\n",
      "     |      Return random integer in range [a, b], including both end points.\n",
      "     |  \n",
      "     |  randrange(self, start, stop=None, step=1, _int=<class 'int'>)\n",
      "     |      Choose a random item from range(start, stop[, step]).\n",
      "     |      \n",
      "     |      This fixes the problem with randint() which includes the\n",
      "     |      endpoint; in Python this is usually not what you want.\n",
      "     |  \n",
      "     |  sample(self, population, k)\n",
      "     |      Chooses k unique random elements from a population sequence or set.\n",
      "     |      \n",
      "     |      Returns a new list containing elements from the population while\n",
      "     |      leaving the original population unchanged.  The resulting list is\n",
      "     |      in selection order so that all sub-slices will also be valid random\n",
      "     |      samples.  This allows raffle winners (the sample) to be partitioned\n",
      "     |      into grand prize and second place winners (the subslices).\n",
      "     |      \n",
      "     |      Members of the population need not be hashable or unique.  If the\n",
      "     |      population contains repeats, then each occurrence is a possible\n",
      "     |      selection in the sample.\n",
      "     |      \n",
      "     |      To choose a sample in a range of integers, use range as an argument.\n",
      "     |      This is especially fast and space efficient for sampling from a\n",
      "     |      large population:   sample(range(10000000), 60)\n",
      "     |  \n",
      "     |  seed(self, a=None, version=2)\n",
      "     |      Initialize internal state from hashable object.\n",
      "     |      \n",
      "     |      None or no argument seeds from current time or from an operating\n",
      "     |      system specific randomness source if available.\n",
      "     |      \n",
      "     |      For version 2 (the default), all of the bits are used if *a* is a str,\n",
      "     |      bytes, or bytearray.  For version 1, the hash() of *a* is used instead.\n",
      "     |      \n",
      "     |      If *a* is an int, all bits are used.\n",
      "     |  \n",
      "     |  setstate(self, state)\n",
      "     |      Restore internal state from object returned by getstate().\n",
      "     |  \n",
      "     |  shuffle(self, x, random=None)\n",
      "     |      Shuffle list x in place, and return None.\n",
      "     |      \n",
      "     |      Optional argument random is a 0-argument function returning a\n",
      "     |      random float in [0.0, 1.0); if it is the default None, the\n",
      "     |      standard random.random will be used.\n",
      "     |  \n",
      "     |  triangular(self, low=0.0, high=1.0, mode=None)\n",
      "     |      Triangular distribution.\n",
      "     |      \n",
      "     |      Continuous distribution bounded by given lower and upper limits,\n",
      "     |      and having a given mode value in-between.\n",
      "     |      \n",
      "     |      http://en.wikipedia.org/wiki/Triangular_distribution\n",
      "     |  \n",
      "     |  uniform(self, a, b)\n",
      "     |      Get a random number in the range [a, b) or [a, b] depending on rounding.\n",
      "     |  \n",
      "     |  vonmisesvariate(self, mu, kappa)\n",
      "     |      Circular data distribution.\n",
      "     |      \n",
      "     |      mu is the mean angle, expressed in radians between 0 and 2*pi, and\n",
      "     |      kappa is the concentration parameter, which must be greater than or\n",
      "     |      equal to zero.  If kappa is equal to zero, this distribution reduces\n",
      "     |      to a uniform random angle over the range 0 to 2*pi.\n",
      "     |  \n",
      "     |  weibullvariate(self, alpha, beta)\n",
      "     |      Weibull distribution.\n",
      "     |      \n",
      "     |      alpha is the scale parameter and beta is the shape parameter.\n",
      "     |  \n",
      "     |  ----------------------------------------------------------------------\n",
      "     |  Data descriptors defined here:\n",
      "     |  \n",
      "     |  __dict__\n",
      "     |      dictionary for instance variables (if defined)\n",
      "     |  \n",
      "     |  __weakref__\n",
      "     |      list of weak references to the object (if defined)\n",
      "     |  \n",
      "     |  ----------------------------------------------------------------------\n",
      "     |  Data and other attributes defined here:\n",
      "     |  \n",
      "     |  VERSION = 3\n",
      "     |  \n",
      "     |  ----------------------------------------------------------------------\n",
      "     |  Methods inherited from _random.Random:\n",
      "     |  \n",
      "     |  __getattribute__(self, name, /)\n",
      "     |      Return getattr(self, name).\n",
      "     |  \n",
      "     |  __new__(*args, **kwargs) from builtins.type\n",
      "     |      Create and return a new object.  See help(type) for accurate signature.\n",
      "     |  \n",
      "     |  getrandbits(...)\n",
      "     |      getrandbits(k) -> x.  Generates an int with k random bits.\n",
      "     |  \n",
      "     |  random(...)\n",
      "     |      random() -> x in the interval [0, 1).\n",
      "    \n",
      "    class SystemRandom(Random)\n",
      "     |  Alternate random number generator using sources provided\n",
      "     |  by the operating system (such as /dev/urandom on Unix or\n",
      "     |  CryptGenRandom on Windows).\n",
      "     |  \n",
      "     |   Not available on all systems (see os.urandom() for details).\n",
      "     |  \n",
      "     |  Method resolution order:\n",
      "     |      SystemRandom\n",
      "     |      Random\n",
      "     |      _random.Random\n",
      "     |      builtins.object\n",
      "     |  \n",
      "     |  Methods defined here:\n",
      "     |  \n",
      "     |  getrandbits(self, k)\n",
      "     |      getrandbits(k) -> x.  Generates an int with k random bits.\n",
      "     |  \n",
      "     |  getstate = _notimplemented(self, *args, **kwds)\n",
      "     |  \n",
      "     |  random(self)\n",
      "     |      Get the next random number in the range [0.0, 1.0).\n",
      "     |  \n",
      "     |  seed(self, *args, **kwds)\n",
      "     |      Stub method.  Not used for a system random number generator.\n",
      "     |  \n",
      "     |  setstate = _notimplemented(self, *args, **kwds)\n",
      "     |  \n",
      "     |  ----------------------------------------------------------------------\n",
      "     |  Methods inherited from Random:\n",
      "     |  \n",
      "     |  __getstate__(self)\n",
      "     |      # Issue 17489: Since __reduce__ was defined to fix #759889 this is no\n",
      "     |      # longer called; we leave it here because it has been here since random was\n",
      "     |      # rewritten back in 2001 and why risk breaking something.\n",
      "     |  \n",
      "     |  __init__(self, x=None)\n",
      "     |      Initialize an instance.\n",
      "     |      \n",
      "     |      Optional argument x controls seeding, as for Random.seed().\n",
      "     |  \n",
      "     |  __reduce__(self)\n",
      "     |      helper for pickle\n",
      "     |  \n",
      "     |  __setstate__(self, state)\n",
      "     |  \n",
      "     |  betavariate(self, alpha, beta)\n",
      "     |      Beta distribution.\n",
      "     |      \n",
      "     |      Conditions on the parameters are alpha > 0 and beta > 0.\n",
      "     |      Returned values range between 0 and 1.\n",
      "     |  \n",
      "     |  choice(self, seq)\n",
      "     |      Choose a random element from a non-empty sequence.\n",
      "     |  \n",
      "     |  expovariate(self, lambd)\n",
      "     |      Exponential distribution.\n",
      "     |      \n",
      "     |      lambd is 1.0 divided by the desired mean.  It should be\n",
      "     |      nonzero.  (The parameter would be called \"lambda\", but that is\n",
      "     |      a reserved word in Python.)  Returned values range from 0 to\n",
      "     |      positive infinity if lambd is positive, and from negative\n",
      "     |      infinity to 0 if lambd is negative.\n",
      "     |  \n",
      "     |  gammavariate(self, alpha, beta)\n",
      "     |      Gamma distribution.  Not the gamma function!\n",
      "     |      \n",
      "     |      Conditions on the parameters are alpha > 0 and beta > 0.\n",
      "     |      \n",
      "     |      The probability distribution function is:\n",
      "     |      \n",
      "     |                  x ** (alpha - 1) * math.exp(-x / beta)\n",
      "     |        pdf(x) =  --------------------------------------\n",
      "     |                    math.gamma(alpha) * beta ** alpha\n",
      "     |  \n",
      "     |  gauss(self, mu, sigma)\n",
      "     |      Gaussian distribution.\n",
      "     |      \n",
      "     |      mu is the mean, and sigma is the standard deviation.  This is\n",
      "     |      slightly faster than the normalvariate() function.\n",
      "     |      \n",
      "     |      Not thread-safe without a lock around calls.\n",
      "     |  \n",
      "     |  lognormvariate(self, mu, sigma)\n",
      "     |      Log normal distribution.\n",
      "     |      \n",
      "     |      If you take the natural logarithm of this distribution, you'll get a\n",
      "     |      normal distribution with mean mu and standard deviation sigma.\n",
      "     |      mu can have any value, and sigma must be greater than zero.\n",
      "     |  \n",
      "     |  normalvariate(self, mu, sigma)\n",
      "     |      Normal distribution.\n",
      "     |      \n",
      "     |      mu is the mean, and sigma is the standard deviation.\n",
      "     |  \n",
      "     |  paretovariate(self, alpha)\n",
      "     |      Pareto distribution.  alpha is the shape parameter.\n",
      "     |  \n",
      "     |  randint(self, a, b)\n",
      "     |      Return random integer in range [a, b], including both end points.\n",
      "     |  \n",
      "     |  randrange(self, start, stop=None, step=1, _int=<class 'int'>)\n",
      "     |      Choose a random item from range(start, stop[, step]).\n",
      "     |      \n",
      "     |      This fixes the problem with randint() which includes the\n",
      "     |      endpoint; in Python this is usually not what you want.\n",
      "     |  \n",
      "     |  sample(self, population, k)\n",
      "     |      Chooses k unique random elements from a population sequence or set.\n",
      "     |      \n",
      "     |      Returns a new list containing elements from the population while\n",
      "     |      leaving the original population unchanged.  The resulting list is\n",
      "     |      in selection order so that all sub-slices will also be valid random\n",
      "     |      samples.  This allows raffle winners (the sample) to be partitioned\n",
      "     |      into grand prize and second place winners (the subslices).\n",
      "     |      \n",
      "     |      Members of the population need not be hashable or unique.  If the\n",
      "     |      population contains repeats, then each occurrence is a possible\n",
      "     |      selection in the sample.\n",
      "     |      \n",
      "     |      To choose a sample in a range of integers, use range as an argument.\n",
      "     |      This is especially fast and space efficient for sampling from a\n",
      "     |      large population:   sample(range(10000000), 60)\n",
      "     |  \n",
      "     |  shuffle(self, x, random=None)\n",
      "     |      Shuffle list x in place, and return None.\n",
      "     |      \n",
      "     |      Optional argument random is a 0-argument function returning a\n",
      "     |      random float in [0.0, 1.0); if it is the default None, the\n",
      "     |      standard random.random will be used.\n",
      "     |  \n",
      "     |  triangular(self, low=0.0, high=1.0, mode=None)\n",
      "     |      Triangular distribution.\n",
      "     |      \n",
      "     |      Continuous distribution bounded by given lower and upper limits,\n",
      "     |      and having a given mode value in-between.\n",
      "     |      \n",
      "     |      http://en.wikipedia.org/wiki/Triangular_distribution\n",
      "     |  \n",
      "     |  uniform(self, a, b)\n",
      "     |      Get a random number in the range [a, b) or [a, b] depending on rounding.\n",
      "     |  \n",
      "     |  vonmisesvariate(self, mu, kappa)\n",
      "     |      Circular data distribution.\n",
      "     |      \n",
      "     |      mu is the mean angle, expressed in radians between 0 and 2*pi, and\n",
      "     |      kappa is the concentration parameter, which must be greater than or\n",
      "     |      equal to zero.  If kappa is equal to zero, this distribution reduces\n",
      "     |      to a uniform random angle over the range 0 to 2*pi.\n",
      "     |  \n",
      "     |  weibullvariate(self, alpha, beta)\n",
      "     |      Weibull distribution.\n",
      "     |      \n",
      "     |      alpha is the scale parameter and beta is the shape parameter.\n",
      "     |  \n",
      "     |  ----------------------------------------------------------------------\n",
      "     |  Data descriptors inherited from Random:\n",
      "     |  \n",
      "     |  __dict__\n",
      "     |      dictionary for instance variables (if defined)\n",
      "     |  \n",
      "     |  __weakref__\n",
      "     |      list of weak references to the object (if defined)\n",
      "     |  \n",
      "     |  ----------------------------------------------------------------------\n",
      "     |  Data and other attributes inherited from Random:\n",
      "     |  \n",
      "     |  VERSION = 3\n",
      "     |  \n",
      "     |  ----------------------------------------------------------------------\n",
      "     |  Methods inherited from _random.Random:\n",
      "     |  \n",
      "     |  __getattribute__(self, name, /)\n",
      "     |      Return getattr(self, name).\n",
      "     |  \n",
      "     |  __new__(*args, **kwargs) from builtins.type\n",
      "     |      Create and return a new object.  See help(type) for accurate signature.\n",
      "\n",
      "FUNCTIONS\n",
      "    betavariate(alpha, beta) method of Random instance\n",
      "        Beta distribution.\n",
      "        \n",
      "        Conditions on the parameters are alpha > 0 and beta > 0.\n",
      "        Returned values range between 0 and 1.\n",
      "    \n",
      "    choice(seq) method of Random instance\n",
      "        Choose a random element from a non-empty sequence.\n",
      "    \n",
      "    expovariate(lambd) method of Random instance\n",
      "        Exponential distribution.\n",
      "        \n",
      "        lambd is 1.0 divided by the desired mean.  It should be\n",
      "        nonzero.  (The parameter would be called \"lambda\", but that is\n",
      "        a reserved word in Python.)  Returned values range from 0 to\n",
      "        positive infinity if lambd is positive, and from negative\n",
      "        infinity to 0 if lambd is negative.\n",
      "    \n",
      "    gammavariate(alpha, beta) method of Random instance\n",
      "        Gamma distribution.  Not the gamma function!\n",
      "        \n",
      "        Conditions on the parameters are alpha > 0 and beta > 0.\n",
      "        \n",
      "        The probability distribution function is:\n",
      "        \n",
      "                    x ** (alpha - 1) * math.exp(-x / beta)\n",
      "          pdf(x) =  --------------------------------------\n",
      "                      math.gamma(alpha) * beta ** alpha\n",
      "    \n",
      "    gauss(mu, sigma) method of Random instance\n",
      "        Gaussian distribution.\n",
      "        \n",
      "        mu is the mean, and sigma is the standard deviation.  This is\n",
      "        slightly faster than the normalvariate() function.\n",
      "        \n",
      "        Not thread-safe without a lock around calls.\n",
      "    \n",
      "    getrandbits(...) method of Random instance\n",
      "        getrandbits(k) -> x.  Generates an int with k random bits.\n",
      "    \n",
      "    getstate() method of Random instance\n",
      "        Return internal state; can be passed to setstate() later.\n",
      "    \n",
      "    lognormvariate(mu, sigma) method of Random instance\n",
      "        Log normal distribution.\n",
      "        \n",
      "        If you take the natural logarithm of this distribution, you'll get a\n",
      "        normal distribution with mean mu and standard deviation sigma.\n",
      "        mu can have any value, and sigma must be greater than zero.\n",
      "    \n",
      "    normalvariate(mu, sigma) method of Random instance\n",
      "        Normal distribution.\n",
      "        \n",
      "        mu is the mean, and sigma is the standard deviation.\n",
      "    \n",
      "    paretovariate(alpha) method of Random instance\n",
      "        Pareto distribution.  alpha is the shape parameter.\n",
      "    \n",
      "    randint(a, b) method of Random instance\n",
      "        Return random integer in range [a, b], including both end points.\n",
      "    \n",
      "    random(...) method of Random instance\n",
      "        random() -> x in the interval [0, 1).\n",
      "    \n",
      "    randrange(start, stop=None, step=1, _int=<class 'int'>) method of Random instance\n",
      "        Choose a random item from range(start, stop[, step]).\n",
      "        \n",
      "        This fixes the problem with randint() which includes the\n",
      "        endpoint; in Python this is usually not what you want.\n",
      "    \n",
      "    sample(population, k) method of Random instance\n",
      "        Chooses k unique random elements from a population sequence or set.\n",
      "        \n",
      "        Returns a new list containing elements from the population while\n",
      "        leaving the original population unchanged.  The resulting list is\n",
      "        in selection order so that all sub-slices will also be valid random\n",
      "        samples.  This allows raffle winners (the sample) to be partitioned\n",
      "        into grand prize and second place winners (the subslices).\n",
      "        \n",
      "        Members of the population need not be hashable or unique.  If the\n",
      "        population contains repeats, then each occurrence is a possible\n",
      "        selection in the sample.\n",
      "        \n",
      "        To choose a sample in a range of integers, use range as an argument.\n",
      "        This is especially fast and space efficient for sampling from a\n",
      "        large population:   sample(range(10000000), 60)\n",
      "    \n",
      "    seed(a=None, version=2) method of Random instance\n",
      "        Initialize internal state from hashable object.\n",
      "        \n",
      "        None or no argument seeds from current time or from an operating\n",
      "        system specific randomness source if available.\n",
      "        \n",
      "        For version 2 (the default), all of the bits are used if *a* is a str,\n",
      "        bytes, or bytearray.  For version 1, the hash() of *a* is used instead.\n",
      "        \n",
      "        If *a* is an int, all bits are used.\n",
      "    \n",
      "    setstate(state) method of Random instance\n",
      "        Restore internal state from object returned by getstate().\n",
      "    \n",
      "    shuffle(x, random=None) method of Random instance\n",
      "        Shuffle list x in place, and return None.\n",
      "        \n",
      "        Optional argument random is a 0-argument function returning a\n",
      "        random float in [0.0, 1.0); if it is the default None, the\n",
      "        standard random.random will be used.\n",
      "    \n",
      "    triangular(low=0.0, high=1.0, mode=None) method of Random instance\n",
      "        Triangular distribution.\n",
      "        \n",
      "        Continuous distribution bounded by given lower and upper limits,\n",
      "        and having a given mode value in-between.\n",
      "        \n",
      "        http://en.wikipedia.org/wiki/Triangular_distribution\n",
      "    \n",
      "    uniform(a, b) method of Random instance\n",
      "        Get a random number in the range [a, b) or [a, b] depending on rounding.\n",
      "    \n",
      "    vonmisesvariate(mu, kappa) method of Random instance\n",
      "        Circular data distribution.\n",
      "        \n",
      "        mu is the mean angle, expressed in radians between 0 and 2*pi, and\n",
      "        kappa is the concentration parameter, which must be greater than or\n",
      "        equal to zero.  If kappa is equal to zero, this distribution reduces\n",
      "        to a uniform random angle over the range 0 to 2*pi.\n",
      "    \n",
      "    weibullvariate(alpha, beta) method of Random instance\n",
      "        Weibull distribution.\n",
      "        \n",
      "        alpha is the scale parameter and beta is the shape parameter.\n",
      "\n",
      "DATA\n",
      "    __all__ = ['Random', 'seed', 'random', 'uniform', 'randint', 'choice',...\n",
      "\n",
      "FILE\n",
      "    /Users/Santiago/anaconda/lib/python3.5/random.py\n",
      "\n",
      "\n"
     ]
    }
   ],
   "source": [
    "help(random)"
   ]
  },
  {
   "cell_type": "code",
   "execution_count": 59,
   "metadata": {
    "collapsed": true
   },
   "outputs": [
    {
     "name": "stdout",
     "output_type": "stream",
     "text": [
      "\n",
      "Welcome to Python 3.5's help utility!\n",
      "\n",
      "If this is your first time using Python, you should definitely check out\n",
      "the tutorial on the Internet at http://docs.python.org/3.5/tutorial/.\n",
      "\n",
      "Enter the name of any module, keyword, or topic to get help on writing\n",
      "Python programs and using Python modules.  To quit this help utility and\n",
      "return to the interpreter, just type \"quit\".\n",
      "\n",
      "To get a list of available modules, keywords, symbols, or topics, type\n",
      "\"modules\", \"keywords\", \"symbols\", or \"topics\".  Each module also comes\n",
      "with a one-line summary of what it does; to list the modules whose name\n",
      "or summary contain a given string such as \"spam\", type \"modules spam\".\n",
      "\n",
      "help> tuple\n",
      "Help on class tuple in module builtins:\n",
      "\n",
      "class tuple(object)\n",
      " |  tuple() -> empty tuple\n",
      " |  tuple(iterable) -> tuple initialized from iterable's items\n",
      " |  \n",
      " |  If the argument is a tuple, the return value is the same object.\n",
      " |  \n",
      " |  Methods defined here:\n",
      " |  \n",
      " |  __add__(self, value, /)\n",
      " |      Return self+value.\n",
      " |  \n",
      " |  __contains__(self, key, /)\n",
      " |      Return key in self.\n",
      " |  \n",
      " |  __eq__(self, value, /)\n",
      " |      Return self==value.\n",
      " |  \n",
      " |  __ge__(self, value, /)\n",
      " |      Return self>=value.\n",
      " |  \n",
      " |  __getattribute__(self, name, /)\n",
      " |      Return getattr(self, name).\n",
      " |  \n",
      " |  __getitem__(self, key, /)\n",
      " |      Return self[key].\n",
      " |  \n",
      " |  __getnewargs__(...)\n",
      " |  \n",
      " |  __gt__(self, value, /)\n",
      " |      Return self>value.\n",
      " |  \n",
      " |  __hash__(self, /)\n",
      " |      Return hash(self).\n",
      " |  \n",
      " |  __iter__(self, /)\n",
      " |      Implement iter(self).\n",
      " |  \n",
      " |  __le__(self, value, /)\n",
      " |      Return self<=value.\n",
      " |  \n",
      " |  __len__(self, /)\n",
      " |      Return len(self).\n",
      " |  \n",
      " |  __lt__(self, value, /)\n",
      " |      Return self<value.\n",
      " |  \n",
      " |  __mul__(self, value, /)\n",
      " |      Return self*value.n\n",
      " |  \n",
      " |  __ne__(self, value, /)\n",
      " |      Return self!=value.\n",
      " |  \n",
      " |  __new__(*args, **kwargs) from builtins.type\n",
      " |      Create and return a new object.  See help(type) for accurate signature.\n",
      " |  \n",
      " |  __repr__(self, /)\n",
      " |      Return repr(self).\n",
      " |  \n",
      " |  __rmul__(self, value, /)\n",
      " |      Return self*value.\n",
      " |  \n",
      " |  count(...)\n",
      " |      T.count(value) -> integer -- return number of occurrences of value\n",
      " |  \n",
      " |  index(...)\n",
      " |      T.index(value, [start, [stop]]) -> integer -- return first index of value.\n",
      " |      Raises ValueError if the value is not present.\n",
      "\n",
      "help> quit\n",
      "\n",
      "You are now leaving help and returning to the Python interpreter.\n",
      "If you want to ask for help on a particular object directly from the\n",
      "interpreter, you can type \"help(object)\".  Executing \"help('string')\"\n",
      "has the same effect as typing a particular string at the help> prompt.\n"
     ]
    }
   ],
   "source": [
    "help()"
   ]
  },
  {
   "cell_type": "markdown",
   "metadata": {},
   "source": [
    "En el Jupyter Notebook, Shift + Tab entre los paréntesis de una función/método muestra ayuda en pantalla."
   ]
  },
  {
   "cell_type": "markdown",
   "metadata": {},
   "source": [
    "### Variables de listas"
   ]
  },
  {
   "cell_type": "code",
   "execution_count": 61,
   "metadata": {
    "collapsed": true
   },
   "outputs": [],
   "source": [
    "l1 = [1, 2, 3, 4]"
   ]
  },
  {
   "cell_type": "code",
   "execution_count": 62,
   "metadata": {
    "collapsed": true
   },
   "outputs": [],
   "source": [
    "l2 = l1"
   ]
  },
  {
   "cell_type": "code",
   "execution_count": 63,
   "metadata": {},
   "outputs": [
    {
     "data": {
      "text/plain": [
       "[1, 2, 3, 4]"
      ]
     },
     "execution_count": 63,
     "metadata": {},
     "output_type": "execute_result"
    }
   ],
   "source": [
    "l2"
   ]
  },
  {
   "cell_type": "code",
   "execution_count": 64,
   "metadata": {
    "collapsed": true
   },
   "outputs": [],
   "source": [
    "l2[0] = 100"
   ]
  },
  {
   "cell_type": "code",
   "execution_count": 65,
   "metadata": {},
   "outputs": [
    {
     "data": {
      "text/plain": [
       "[100, 2, 3, 4]"
      ]
     },
     "execution_count": 65,
     "metadata": {},
     "output_type": "execute_result"
    }
   ],
   "source": [
    "l2"
   ]
  },
  {
   "cell_type": "code",
   "execution_count": 66,
   "metadata": {},
   "outputs": [
    {
     "data": {
      "text/plain": [
       "[100, 2, 3, 4]"
      ]
     },
     "execution_count": 66,
     "metadata": {},
     "output_type": "execute_result"
    }
   ],
   "source": [
    "l1"
   ]
  },
  {
   "cell_type": "code",
   "execution_count": 67,
   "metadata": {
    "collapsed": true
   },
   "outputs": [],
   "source": [
    "l1[3] = 6"
   ]
  },
  {
   "cell_type": "code",
   "execution_count": 68,
   "metadata": {},
   "outputs": [
    {
     "data": {
      "text/plain": [
       "[100, 2, 3, 6]"
      ]
     },
     "execution_count": 68,
     "metadata": {},
     "output_type": "execute_result"
    }
   ],
   "source": [
    "l1"
   ]
  },
  {
   "cell_type": "code",
   "execution_count": 69,
   "metadata": {},
   "outputs": [
    {
     "data": {
      "text/plain": [
       "[100, 2, 3, 6]"
      ]
     },
     "execution_count": 69,
     "metadata": {},
     "output_type": "execute_result"
    }
   ],
   "source": [
    "l2"
   ]
  },
  {
   "cell_type": "code",
   "execution_count": 70,
   "metadata": {},
   "outputs": [
    {
     "data": {
      "text/plain": [
       "True"
      ]
     },
     "execution_count": 70,
     "metadata": {},
     "output_type": "execute_result"
    }
   ],
   "source": [
    "l1 == l2"
   ]
  },
  {
   "cell_type": "code",
   "execution_count": 71,
   "metadata": {},
   "outputs": [
    {
     "data": {
      "text/plain": [
       "4382613832"
      ]
     },
     "execution_count": 71,
     "metadata": {},
     "output_type": "execute_result"
    }
   ],
   "source": [
    "id(l1)"
   ]
  },
  {
   "cell_type": "code",
   "execution_count": 72,
   "metadata": {},
   "outputs": [
    {
     "data": {
      "text/plain": [
       "4382613832"
      ]
     },
     "execution_count": 72,
     "metadata": {},
     "output_type": "execute_result"
    }
   ],
   "source": [
    "id(l2)"
   ]
  },
  {
   "cell_type": "code",
   "execution_count": 80,
   "metadata": {
    "collapsed": true
   },
   "outputs": [],
   "source": [
    "l3 = [1,2,3,4]\n",
    "l4 = [1,2,3,4]"
   ]
  },
  {
   "cell_type": "code",
   "execution_count": 79,
   "metadata": {},
   "outputs": [
    {
     "data": {
      "text/plain": [
       "False"
      ]
     },
     "execution_count": 79,
     "metadata": {},
     "output_type": "execute_result"
    }
   ],
   "source": [
    "l3 == l4"
   ]
  },
  {
   "cell_type": "code",
   "execution_count": 77,
   "metadata": {},
   "outputs": [
    {
     "data": {
      "text/plain": [
       "False"
      ]
     },
     "execution_count": 77,
     "metadata": {},
     "output_type": "execute_result"
    }
   ],
   "source": [
    "id(l3) == id(l4)"
   ]
  },
  {
   "cell_type": "code",
   "execution_count": 87,
   "metadata": {
    "collapsed": true
   },
   "outputs": [],
   "source": [
    "# Una solución es:\n",
    "l3 = l1[:]"
   ]
  },
  {
   "cell_type": "code",
   "execution_count": 88,
   "metadata": {},
   "outputs": [
    {
     "data": {
      "text/plain": [
       "False"
      ]
     },
     "execution_count": 88,
     "metadata": {},
     "output_type": "execute_result"
    }
   ],
   "source": [
    "id(l1) == id(l3)"
   ]
  },
  {
   "cell_type": "markdown",
   "metadata": {},
   "source": [
    "### Modificar listas"
   ]
  },
  {
   "cell_type": "code",
   "execution_count": 89,
   "metadata": {
    "collapsed": true
   },
   "outputs": [],
   "source": [
    "lenguajes = [\"C\", \"C++\", \"Python\", \"Java\"]"
   ]
  },
  {
   "cell_type": "code",
   "execution_count": 91,
   "metadata": {},
   "outputs": [
    {
     "data": {
      "text/plain": [
       "['C', 'C++', 'Python', 'Java', 'Scheme', 'Scheme']"
      ]
     },
     "execution_count": 91,
     "metadata": {},
     "output_type": "execute_result"
    }
   ],
   "source": [
    "lenguajes.append(\"Scheme\")\n",
    "lenguajes"
   ]
  },
  {
   "cell_type": "code",
   "execution_count": 92,
   "metadata": {
    "collapsed": true
   },
   "outputs": [],
   "source": [
    "lenguajes2 = [\"Pascal\", \"FORTRAN\"]"
   ]
  },
  {
   "cell_type": "code",
   "execution_count": 93,
   "metadata": {},
   "outputs": [
    {
     "data": {
      "text/plain": [
       "['C', 'C++', 'Python', 'Java', 'Scheme', 'Scheme', 'Pascal', 'FORTRAN']"
      ]
     },
     "execution_count": 93,
     "metadata": {},
     "output_type": "execute_result"
    }
   ],
   "source": [
    "lenguajes3 = lenguajes + lenguajes2\n",
    "lenguajes3"
   ]
  },
  {
   "cell_type": "code",
   "execution_count": 94,
   "metadata": {},
   "outputs": [
    {
     "data": {
      "text/plain": [
       "['C', 'C++', 'Python', 'Java', 'Scheme', 'Scheme', 'Pascal', 'FORTRAN']"
      ]
     },
     "execution_count": 94,
     "metadata": {},
     "output_type": "execute_result"
    }
   ],
   "source": [
    "lenguajes.extend(lenguajes2)\n",
    "lenguajes"
   ]
  },
  {
   "cell_type": "code",
   "execution_count": 95,
   "metadata": {},
   "outputs": [
    {
     "data": {
      "text/plain": [
       "['C',\n",
       " 'C++',\n",
       " 'Haskell',\n",
       " 'Python',\n",
       " 'Java',\n",
       " 'Scheme',\n",
       " 'Scheme',\n",
       " 'Pascal',\n",
       " 'FORTRAN']"
      ]
     },
     "execution_count": 95,
     "metadata": {},
     "output_type": "execute_result"
    }
   ],
   "source": [
    "lenguajes.insert(2, \"Haskell\")\n",
    "lenguajes"
   ]
  },
  {
   "cell_type": "code",
   "execution_count": 96,
   "metadata": {},
   "outputs": [
    {
     "data": {
      "text/plain": [
       "['C', 'C++', 'Python', 'Java', 'Scheme', 'Scheme', 'Pascal', 'FORTRAN']"
      ]
     },
     "execution_count": 96,
     "metadata": {},
     "output_type": "execute_result"
    }
   ],
   "source": [
    "del lenguajes[2]\n",
    "lenguajes"
   ]
  },
  {
   "cell_type": "code",
   "execution_count": 97,
   "metadata": {},
   "outputs": [
    {
     "data": {
      "text/plain": [
       "['C', 'C++', 'Python', 'Java', 'Scheme', 'Scheme', 'Pascal']"
      ]
     },
     "execution_count": 97,
     "metadata": {},
     "output_type": "execute_result"
    }
   ],
   "source": [
    "lenguajes.pop()\n",
    "lenguajes"
   ]
  },
  {
   "cell_type": "markdown",
   "metadata": {},
   "source": [
    "### Construir listas"
   ]
  },
  {
   "cell_type": "code",
   "execution_count": 98,
   "metadata": {
    "collapsed": true
   },
   "outputs": [],
   "source": [
    "precios = [100.0, 59.99, 7.00, 15.00]"
   ]
  },
  {
   "cell_type": "code",
   "execution_count": 99,
   "metadata": {
    "collapsed": true
   },
   "outputs": [],
   "source": [
    "precios_con_descuento = []"
   ]
  },
  {
   "cell_type": "code",
   "execution_count": 100,
   "metadata": {
    "collapsed": true
   },
   "outputs": [],
   "source": [
    "for precio in precios:\n",
    "    nuevo_precio = precio * 0.9\n",
    "    precios_con_descuento.append(nuevo_precio)"
   ]
  },
  {
   "cell_type": "code",
   "execution_count": 101,
   "metadata": {},
   "outputs": [
    {
     "data": {
      "text/plain": [
       "[90.0, 53.991, 6.3, 13.5]"
      ]
     },
     "execution_count": 101,
     "metadata": {},
     "output_type": "execute_result"
    }
   ],
   "source": [
    "precios_con_descuento"
   ]
  },
  {
   "cell_type": "code",
   "execution_count": 102,
   "metadata": {
    "collapsed": true
   },
   "outputs": [],
   "source": [
    "ceros = [0] * 17"
   ]
  },
  {
   "cell_type": "code",
   "execution_count": 103,
   "metadata": {},
   "outputs": [
    {
     "data": {
      "text/plain": [
       "[0, 0, 0, 0, 0, 0, 0, 0, 0, 0, 0, 0, 0, 0, 0, 0, 0]"
      ]
     },
     "execution_count": 103,
     "metadata": {},
     "output_type": "execute_result"
    }
   ],
   "source": [
    "ceros"
   ]
  },
  {
   "cell_type": "code",
   "execution_count": 104,
   "metadata": {},
   "outputs": [
    {
     "data": {
      "text/plain": [
       "17"
      ]
     },
     "execution_count": 104,
     "metadata": {},
     "output_type": "execute_result"
    }
   ],
   "source": [
    "len(ceros)"
   ]
  },
  {
   "cell_type": "markdown",
   "metadata": {},
   "source": [
    "### Listas de listas"
   ]
  },
  {
   "cell_type": "code",
   "execution_count": 105,
   "metadata": {
    "collapsed": true
   },
   "outputs": [],
   "source": [
    "m = [[1,2,3], [4,5,6], [7,8,9]]"
   ]
  },
  {
   "cell_type": "code",
   "execution_count": 106,
   "metadata": {},
   "outputs": [
    {
     "name": "stdout",
     "output_type": "stream",
     "text": [
      "[1, 2, 3]\n",
      "[4, 5, 6]\n",
      "[7, 8, 9]\n"
     ]
    }
   ],
   "source": [
    "for row in m:\n",
    "    print(row)"
   ]
  },
  {
   "cell_type": "code",
   "execution_count": 107,
   "metadata": {},
   "outputs": [
    {
     "data": {
      "text/plain": [
       "6"
      ]
     },
     "execution_count": 107,
     "metadata": {},
     "output_type": "execute_result"
    }
   ],
   "source": [
    "m[1][2]"
   ]
  },
  {
   "cell_type": "code",
   "execution_count": 108,
   "metadata": {},
   "outputs": [
    {
     "data": {
      "text/plain": [
       "7"
      ]
     },
     "execution_count": 108,
     "metadata": {},
     "output_type": "execute_result"
    }
   ],
   "source": [
    "m[2][0]"
   ]
  },
  {
   "cell_type": "code",
   "execution_count": 109,
   "metadata": {},
   "outputs": [
    {
     "data": {
      "text/plain": [
       "[[1, 2, 3], [4, 0, 6], [7, 8, 9]]"
      ]
     },
     "execution_count": 109,
     "metadata": {},
     "output_type": "execute_result"
    }
   ],
   "source": [
    "m[1][1] = 0\n",
    "m"
   ]
  },
  {
   "cell_type": "markdown",
   "metadata": {},
   "source": [
    "### Algunas funciones y métodos útiles, para listas"
   ]
  },
  {
   "cell_type": "code",
   "execution_count": 110,
   "metadata": {},
   "outputs": [
    {
     "data": {
      "text/plain": [
       "7"
      ]
     },
     "execution_count": 110,
     "metadata": {},
     "output_type": "execute_result"
    }
   ],
   "source": [
    "len(lenguajes)"
   ]
  },
  {
   "cell_type": "markdown",
   "metadata": {},
   "source": [
    "\"len\" es una función predefinida, no un método de las listas. Entonces, la sintaxis es siempre \"len(lista)\" y no \"lista.len()\"."
   ]
  },
  {
   "cell_type": "code",
   "execution_count": 111,
   "metadata": {},
   "outputs": [
    {
     "data": {
      "text/plain": [
       "'Scheme'"
      ]
     },
     "execution_count": 111,
     "metadata": {},
     "output_type": "execute_result"
    }
   ],
   "source": [
    "max(lenguajes)"
   ]
  },
  {
   "cell_type": "code",
   "execution_count": 112,
   "metadata": {},
   "outputs": [
    {
     "data": {
      "text/plain": [
       "'C'"
      ]
     },
     "execution_count": 112,
     "metadata": {},
     "output_type": "execute_result"
    }
   ],
   "source": [
    "min(lenguajes)"
   ]
  },
  {
   "cell_type": "code",
   "execution_count": 120,
   "metadata": {},
   "outputs": [
    {
     "data": {
      "text/plain": [
       "1"
      ]
     },
     "execution_count": 120,
     "metadata": {},
     "output_type": "execute_result"
    }
   ],
   "source": [
    "lenguajes.count(\"Java\")"
   ]
  },
  {
   "cell_type": "code",
   "execution_count": 114,
   "metadata": {
    "collapsed": true
   },
   "outputs": [],
   "source": [
    "lenguajes.reverse()"
   ]
  },
  {
   "cell_type": "code",
   "execution_count": 115,
   "metadata": {},
   "outputs": [
    {
     "data": {
      "text/plain": [
       "['Pascal', 'Scheme', 'Scheme', 'Java', 'Python', 'C++', 'C']"
      ]
     },
     "execution_count": 115,
     "metadata": {},
     "output_type": "execute_result"
    }
   ],
   "source": [
    "lenguajes"
   ]
  },
  {
   "cell_type": "code",
   "execution_count": 116,
   "metadata": {},
   "outputs": [
    {
     "data": {
      "text/plain": [
       "['C', 'C++', 'Java', 'Pascal', 'Python', 'Scheme', 'Scheme']"
      ]
     },
     "execution_count": 116,
     "metadata": {},
     "output_type": "execute_result"
    }
   ],
   "source": [
    "sorted(lenguajes)"
   ]
  },
  {
   "cell_type": "code",
   "execution_count": 117,
   "metadata": {
    "collapsed": true
   },
   "outputs": [],
   "source": [
    "lenguajes.sort()"
   ]
  },
  {
   "cell_type": "code",
   "execution_count": 118,
   "metadata": {},
   "outputs": [
    {
     "data": {
      "text/plain": [
       "['C', 'C++', 'Java', 'Pascal', 'Python', 'Scheme', 'Scheme']"
      ]
     },
     "execution_count": 118,
     "metadata": {},
     "output_type": "execute_result"
    }
   ],
   "source": [
    "lenguajes"
   ]
  },
  {
   "cell_type": "markdown",
   "metadata": {},
   "source": [
    "## Tuplas"
   ]
  },
  {
   "cell_type": "markdown",
   "metadata": {
    "collapsed": true
   },
   "source": [
    "Lo clave: son inmutables."
   ]
  },
  {
   "cell_type": "code",
   "execution_count": 1,
   "metadata": {
    "collapsed": true
   },
   "outputs": [],
   "source": [
    "tpl = (1, 100, 'asdf')"
   ]
  },
  {
   "cell_type": "code",
   "execution_count": 2,
   "metadata": {},
   "outputs": [
    {
     "data": {
      "text/plain": [
       "(1, 100, 'asdf')"
      ]
     },
     "execution_count": 2,
     "metadata": {},
     "output_type": "execute_result"
    }
   ],
   "source": [
    "tpl"
   ]
  },
  {
   "cell_type": "code",
   "execution_count": 3,
   "metadata": {},
   "outputs": [
    {
     "data": {
      "text/plain": [
       "1"
      ]
     },
     "execution_count": 3,
     "metadata": {},
     "output_type": "execute_result"
    }
   ],
   "source": [
    "tpl[0]"
   ]
  },
  {
   "cell_type": "code",
   "execution_count": 4,
   "metadata": {},
   "outputs": [
    {
     "ename": "TypeError",
     "evalue": "'tuple' object does not support item assignment",
     "output_type": "error",
     "traceback": [
      "\u001b[0;31m---------------------------------------------------------------------------\u001b[0m",
      "\u001b[0;31mTypeError\u001b[0m                                 Traceback (most recent call last)",
      "\u001b[0;32m<ipython-input-4-03b431f93bff>\u001b[0m in \u001b[0;36m<module>\u001b[0;34m()\u001b[0m\n\u001b[0;32m----> 1\u001b[0;31m \u001b[0mtpl\u001b[0m\u001b[0;34m[\u001b[0m\u001b[0;36m0\u001b[0m\u001b[0;34m]\u001b[0m \u001b[0;34m=\u001b[0m \u001b[0;36m8\u001b[0m\u001b[0;34m\u001b[0m\u001b[0m\n\u001b[0m",
      "\u001b[0;31mTypeError\u001b[0m: 'tuple' object does not support item assignment"
     ]
    }
   ],
   "source": [
    "tpl[0] = 8"
   ]
  },
  {
   "cell_type": "code",
   "execution_count": 5,
   "metadata": {},
   "outputs": [
    {
     "ename": "TypeError",
     "evalue": "'tuple' object doesn't support item deletion",
     "output_type": "error",
     "traceback": [
      "\u001b[0;31m---------------------------------------------------------------------------\u001b[0m",
      "\u001b[0;31mTypeError\u001b[0m                                 Traceback (most recent call last)",
      "\u001b[0;32m<ipython-input-5-b2f167b115da>\u001b[0m in \u001b[0;36m<module>\u001b[0;34m()\u001b[0m\n\u001b[0;32m----> 1\u001b[0;31m \u001b[0;32mdel\u001b[0m \u001b[0mtpl\u001b[0m\u001b[0;34m[\u001b[0m\u001b[0;36m0\u001b[0m\u001b[0;34m]\u001b[0m\u001b[0;34m\u001b[0m\u001b[0m\n\u001b[0m",
      "\u001b[0;31mTypeError\u001b[0m: 'tuple' object doesn't support item deletion"
     ]
    }
   ],
   "source": [
    "del tpl[0]"
   ]
  },
  {
   "cell_type": "markdown",
   "metadata": {},
   "source": [
    "### Strings"
   ]
  },
  {
   "cell_type": "code",
   "execution_count": 13,
   "metadata": {
    "collapsed": true
   },
   "outputs": [],
   "source": [
    "nombre = \"Juana Matallana\""
   ]
  },
  {
   "cell_type": "code",
   "execution_count": 7,
   "metadata": {},
   "outputs": [
    {
     "data": {
      "text/plain": [
       "15"
      ]
     },
     "execution_count": 7,
     "metadata": {},
     "output_type": "execute_result"
    }
   ],
   "source": [
    "len(nombre)"
   ]
  },
  {
   "cell_type": "code",
   "execution_count": 8,
   "metadata": {},
   "outputs": [
    {
     "ename": "IndexError",
     "evalue": "string index out of range",
     "output_type": "error",
     "traceback": [
      "\u001b[0;31m---------------------------------------------------------------------------\u001b[0m",
      "\u001b[0;31mIndexError\u001b[0m                                Traceback (most recent call last)",
      "\u001b[0;32m<ipython-input-8-264a74c9ea8c>\u001b[0m in \u001b[0;36m<module>\u001b[0;34m()\u001b[0m\n\u001b[0;32m----> 1\u001b[0;31m \u001b[0mnombre\u001b[0m\u001b[0;34m[\u001b[0m\u001b[0;36m15\u001b[0m\u001b[0;34m]\u001b[0m\u001b[0;34m\u001b[0m\u001b[0m\n\u001b[0m",
      "\u001b[0;31mIndexError\u001b[0m: string index out of range"
     ]
    }
   ],
   "source": [
    "nombre[15]"
   ]
  },
  {
   "cell_type": "code",
   "execution_count": 9,
   "metadata": {},
   "outputs": [
    {
     "data": {
      "text/plain": [
       "'a'"
      ]
     },
     "execution_count": 9,
     "metadata": {},
     "output_type": "execute_result"
    }
   ],
   "source": [
    "nombre[14]"
   ]
  },
  {
   "cell_type": "code",
   "execution_count": 10,
   "metadata": {},
   "outputs": [
    {
     "ename": "TypeError",
     "evalue": "'str' object does not support item assignment",
     "output_type": "error",
     "traceback": [
      "\u001b[0;31m---------------------------------------------------------------------------\u001b[0m",
      "\u001b[0;31mTypeError\u001b[0m                                 Traceback (most recent call last)",
      "\u001b[0;32m<ipython-input-10-c248b1191899>\u001b[0m in \u001b[0;36m<module>\u001b[0;34m()\u001b[0m\n\u001b[0;32m----> 1\u001b[0;31m \u001b[0mnombre\u001b[0m\u001b[0;34m[\u001b[0m\u001b[0;36m14\u001b[0m\u001b[0;34m]\u001b[0m \u001b[0;34m=\u001b[0m \u001b[0;34m'e'\u001b[0m\u001b[0;34m\u001b[0m\u001b[0m\n\u001b[0m",
      "\u001b[0;31mTypeError\u001b[0m: 'str' object does not support item assignment"
     ]
    }
   ],
   "source": [
    "nombre[14] = 'e'"
   ]
  },
  {
   "cell_type": "code",
   "execution_count": 14,
   "metadata": {},
   "outputs": [
    {
     "data": {
      "text/plain": [
       "'Juana Matallan'"
      ]
     },
     "execution_count": 14,
     "metadata": {},
     "output_type": "execute_result"
    }
   ],
   "source": [
    "nombre[0:-1]"
   ]
  },
  {
   "cell_type": "code",
   "execution_count": 15,
   "metadata": {},
   "outputs": [
    {
     "data": {
      "text/plain": [
       "'a'"
      ]
     },
     "execution_count": 15,
     "metadata": {},
     "output_type": "execute_result"
    }
   ],
   "source": [
    "nombre[-1]"
   ]
  },
  {
   "cell_type": "code",
   "execution_count": 17,
   "metadata": {},
   "outputs": [
    {
     "data": {
      "text/plain": [
       "'Juana Matallana'"
      ]
     },
     "execution_count": 17,
     "metadata": {},
     "output_type": "execute_result"
    }
   ],
   "source": [
    "nombre[0:len(nombre)]"
   ]
  },
  {
   "cell_type": "code",
   "execution_count": 18,
   "metadata": {},
   "outputs": [
    {
     "data": {
      "text/plain": [
       "str"
      ]
     },
     "execution_count": 18,
     "metadata": {},
     "output_type": "execute_result"
    }
   ],
   "source": [
    "type(nombre)"
   ]
  },
  {
   "cell_type": "code",
   "execution_count": 19,
   "metadata": {},
   "outputs": [
    {
     "name": "stdout",
     "output_type": "stream",
     "text": [
      "Help on class str in module builtins:\n",
      "\n",
      "class str(object)\n",
      " |  str(object='') -> str\n",
      " |  str(bytes_or_buffer[, encoding[, errors]]) -> str\n",
      " |  \n",
      " |  Create a new string object from the given object. If encoding or\n",
      " |  errors is specified, then the object must expose a data buffer\n",
      " |  that will be decoded using the given encoding and error handler.\n",
      " |  Otherwise, returns the result of object.__str__() (if defined)\n",
      " |  or repr(object).\n",
      " |  encoding defaults to sys.getdefaultencoding().\n",
      " |  errors defaults to 'strict'.\n",
      " |  \n",
      " |  Methods defined here:\n",
      " |  \n",
      " |  __add__(self, value, /)\n",
      " |      Return self+value.\n",
      " |  \n",
      " |  __contains__(self, key, /)\n",
      " |      Return key in self.\n",
      " |  \n",
      " |  __eq__(self, value, /)\n",
      " |      Return self==value.\n",
      " |  \n",
      " |  __format__(...)\n",
      " |      S.__format__(format_spec) -> str\n",
      " |      \n",
      " |      Return a formatted version of S as described by format_spec.\n",
      " |  \n",
      " |  __ge__(self, value, /)\n",
      " |      Return self>=value.\n",
      " |  \n",
      " |  __getattribute__(self, name, /)\n",
      " |      Return getattr(self, name).\n",
      " |  \n",
      " |  __getitem__(self, key, /)\n",
      " |      Return self[key].\n",
      " |  \n",
      " |  __getnewargs__(...)\n",
      " |  \n",
      " |  __gt__(self, value, /)\n",
      " |      Return self>value.\n",
      " |  \n",
      " |  __hash__(self, /)\n",
      " |      Return hash(self).\n",
      " |  \n",
      " |  __iter__(self, /)\n",
      " |      Implement iter(self).\n",
      " |  \n",
      " |  __le__(self, value, /)\n",
      " |      Return self<=value.\n",
      " |  \n",
      " |  __len__(self, /)\n",
      " |      Return len(self).\n",
      " |  \n",
      " |  __lt__(self, value, /)\n",
      " |      Return self<value.\n",
      " |  \n",
      " |  __mod__(self, value, /)\n",
      " |      Return self%value.\n",
      " |  \n",
      " |  __mul__(self, value, /)\n",
      " |      Return self*value.n\n",
      " |  \n",
      " |  __ne__(self, value, /)\n",
      " |      Return self!=value.\n",
      " |  \n",
      " |  __new__(*args, **kwargs) from builtins.type\n",
      " |      Create and return a new object.  See help(type) for accurate signature.\n",
      " |  \n",
      " |  __repr__(self, /)\n",
      " |      Return repr(self).\n",
      " |  \n",
      " |  __rmod__(self, value, /)\n",
      " |      Return value%self.\n",
      " |  \n",
      " |  __rmul__(self, value, /)\n",
      " |      Return self*value.\n",
      " |  \n",
      " |  __sizeof__(...)\n",
      " |      S.__sizeof__() -> size of S in memory, in bytes\n",
      " |  \n",
      " |  __str__(self, /)\n",
      " |      Return str(self).\n",
      " |  \n",
      " |  capitalize(...)\n",
      " |      S.capitalize() -> str\n",
      " |      \n",
      " |      Return a capitalized version of S, i.e. make the first character\n",
      " |      have upper case and the rest lower case.\n",
      " |  \n",
      " |  casefold(...)\n",
      " |      S.casefold() -> str\n",
      " |      \n",
      " |      Return a version of S suitable for caseless comparisons.\n",
      " |  \n",
      " |  center(...)\n",
      " |      S.center(width[, fillchar]) -> str\n",
      " |      \n",
      " |      Return S centered in a string of length width. Padding is\n",
      " |      done using the specified fill character (default is a space)\n",
      " |  \n",
      " |  count(...)\n",
      " |      S.count(sub[, start[, end]]) -> int\n",
      " |      \n",
      " |      Return the number of non-overlapping occurrences of substring sub in\n",
      " |      string S[start:end].  Optional arguments start and end are\n",
      " |      interpreted as in slice notation.\n",
      " |  \n",
      " |  encode(...)\n",
      " |      S.encode(encoding='utf-8', errors='strict') -> bytes\n",
      " |      \n",
      " |      Encode S using the codec registered for encoding. Default encoding\n",
      " |      is 'utf-8'. errors may be given to set a different error\n",
      " |      handling scheme. Default is 'strict' meaning that encoding errors raise\n",
      " |      a UnicodeEncodeError. Other possible values are 'ignore', 'replace' and\n",
      " |      'xmlcharrefreplace' as well as any other name registered with\n",
      " |      codecs.register_error that can handle UnicodeEncodeErrors.\n",
      " |  \n",
      " |  endswith(...)\n",
      " |      S.endswith(suffix[, start[, end]]) -> bool\n",
      " |      \n",
      " |      Return True if S ends with the specified suffix, False otherwise.\n",
      " |      With optional start, test S beginning at that position.\n",
      " |      With optional end, stop comparing S at that position.\n",
      " |      suffix can also be a tuple of strings to try.\n",
      " |  \n",
      " |  expandtabs(...)\n",
      " |      S.expandtabs(tabsize=8) -> str\n",
      " |      \n",
      " |      Return a copy of S where all tab characters are expanded using spaces.\n",
      " |      If tabsize is not given, a tab size of 8 characters is assumed.\n",
      " |  \n",
      " |  find(...)\n",
      " |      S.find(sub[, start[, end]]) -> int\n",
      " |      \n",
      " |      Return the lowest index in S where substring sub is found,\n",
      " |      such that sub is contained within S[start:end].  Optional\n",
      " |      arguments start and end are interpreted as in slice notation.\n",
      " |      \n",
      " |      Return -1 on failure.\n",
      " |  \n",
      " |  format(...)\n",
      " |      S.format(*args, **kwargs) -> str\n",
      " |      \n",
      " |      Return a formatted version of S, using substitutions from args and kwargs.\n",
      " |      The substitutions are identified by braces ('{' and '}').\n",
      " |  \n",
      " |  format_map(...)\n",
      " |      S.format_map(mapping) -> str\n",
      " |      \n",
      " |      Return a formatted version of S, using substitutions from mapping.\n",
      " |      The substitutions are identified by braces ('{' and '}').\n",
      " |  \n",
      " |  index(...)\n",
      " |      S.index(sub[, start[, end]]) -> int\n",
      " |      \n",
      " |      Like S.find() but raise ValueError when the substring is not found.\n",
      " |  \n",
      " |  isalnum(...)\n",
      " |      S.isalnum() -> bool\n",
      " |      \n",
      " |      Return True if all characters in S are alphanumeric\n",
      " |      and there is at least one character in S, False otherwise.\n",
      " |  \n",
      " |  isalpha(...)\n",
      " |      S.isalpha() -> bool\n",
      " |      \n",
      " |      Return True if all characters in S are alphabetic\n",
      " |      and there is at least one character in S, False otherwise.\n",
      " |  \n",
      " |  isdecimal(...)\n",
      " |      S.isdecimal() -> bool\n",
      " |      \n",
      " |      Return True if there are only decimal characters in S,\n",
      " |      False otherwise.\n",
      " |  \n",
      " |  isdigit(...)\n",
      " |      S.isdigit() -> bool\n",
      " |      \n",
      " |      Return True if all characters in S are digits\n",
      " |      and there is at least one character in S, False otherwise.\n",
      " |  \n",
      " |  isidentifier(...)\n",
      " |      S.isidentifier() -> bool\n",
      " |      \n",
      " |      Return True if S is a valid identifier according\n",
      " |      to the language definition.\n",
      " |      \n",
      " |      Use keyword.iskeyword() to test for reserved identifiers\n",
      " |      such as \"def\" and \"class\".\n",
      " |  \n",
      " |  islower(...)\n",
      " |      S.islower() -> bool\n",
      " |      \n",
      " |      Return True if all cased characters in S are lowercase and there is\n",
      " |      at least one cased character in S, False otherwise.\n",
      " |  \n",
      " |  isnumeric(...)\n",
      " |      S.isnumeric() -> bool\n",
      " |      \n",
      " |      Return True if there are only numeric characters in S,\n",
      " |      False otherwise.\n",
      " |  \n",
      " |  isprintable(...)\n",
      " |      S.isprintable() -> bool\n",
      " |      \n",
      " |      Return True if all characters in S are considered\n",
      " |      printable in repr() or S is empty, False otherwise.\n",
      " |  \n",
      " |  isspace(...)\n",
      " |      S.isspace() -> bool\n",
      " |      \n",
      " |      Return True if all characters in S are whitespace\n",
      " |      and there is at least one character in S, False otherwise.\n",
      " |  \n",
      " |  istitle(...)\n",
      " |      S.istitle() -> bool\n",
      " |      \n",
      " |      Return True if S is a titlecased string and there is at least one\n",
      " |      character in S, i.e. upper- and titlecase characters may only\n",
      " |      follow uncased characters and lowercase characters only cased ones.\n",
      " |      Return False otherwise.\n",
      " |  \n",
      " |  isupper(...)\n",
      " |      S.isupper() -> bool\n",
      " |      \n",
      " |      Return True if all cased characters in S are uppercase and there is\n",
      " |      at least one cased character in S, False otherwise.\n",
      " |  \n",
      " |  join(...)\n",
      " |      S.join(iterable) -> str\n",
      " |      \n",
      " |      Return a string which is the concatenation of the strings in the\n",
      " |      iterable.  The separator between elements is S.\n",
      " |  \n",
      " |  ljust(...)\n",
      " |      S.ljust(width[, fillchar]) -> str\n",
      " |      \n",
      " |      Return S left-justified in a Unicode string of length width. Padding is\n",
      " |      done using the specified fill character (default is a space).\n",
      " |  \n",
      " |  lower(...)\n",
      " |      S.lower() -> str\n",
      " |      \n",
      " |      Return a copy of the string S converted to lowercase.\n",
      " |  \n",
      " |  lstrip(...)\n",
      " |      S.lstrip([chars]) -> str\n",
      " |      \n",
      " |      Return a copy of the string S with leading whitespace removed.\n",
      " |      If chars is given and not None, remove characters in chars instead.\n",
      " |  \n",
      " |  partition(...)\n",
      " |      S.partition(sep) -> (head, sep, tail)\n",
      " |      \n",
      " |      Search for the separator sep in S, and return the part before it,\n",
      " |      the separator itself, and the part after it.  If the separator is not\n",
      " |      found, return S and two empty strings.\n",
      " |  \n",
      " |  replace(...)\n",
      " |      S.replace(old, new[, count]) -> str\n",
      " |      \n",
      " |      Return a copy of S with all occurrences of substring\n",
      " |      old replaced by new.  If the optional argument count is\n",
      " |      given, only the first count occurrences are replaced.\n",
      " |  \n",
      " |  rfind(...)\n",
      " |      S.rfind(sub[, start[, end]]) -> int\n",
      " |      \n",
      " |      Return the highest index in S where substring sub is found,\n",
      " |      such that sub is contained within S[start:end].  Optional\n",
      " |      arguments start and end are interpreted as in slice notation.\n",
      " |      \n",
      " |      Return -1 on failure.\n",
      " |  \n",
      " |  rindex(...)\n",
      " |      S.rindex(sub[, start[, end]]) -> int\n",
      " |      \n",
      " |      Like S.rfind() but raise ValueError when the substring is not found.\n",
      " |  \n",
      " |  rjust(...)\n",
      " |      S.rjust(width[, fillchar]) -> str\n",
      " |      \n",
      " |      Return S right-justified in a string of length width. Padding is\n",
      " |      done using the specified fill character (default is a space).\n",
      " |  \n",
      " |  rpartition(...)\n",
      " |      S.rpartition(sep) -> (head, sep, tail)\n",
      " |      \n",
      " |      Search for the separator sep in S, starting at the end of S, and return\n",
      " |      the part before it, the separator itself, and the part after it.  If the\n",
      " |      separator is not found, return two empty strings and S.\n",
      " |  \n",
      " |  rsplit(...)\n",
      " |      S.rsplit(sep=None, maxsplit=-1) -> list of strings\n",
      " |      \n",
      " |      Return a list of the words in S, using sep as the\n",
      " |      delimiter string, starting at the end of the string and\n",
      " |      working to the front.  If maxsplit is given, at most maxsplit\n",
      " |      splits are done. If sep is not specified, any whitespace string\n",
      " |      is a separator.\n",
      " |  \n",
      " |  rstrip(...)\n",
      " |      S.rstrip([chars]) -> str\n",
      " |      \n",
      " |      Return a copy of the string S with trailing whitespace removed.\n",
      " |      If chars is given and not None, remove characters in chars instead.\n",
      " |  \n",
      " |  split(...)\n",
      " |      S.split(sep=None, maxsplit=-1) -> list of strings\n",
      " |      \n",
      " |      Return a list of the words in S, using sep as the\n",
      " |      delimiter string.  If maxsplit is given, at most maxsplit\n",
      " |      splits are done. If sep is not specified or is None, any\n",
      " |      whitespace string is a separator and empty strings are\n",
      " |      removed from the result.\n",
      " |  \n",
      " |  splitlines(...)\n",
      " |      S.splitlines([keepends]) -> list of strings\n",
      " |      \n",
      " |      Return a list of the lines in S, breaking at line boundaries.\n",
      " |      Line breaks are not included in the resulting list unless keepends\n",
      " |      is given and true.\n",
      " |  \n",
      " |  startswith(...)\n",
      " |      S.startswith(prefix[, start[, end]]) -> bool\n",
      " |      \n",
      " |      Return True if S starts with the specified prefix, False otherwise.\n",
      " |      With optional start, test S beginning at that position.\n",
      " |      With optional end, stop comparing S at that position.\n",
      " |      prefix can also be a tuple of strings to try.\n",
      " |  \n",
      " |  strip(...)\n",
      " |      S.strip([chars]) -> str\n",
      " |      \n",
      " |      Return a copy of the string S with leading and trailing\n",
      " |      whitespace removed.\n",
      " |      If chars is given and not None, remove characters in chars instead.\n",
      " |  \n",
      " |  swapcase(...)\n",
      " |      S.swapcase() -> str\n",
      " |      \n",
      " |      Return a copy of S with uppercase characters converted to lowercase\n",
      " |      and vice versa.\n",
      " |  \n",
      " |  title(...)\n",
      " |      S.title() -> str\n",
      " |      \n",
      " |      Return a titlecased version of S, i.e. words start with title case\n",
      " |      characters, all remaining cased characters have lower case.\n",
      " |  \n",
      " |  translate(...)\n",
      " |      S.translate(table) -> str\n",
      " |      \n",
      " |      Return a copy of the string S in which each character has been mapped\n",
      " |      through the given translation table. The table must implement\n",
      " |      lookup/indexing via __getitem__, for instance a dictionary or list,\n",
      " |      mapping Unicode ordinals to Unicode ordinals, strings, or None. If\n",
      " |      this operation raises LookupError, the character is left untouched.\n",
      " |      Characters mapped to None are deleted.\n",
      " |  \n",
      " |  upper(...)\n",
      " |      S.upper() -> str\n",
      " |      \n",
      " |      Return a copy of S converted to uppercase.\n",
      " |  \n",
      " |  zfill(...)\n",
      " |      S.zfill(width) -> str\n",
      " |      \n",
      " |      Pad a numeric string S with zeros on the left, to fill a field\n",
      " |      of the specified width. The string S is never truncated.\n",
      " |  \n",
      " |  ----------------------------------------------------------------------\n",
      " |  Static methods defined here:\n",
      " |  \n",
      " |  maketrans(x, y=None, z=None, /)\n",
      " |      Return a translation table usable for str.translate().\n",
      " |      \n",
      " |      If there is only one argument, it must be a dictionary mapping Unicode\n",
      " |      ordinals (integers) or characters to Unicode ordinals, strings or None.\n",
      " |      Character keys will be then converted to ordinals.\n",
      " |      If there are two arguments, they must be strings of equal length, and\n",
      " |      in the resulting dictionary, each character in x will be mapped to the\n",
      " |      character at the same position in y. If there is a third argument, it\n",
      " |      must be a string, whose characters will be mapped to None in the result.\n",
      "\n"
     ]
    }
   ],
   "source": [
    "help(str)"
   ]
  },
  {
   "cell_type": "code",
   "execution_count": 20,
   "metadata": {},
   "outputs": [
    {
     "data": {
      "text/plain": [
       "'JUANA MATALLANA'"
      ]
     },
     "execution_count": 20,
     "metadata": {},
     "output_type": "execute_result"
    }
   ],
   "source": [
    "nombre.upper()"
   ]
  },
  {
   "cell_type": "code",
   "execution_count": 21,
   "metadata": {},
   "outputs": [
    {
     "data": {
      "text/plain": [
       "'Juana Matallana'"
      ]
     },
     "execution_count": 21,
     "metadata": {},
     "output_type": "execute_result"
    }
   ],
   "source": [
    "nombre"
   ]
  },
  {
   "cell_type": "code",
   "execution_count": 22,
   "metadata": {},
   "outputs": [
    {
     "data": {
      "text/plain": [
       "'juana matallana'"
      ]
     },
     "execution_count": 22,
     "metadata": {},
     "output_type": "execute_result"
    }
   ],
   "source": [
    "nombre.lower()"
   ]
  },
  {
   "cell_type": "code",
   "execution_count": 23,
   "metadata": {},
   "outputs": [
    {
     "data": {
      "text/plain": [
       "'Juana matallana'"
      ]
     },
     "execution_count": 23,
     "metadata": {},
     "output_type": "execute_result"
    }
   ],
   "source": [
    "nombre.capitalize()"
   ]
  },
  {
   "cell_type": "code",
   "execution_count": 24,
   "metadata": {},
   "outputs": [
    {
     "data": {
      "text/plain": [
       "'ASDF'"
      ]
     },
     "execution_count": 24,
     "metadata": {},
     "output_type": "execute_result"
    }
   ],
   "source": [
    "\"asdf\".upper()"
   ]
  },
  {
   "cell_type": "code",
   "execution_count": 25,
   "metadata": {},
   "outputs": [
    {
     "data": {
      "text/plain": [
       "'Juana'"
      ]
     },
     "execution_count": 25,
     "metadata": {},
     "output_type": "execute_result"
    }
   ],
   "source": [
    "nombre[:5]"
   ]
  },
  {
   "cell_type": "code",
   "execution_count": 26,
   "metadata": {},
   "outputs": [
    {
     "ename": "TypeError",
     "evalue": "'str' object does not support item assignment",
     "output_type": "error",
     "traceback": [
      "\u001b[0;31m---------------------------------------------------------------------------\u001b[0m",
      "\u001b[0;31mTypeError\u001b[0m                                 Traceback (most recent call last)",
      "\u001b[0;32m<ipython-input-26-980a7a89f619>\u001b[0m in \u001b[0;36m<module>\u001b[0;34m()\u001b[0m\n\u001b[0;32m----> 1\u001b[0;31m \u001b[0mnombre\u001b[0m\u001b[0;34m[\u001b[0m\u001b[0;34m:\u001b[0m\u001b[0;36m5\u001b[0m\u001b[0;34m]\u001b[0m \u001b[0;34m=\u001b[0m \u001b[0;34m\"Sofía\"\u001b[0m\u001b[0;34m\u001b[0m\u001b[0m\n\u001b[0m",
      "\u001b[0;31mTypeError\u001b[0m: 'str' object does not support item assignment"
     ]
    }
   ],
   "source": [
    "nombre[:5] = \"Sofía\""
   ]
  },
  {
   "cell_type": "markdown",
   "metadata": {},
   "source": [
    "Los strings son inmutables. (Siempre se puede definir una nueva variable o sobrescribir la existente.)"
   ]
  },
  {
   "cell_type": "code",
   "execution_count": 27,
   "metadata": {},
   "outputs": [
    {
     "data": {
      "text/plain": [
       "'10034'"
      ]
     },
     "execution_count": 27,
     "metadata": {},
     "output_type": "execute_result"
    }
   ],
   "source": [
    "'100' + '34'"
   ]
  },
  {
   "cell_type": "markdown",
   "metadata": {},
   "source": [
    "#### Funciones y métodos útiles para strings"
   ]
  },
  {
   "cell_type": "code",
   "execution_count": 28,
   "metadata": {},
   "outputs": [
    {
     "data": {
      "text/plain": [
       "2"
      ]
     },
     "execution_count": 28,
     "metadata": {},
     "output_type": "execute_result"
    }
   ],
   "source": [
    "nombre.find('a')"
   ]
  },
  {
   "cell_type": "code",
   "execution_count": 29,
   "metadata": {
    "collapsed": true
   },
   "outputs": [],
   "source": [
    "csv = \"Juana,Matallana,Rodríguez\""
   ]
  },
  {
   "cell_type": "code",
   "execution_count": 30,
   "metadata": {
    "collapsed": true
   },
   "outputs": [],
   "source": [
    "values = csv.split(\",\")"
   ]
  },
  {
   "cell_type": "code",
   "execution_count": 31,
   "metadata": {},
   "outputs": [
    {
     "data": {
      "text/plain": [
       "['Juana', 'Matallana', 'Rodríguez']"
      ]
     },
     "execution_count": 31,
     "metadata": {},
     "output_type": "execute_result"
    }
   ],
   "source": [
    "values"
   ]
  },
  {
   "cell_type": "code",
   "execution_count": 32,
   "metadata": {
    "collapsed": true
   },
   "outputs": [],
   "source": [
    "sep = \"|\""
   ]
  },
  {
   "cell_type": "code",
   "execution_count": 33,
   "metadata": {},
   "outputs": [
    {
     "data": {
      "text/plain": [
       "'Juana|Matallana|Rodríguez'"
      ]
     },
     "execution_count": 33,
     "metadata": {},
     "output_type": "execute_result"
    }
   ],
   "source": [
    "sep.join(values)"
   ]
  },
  {
   "cell_type": "code",
   "execution_count": 34,
   "metadata": {},
   "outputs": [
    {
     "data": {
      "text/plain": [
       "'Juana|Matallana|Rodríguez'"
      ]
     },
     "execution_count": 34,
     "metadata": {},
     "output_type": "execute_result"
    }
   ],
   "source": [
    "\"|\".join(values)"
   ]
  },
  {
   "cell_type": "code",
   "execution_count": 35,
   "metadata": {},
   "outputs": [
    {
     "data": {
      "text/plain": [
       "'juana'"
      ]
     },
     "execution_count": 35,
     "metadata": {},
     "output_type": "execute_result"
    }
   ],
   "source": [
    "\"JUANA\".lower()"
   ]
  },
  {
   "cell_type": "code",
   "execution_count": 36,
   "metadata": {
    "collapsed": true
   },
   "outputs": [],
   "source": [
    "values[2] = 5"
   ]
  },
  {
   "cell_type": "code",
   "execution_count": 37,
   "metadata": {},
   "outputs": [
    {
     "data": {
      "text/plain": [
       "['Juana', 'Matallana', 5]"
      ]
     },
     "execution_count": 37,
     "metadata": {},
     "output_type": "execute_result"
    }
   ],
   "source": [
    "values"
   ]
  },
  {
   "cell_type": "code",
   "execution_count": 38,
   "metadata": {},
   "outputs": [
    {
     "data": {
      "text/plain": [
       "'Se puede incluir valores y variables en un string usando llaves, así: 43 Juana Matallana'"
      ]
     },
     "execution_count": 38,
     "metadata": {},
     "output_type": "execute_result"
    }
   ],
   "source": [
    "\"Se puede incluir valores y variables en un string usando llaves, así: {} {}\".format(43, nombre)"
   ]
  },
  {
   "cell_type": "code",
   "execution_count": 39,
   "metadata": {
    "collapsed": true
   },
   "outputs": [],
   "source": [
    "PI = 3.141592653589793"
   ]
  },
  {
   "cell_type": "code",
   "execution_count": 40,
   "metadata": {},
   "outputs": [
    {
     "data": {
      "text/plain": [
       "'También se puede especificar el formato de un valor: 3.14'"
      ]
     },
     "execution_count": 40,
     "metadata": {},
     "output_type": "execute_result"
    }
   ],
   "source": [
    "\"También se puede especificar el formato de un valor: {:.2f}\".format(PI)"
   ]
  },
  {
   "cell_type": "code",
   "execution_count": 41,
   "metadata": {},
   "outputs": [
    {
     "data": {
      "text/plain": [
       "'También se puede especificar el formato de un valor: 3.1416'"
      ]
     },
     "execution_count": 41,
     "metadata": {},
     "output_type": "execute_result"
    }
   ],
   "source": [
    "\"También se puede especificar el formato de un valor: {:.4f}\".format(PI)"
   ]
  },
  {
   "cell_type": "code",
   "execution_count": 42,
   "metadata": {},
   "outputs": [
    {
     "data": {
      "text/plain": [
       "'También se puede especificar el formato de un valor: 3.1415926536'"
      ]
     },
     "execution_count": 42,
     "metadata": {},
     "output_type": "execute_result"
    }
   ],
   "source": [
    "\"También se puede especificar el formato de un valor: {:.10f}\".format(PI)"
   ]
  },
  {
   "cell_type": "markdown",
   "metadata": {},
   "source": [
    "https://docs.python.org/3/library/string.html"
   ]
  }
 ],
 "metadata": {
  "anaconda-cloud": {},
  "kernelspec": {
   "display_name": "Python 3",
   "language": "python",
   "name": "python3"
  },
  "language_info": {
   "codemirror_mode": {
    "name": "ipython",
    "version": 3
   },
   "file_extension": ".py",
   "mimetype": "text/x-python",
   "name": "python",
   "nbconvert_exporter": "python",
   "pygments_lexer": "ipython3",
   "version": "3.8.5"
  }
 },
 "nbformat": 4,
 "nbformat_minor": 1
}
