{
 "cells": [
  {
   "cell_type": "markdown",
   "metadata": {},
   "source": [
    "## 1. [Pensar como un computador] ¿Cuál es el valor de *w* después de ejecutar el siguiente código?"
   ]
  },
  {
   "cell_type": "code",
   "execution_count": null,
   "metadata": {},
   "outputs": [],
   "source": [
    "x = 7\n",
    "y = 5.0\n",
    "z = 10.0\n",
    "w = x % 2 + y / z + z + y / (z + z)"
   ]
  },
  {
   "cell_type": "code",
   "execution_count": null,
   "metadata": {},
   "outputs": [],
   "source": [
    "print (\"w =\", w)"
   ]
  },
  {
   "cell_type": "markdown",
   "metadata": {},
   "source": [
    "## 2. [Pensar como un computador] ¿Cuál es el valor de *c* después de ejecutar el siguiente código?"
   ]
  },
  {
   "cell_type": "code",
   "execution_count": null,
   "metadata": {},
   "outputs": [],
   "source": [
    "c = True\n",
    "d = False\n",
    "c = c and d\n",
    "c = not c or d"
   ]
  },
  {
   "cell_type": "markdown",
   "metadata": {},
   "source": [
    "## 4. Ejecute el siguiente código y responda: ¿Por qué es falsa la tercera línea, mientras que las primeras dos son verdaderas?"
   ]
  },
  {
   "cell_type": "code",
   "execution_count": null,
   "metadata": {},
   "outputs": [],
   "source": [
    "1 == 1\n",
    "\"1\" == \"1\"\n",
    "1 == \"1\""
   ]
  },
  {
   "cell_type": "markdown",
   "metadata": {},
   "source": [
    "## 5.[Pensar como un computador] Considere el siguiente código:"
   ]
  },
  {
   "cell_type": "code",
   "execution_count": null,
   "metadata": {},
   "outputs": [],
   "source": [
    "if x > 2:\n",
    "    if y > 2:\n",
    "        z = x + y\n",
    "        print(\"z es\", z)\n",
    "else:\n",
    "    print(\"x es\", x)"
   ]
  },
  {
   "cell_type": "markdown",
   "metadata": {},
   "source": [
    "¿Cuál es el resultado si\n",
    "\n",
    "a)  x = 2, y = 5?\n",
    "\n",
    "b)  x = 3, y = 1?\n",
    "\n",
    "c)  x = 1, y = 1? \n",
    "\n",
    "d)  x = 4, y = 3?"
   ]
  },
  {
   "cell_type": "markdown",
   "metadata": {},
   "source": [
    "## 6. [Pensar como un computador] ¿Cuál es el resultado del siguiente código y cuántas veces se recorre el loop?"
   ]
  },
  {
   "cell_type": "code",
   "execution_count": null,
   "metadata": {},
   "outputs": [],
   "source": [
    "i = 0\n",
    "while i < 10:\n",
    "    i = i + 1\n",
    "    if i % 2 == 0:\n",
    "        print(i)"
   ]
  },
  {
   "cell_type": "markdown",
   "metadata": {},
   "source": [
    "## 7. [Pensar como un computador] ¿Cuál es el resultado del siguiente código y cuántas veces se recorre el loop?"
   ]
  },
  {
   "cell_type": "code",
   "execution_count": null,
   "metadata": {},
   "outputs": [],
   "source": [
    "i = 0\n",
    "while i > 10:\n",
    "    i = i + 1\n",
    "    if i % 2 == 0:\n",
    "        print(i)"
   ]
  },
  {
   "cell_type": "markdown",
   "metadata": {},
   "source": [
    "## 5. Escriba un <font face=\"consolas\">for</font> loop que imprima todos los múltiplos de 3 desde 0 hasta 40  Esto es, 3, 6, 9,..., 39."
   ]
  },
  {
   "cell_type": "markdown",
   "metadata": {},
   "source": [
    "## 6. Escriba un loop que imprima todos los números entre 6 y 30 que no son divisibles por 2, 3 o 5."
   ]
  },
  {
   "cell_type": "markdown",
   "metadata": {},
   "source": [
    "## 7.\n",
    "Escriba un programa llamado \"Adivine ni número\". El computador generará aleatoriamente un entero entre 1 y 100. El usuario digita un número y el computador responde \"Menor\" si el número aleatorio es menor que el escogido por el usuario, \"Mayor\" si el número aleatorio es mayor, y \"¡Correcto!\" si el usuario adivina el número. El jugador puede continuar ingresando números hasta que adivine correctamente.\n",
    "\n",
    "**Ejemplo:**\n",
    "- El número aleatorio es 79.\n",
    "- El computador muestra el texto \"Adivine el número entre 1 y 100:\" y espera a que el usuario lo digite.\n",
    "- El usuario digita el número que está abajo en itálicas.\n",
    "- El computador devuelve uno de tres textos, según el caso: \"Mayor\", \"Menor\", o \"¡Correcto!\"."
   ]
  },
  {
   "cell_type": "markdown",
   "metadata": {},
   "source": [
    "<font color=\"green\">Adivine el número entre 1 y 100: *40*<br>\n",
    "<font face=\"consolas\">Mayor</font>\n",
    "\n",
    "Adivine el número entre 1 y 100: *70*\n",
    "<font face=\"consolas\">Mayor</font>\n",
    "\n",
    "Adivine el número entre 1 y 100: *80*\n",
    "<font face=\"consolas\">Menor</font>\n",
    "\n",
    "Adivine el número entre 1 y 100: *77*\n",
    "<font face=\"consolas\">Mayor</font>\n",
    "\n",
    "Adivine el número entre 1 y 100: *79*\n",
    "<font face=\"consolas\">¡Correcto!</font></font>"
   ]
  },
  {
   "cell_type": "markdown",
   "metadata": {},
   "source": [
    "**¿Cómo generar números aleatorios en Python?**\n",
    "\n",
    "- Al comienzo de su programa escriba: <font face=\"consolas\" color=\"green\">import random</font>\n",
    "- Para generar un número aleatorio entre 1 y 100 escriba: <font face=\"consolas\" color=\"green\">random.randint(1, 100)</font>"
   ]
  },
  {
   "cell_type": "markdown",
   "metadata": {},
   "source": [
    "**Pistas:**\n",
    "\n",
    "- Piense en qué estructuras de control le sirven para resolver el problema.\n",
    "- ¿Cómo determina si el número es mayor, menor o correcto?\n",
    "- ¿Cómo le da turnos adicionales al usuario para adivinar, dependiendo de si en el turno anterior adivinó o no?"
   ]
  },
  {
   "cell_type": "code",
   "execution_count": null,
   "metadata": {},
   "outputs": [],
   "source": []
  }
 ],
 "metadata": {
  "kernelspec": {
   "display_name": "Python 3",
   "language": "python",
   "name": "python3"
  },
  "language_info": {
   "codemirror_mode": {
    "name": "ipython",
    "version": 3
   },
   "file_extension": ".py",
   "mimetype": "text/x-python",
   "name": "python",
   "nbconvert_exporter": "python",
   "pygments_lexer": "ipython3",
   "version": "3.8.5"
  }
 },
 "nbformat": 4,
 "nbformat_minor": 4
}
